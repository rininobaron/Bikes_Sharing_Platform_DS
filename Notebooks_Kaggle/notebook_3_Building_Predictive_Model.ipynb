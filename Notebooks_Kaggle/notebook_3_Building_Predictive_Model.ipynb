{
 "cells": [
  {
   "cell_type": "markdown",
   "id": "61e217a1",
   "metadata": {
    "papermill": {
     "duration": 0.009998,
     "end_time": "2022-08-28T08:35:44.167450",
     "exception": false,
     "start_time": "2022-08-28T08:35:44.157452",
     "status": "completed"
    },
    "tags": []
   },
   "source": [
    "# 3.- Predictive Model"
   ]
  },
  {
   "cell_type": "code",
   "execution_count": 1,
   "id": "f5235f0a",
   "metadata": {
    "execution": {
     "iopub.execute_input": "2022-08-28T08:35:44.185335Z",
     "iopub.status.busy": "2022-08-28T08:35:44.184754Z",
     "iopub.status.idle": "2022-08-28T08:35:46.269293Z",
     "shell.execute_reply": "2022-08-28T08:35:46.267578Z"
    },
    "papermill": {
     "duration": 2.098501,
     "end_time": "2022-08-28T08:35:46.273435",
     "exception": false,
     "start_time": "2022-08-28T08:35:44.174934",
     "status": "completed"
    },
    "tags": []
   },
   "outputs": [],
   "source": [
    "import pandas as pd\n",
    "from sklearn.ensemble import RandomForestClassifier\n",
    "import time\n",
    "import numpy as np\n",
    "import matplotlib.pyplot as plt\n",
    "from scipy import stats\n",
    "from sklearn.pipeline import Pipeline\n",
    "from sklearn.preprocessing import StandardScaler\n",
    "from sklearn.model_selection import train_test_split"
   ]
  },
  {
   "cell_type": "code",
   "execution_count": 2,
   "id": "e18028d0",
   "metadata": {
    "execution": {
     "iopub.execute_input": "2022-08-28T08:35:46.297039Z",
     "iopub.status.busy": "2022-08-28T08:35:46.296165Z",
     "iopub.status.idle": "2022-08-28T08:35:53.450002Z",
     "shell.execute_reply": "2022-08-28T08:35:53.444939Z"
    },
    "papermill": {
     "duration": 7.174646,
     "end_time": "2022-08-28T08:35:53.457793",
     "exception": false,
     "start_time": "2022-08-28T08:35:46.283147",
     "status": "completed"
    },
    "tags": []
   },
   "outputs": [],
   "source": [
    "train_df= pd.read_csv('../input/arkon-data-bikes-train-final/train_set_final.csv')\n",
    "test_df= pd.read_csv('../input/arkon-data-bikes-test-final/test_set_final.csv')\n",
    "df_means = pd.read_csv('../input/arkon-data-bikes-means-dict/means_dict.csv')"
   ]
  },
  {
   "cell_type": "code",
   "execution_count": 3,
   "id": "5aa40bc2",
   "metadata": {
    "execution": {
     "iopub.execute_input": "2022-08-28T08:35:53.490032Z",
     "iopub.status.busy": "2022-08-28T08:35:53.487162Z",
     "iopub.status.idle": "2022-08-28T08:35:53.500376Z",
     "shell.execute_reply": "2022-08-28T08:35:53.498634Z"
    },
    "papermill": {
     "duration": 0.033819,
     "end_time": "2022-08-28T08:35:53.505080",
     "exception": false,
     "start_time": "2022-08-28T08:35:53.471261",
     "status": "completed"
    },
    "tags": []
   },
   "outputs": [
    {
     "name": "stdout",
     "output_type": "stream",
     "text": [
      "697424\n",
      "569886\n"
     ]
    }
   ],
   "source": [
    "print(len(train_df))\n",
    "print(len(test_df))"
   ]
  },
  {
   "cell_type": "markdown",
   "id": "84cdfcdc",
   "metadata": {
    "papermill": {
     "duration": 0.008505,
     "end_time": "2022-08-28T08:35:53.521966",
     "exception": false,
     "start_time": "2022-08-28T08:35:53.513461",
     "status": "completed"
    },
    "tags": []
   },
   "source": [
    "## 3.1.- Data Wrangling"
   ]
  },
  {
   "cell_type": "markdown",
   "id": "379371f6",
   "metadata": {
    "papermill": {
     "duration": 0.008072,
     "end_time": "2022-08-28T08:35:53.537938",
     "exception": false,
     "start_time": "2022-08-28T08:35:53.529866",
     "status": "completed"
    },
    "tags": []
   },
   "source": [
    "### Data time 'start_time', 'end_time'"
   ]
  },
  {
   "cell_type": "code",
   "execution_count": 4,
   "id": "6bf2aa63",
   "metadata": {
    "execution": {
     "iopub.execute_input": "2022-08-28T08:35:53.560175Z",
     "iopub.status.busy": "2022-08-28T08:35:53.559087Z",
     "iopub.status.idle": "2022-08-28T08:35:54.386055Z",
     "shell.execute_reply": "2022-08-28T08:35:54.383791Z"
    },
    "papermill": {
     "duration": 0.843632,
     "end_time": "2022-08-28T08:35:54.392468",
     "exception": false,
     "start_time": "2022-08-28T08:35:53.548836",
     "status": "completed"
    },
    "tags": []
   },
   "outputs": [],
   "source": [
    "columns = ['start_time', 'end_time']\n",
    "for column in columns:\n",
    "    train_df[column] = pd.to_datetime(train_df[column])\n",
    "    train_df[column] = pd.to_numeric(train_df[column])\n",
    "    test_df[column] = pd.to_datetime(test_df[column])\n",
    "    test_df[column] = pd.to_numeric(test_df[column])"
   ]
  },
  {
   "cell_type": "code",
   "execution_count": 5,
   "id": "52fb8ead",
   "metadata": {
    "execution": {
     "iopub.execute_input": "2022-08-28T08:35:54.414415Z",
     "iopub.status.busy": "2022-08-28T08:35:54.413844Z",
     "iopub.status.idle": "2022-08-28T08:35:54.425270Z",
     "shell.execute_reply": "2022-08-28T08:35:54.423883Z"
    },
    "papermill": {
     "duration": 0.025462,
     "end_time": "2022-08-28T08:35:54.428436",
     "exception": false,
     "start_time": "2022-08-28T08:35:54.402974",
     "status": "completed"
    },
    "tags": []
   },
   "outputs": [
    {
     "data": {
      "text/plain": [
       "Index(['duration', 'start_time', 'end_time', 'start_lat', 'start_lon',\n",
       "       'end_lat', 'end_lon', 'passholder_type', 'start_station', 'end_station',\n",
       "       'One Way', 'Round Trip'],\n",
       "      dtype='object')"
      ]
     },
     "execution_count": 5,
     "metadata": {},
     "output_type": "execute_result"
    }
   ],
   "source": [
    "train_df.columns"
   ]
  },
  {
   "cell_type": "code",
   "execution_count": 6,
   "id": "d607e9dc",
   "metadata": {
    "execution": {
     "iopub.execute_input": "2022-08-28T08:35:54.450374Z",
     "iopub.status.busy": "2022-08-28T08:35:54.449693Z",
     "iopub.status.idle": "2022-08-28T08:35:54.468740Z",
     "shell.execute_reply": "2022-08-28T08:35:54.465704Z"
    },
    "papermill": {
     "duration": 0.037277,
     "end_time": "2022-08-28T08:35:54.474749",
     "exception": false,
     "start_time": "2022-08-28T08:35:54.437472",
     "status": "completed"
    },
    "tags": []
   },
   "outputs": [
    {
     "data": {
      "text/plain": [
       "duration             int64\n",
       "start_time           int64\n",
       "end_time             int64\n",
       "start_lat          float64\n",
       "start_lon          float64\n",
       "end_lat            float64\n",
       "end_lon            float64\n",
       "passholder_type     object\n",
       "start_station        int64\n",
       "end_station          int64\n",
       "One Way              int64\n",
       "Round Trip           int64\n",
       "dtype: object"
      ]
     },
     "execution_count": 6,
     "metadata": {},
     "output_type": "execute_result"
    }
   ],
   "source": [
    "train_df.dtypes"
   ]
  },
  {
   "cell_type": "markdown",
   "id": "0cf80008",
   "metadata": {
    "papermill": {
     "duration": 0.010426,
     "end_time": "2022-08-28T08:35:54.498102",
     "exception": false,
     "start_time": "2022-08-28T08:35:54.487676",
     "status": "completed"
    },
    "tags": []
   },
   "source": [
    "## 3.2.- Correlation and Causation"
   ]
  },
  {
   "cell_type": "code",
   "execution_count": 7,
   "id": "7f3232d7",
   "metadata": {
    "execution": {
     "iopub.execute_input": "2022-08-28T08:35:54.526434Z",
     "iopub.status.busy": "2022-08-28T08:35:54.523280Z",
     "iopub.status.idle": "2022-08-28T08:35:55.314758Z",
     "shell.execute_reply": "2022-08-28T08:35:55.312949Z"
    },
    "papermill": {
     "duration": 0.811062,
     "end_time": "2022-08-28T08:35:55.321004",
     "exception": false,
     "start_time": "2022-08-28T08:35:54.509942",
     "status": "completed"
    },
    "tags": []
   },
   "outputs": [
    {
     "data": {
      "text/html": [
       "<div>\n",
       "<style scoped>\n",
       "    .dataframe tbody tr th:only-of-type {\n",
       "        vertical-align: middle;\n",
       "    }\n",
       "\n",
       "    .dataframe tbody tr th {\n",
       "        vertical-align: top;\n",
       "    }\n",
       "\n",
       "    .dataframe thead th {\n",
       "        text-align: right;\n",
       "    }\n",
       "</style>\n",
       "<table border=\"1\" class=\"dataframe\">\n",
       "  <thead>\n",
       "    <tr style=\"text-align: right;\">\n",
       "      <th></th>\n",
       "      <th>duration</th>\n",
       "      <th>start_time</th>\n",
       "      <th>end_time</th>\n",
       "      <th>start_lat</th>\n",
       "      <th>start_lon</th>\n",
       "      <th>end_lat</th>\n",
       "      <th>end_lon</th>\n",
       "      <th>start_station</th>\n",
       "      <th>end_station</th>\n",
       "      <th>One Way</th>\n",
       "      <th>Round Trip</th>\n",
       "    </tr>\n",
       "  </thead>\n",
       "  <tbody>\n",
       "    <tr>\n",
       "      <th>count</th>\n",
       "      <td>697424.000000</td>\n",
       "      <td>6.974240e+05</td>\n",
       "      <td>6.974240e+05</td>\n",
       "      <td>697424.000000</td>\n",
       "      <td>697424.000000</td>\n",
       "      <td>697424.000000</td>\n",
       "      <td>697424.000000</td>\n",
       "      <td>697424.000000</td>\n",
       "      <td>697424.000000</td>\n",
       "      <td>697424.000000</td>\n",
       "      <td>697424.000000</td>\n",
       "    </tr>\n",
       "    <tr>\n",
       "      <th>mean</th>\n",
       "      <td>37.121791</td>\n",
       "      <td>1.554618e+18</td>\n",
       "      <td>1.554621e+18</td>\n",
       "      <td>34.044943</td>\n",
       "      <td>-118.253648</td>\n",
       "      <td>34.044164</td>\n",
       "      <td>-118.259001</td>\n",
       "      <td>3498.258001</td>\n",
       "      <td>3488.266770</td>\n",
       "      <td>0.831569</td>\n",
       "      <td>0.168431</td>\n",
       "    </tr>\n",
       "    <tr>\n",
       "      <th>std</th>\n",
       "      <td>125.456893</td>\n",
       "      <td>4.323039e+16</td>\n",
       "      <td>4.323083e+16</td>\n",
       "      <td>0.324552</td>\n",
       "      <td>2.327632</td>\n",
       "      <td>0.296256</td>\n",
       "      <td>2.105205</td>\n",
       "      <td>615.226985</td>\n",
       "      <td>612.326177</td>\n",
       "      <td>0.374249</td>\n",
       "      <td>0.374249</td>\n",
       "    </tr>\n",
       "    <tr>\n",
       "      <th>min</th>\n",
       "      <td>1.000000</td>\n",
       "      <td>1.475283e+18</td>\n",
       "      <td>1.475283e+18</td>\n",
       "      <td>33.710979</td>\n",
       "      <td>-118.495422</td>\n",
       "      <td>33.710979</td>\n",
       "      <td>-118.495422</td>\n",
       "      <td>3000.000000</td>\n",
       "      <td>3000.000000</td>\n",
       "      <td>0.000000</td>\n",
       "      <td>0.000000</td>\n",
       "    </tr>\n",
       "    <tr>\n",
       "      <th>25%</th>\n",
       "      <td>7.000000</td>\n",
       "      <td>1.520170e+18</td>\n",
       "      <td>1.520173e+18</td>\n",
       "      <td>34.037460</td>\n",
       "      <td>-118.280930</td>\n",
       "      <td>34.038609</td>\n",
       "      <td>-118.279762</td>\n",
       "      <td>3031.000000</td>\n",
       "      <td>3030.000000</td>\n",
       "      <td>1.000000</td>\n",
       "      <td>0.000000</td>\n",
       "    </tr>\n",
       "    <tr>\n",
       "      <th>50%</th>\n",
       "      <td>13.000000</td>\n",
       "      <td>1.552995e+18</td>\n",
       "      <td>1.552996e+18</td>\n",
       "      <td>34.046612</td>\n",
       "      <td>-118.256668</td>\n",
       "      <td>34.046520</td>\n",
       "      <td>-118.256981</td>\n",
       "      <td>3064.000000</td>\n",
       "      <td>3064.000000</td>\n",
       "      <td>1.000000</td>\n",
       "      <td>0.000000</td>\n",
       "    </tr>\n",
       "    <tr>\n",
       "      <th>75%</th>\n",
       "      <td>26.000000</td>\n",
       "      <td>1.585333e+18</td>\n",
       "      <td>1.585335e+18</td>\n",
       "      <td>34.051941</td>\n",
       "      <td>-118.247162</td>\n",
       "      <td>34.050911</td>\n",
       "      <td>-118.247162</td>\n",
       "      <td>4214.000000</td>\n",
       "      <td>4214.000000</td>\n",
       "      <td>1.000000</td>\n",
       "      <td>0.000000</td>\n",
       "    </tr>\n",
       "    <tr>\n",
       "      <th>max</th>\n",
       "      <td>1440.000000</td>\n",
       "      <td>1.640991e+18</td>\n",
       "      <td>1.641111e+18</td>\n",
       "      <td>55.705528</td>\n",
       "      <td>118.238258</td>\n",
       "      <td>55.705528</td>\n",
       "      <td>37.606541</td>\n",
       "      <td>4594.000000</td>\n",
       "      <td>4594.000000</td>\n",
       "      <td>1.000000</td>\n",
       "      <td>1.000000</td>\n",
       "    </tr>\n",
       "  </tbody>\n",
       "</table>\n",
       "</div>"
      ],
      "text/plain": [
       "            duration    start_time      end_time      start_lat  \\\n",
       "count  697424.000000  6.974240e+05  6.974240e+05  697424.000000   \n",
       "mean       37.121791  1.554618e+18  1.554621e+18      34.044943   \n",
       "std       125.456893  4.323039e+16  4.323083e+16       0.324552   \n",
       "min         1.000000  1.475283e+18  1.475283e+18      33.710979   \n",
       "25%         7.000000  1.520170e+18  1.520173e+18      34.037460   \n",
       "50%        13.000000  1.552995e+18  1.552996e+18      34.046612   \n",
       "75%        26.000000  1.585333e+18  1.585335e+18      34.051941   \n",
       "max      1440.000000  1.640991e+18  1.641111e+18      55.705528   \n",
       "\n",
       "           start_lon        end_lat        end_lon  start_station  \\\n",
       "count  697424.000000  697424.000000  697424.000000  697424.000000   \n",
       "mean     -118.253648      34.044164    -118.259001    3498.258001   \n",
       "std         2.327632       0.296256       2.105205     615.226985   \n",
       "min      -118.495422      33.710979    -118.495422    3000.000000   \n",
       "25%      -118.280930      34.038609    -118.279762    3031.000000   \n",
       "50%      -118.256668      34.046520    -118.256981    3064.000000   \n",
       "75%      -118.247162      34.050911    -118.247162    4214.000000   \n",
       "max       118.238258      55.705528      37.606541    4594.000000   \n",
       "\n",
       "         end_station        One Way     Round Trip  \n",
       "count  697424.000000  697424.000000  697424.000000  \n",
       "mean     3488.266770       0.831569       0.168431  \n",
       "std       612.326177       0.374249       0.374249  \n",
       "min      3000.000000       0.000000       0.000000  \n",
       "25%      3030.000000       1.000000       0.000000  \n",
       "50%      3064.000000       1.000000       0.000000  \n",
       "75%      4214.000000       1.000000       0.000000  \n",
       "max      4594.000000       1.000000       1.000000  "
      ]
     },
     "execution_count": 7,
     "metadata": {},
     "output_type": "execute_result"
    }
   ],
   "source": [
    "train_df.describe()"
   ]
  },
  {
   "cell_type": "code",
   "execution_count": 8,
   "id": "a6b5360b",
   "metadata": {
    "execution": {
     "iopub.execute_input": "2022-08-28T08:35:55.351971Z",
     "iopub.status.busy": "2022-08-28T08:35:55.350794Z",
     "iopub.status.idle": "2022-08-28T08:35:55.412784Z",
     "shell.execute_reply": "2022-08-28T08:35:55.408768Z"
    },
    "papermill": {
     "duration": 0.088268,
     "end_time": "2022-08-28T08:35:55.420176",
     "exception": false,
     "start_time": "2022-08-28T08:35:55.331908",
     "status": "completed"
    },
    "tags": []
   },
   "outputs": [],
   "source": [
    "temp_df = train_df.copy()"
   ]
  },
  {
   "cell_type": "code",
   "execution_count": 9,
   "id": "ee4e5a51",
   "metadata": {
    "execution": {
     "iopub.execute_input": "2022-08-28T08:35:55.449379Z",
     "iopub.status.busy": "2022-08-28T08:35:55.446685Z",
     "iopub.status.idle": "2022-08-28T08:35:55.957204Z",
     "shell.execute_reply": "2022-08-28T08:35:55.953237Z"
    },
    "papermill": {
     "duration": 0.53493,
     "end_time": "2022-08-28T08:35:55.966204",
     "exception": false,
     "start_time": "2022-08-28T08:35:55.431274",
     "status": "completed"
    },
    "tags": []
   },
   "outputs": [],
   "source": [
    "pass_list = list(temp_df['passholder_type'].unique())\n",
    "index_list = list(range(len(pass_list)))\n",
    "temp_df['passholder_type'].replace(pass_list, index_list, inplace=True)"
   ]
  },
  {
   "cell_type": "code",
   "execution_count": 10,
   "id": "a4db0dfc",
   "metadata": {
    "execution": {
     "iopub.execute_input": "2022-08-28T08:35:55.994956Z",
     "iopub.status.busy": "2022-08-28T08:35:55.993794Z",
     "iopub.status.idle": "2022-08-28T08:35:56.541294Z",
     "shell.execute_reply": "2022-08-28T08:35:56.539150Z"
    },
    "papermill": {
     "duration": 0.567209,
     "end_time": "2022-08-28T08:35:56.545153",
     "exception": false,
     "start_time": "2022-08-28T08:35:55.977944",
     "status": "completed"
    },
    "tags": []
   },
   "outputs": [
    {
     "data": {
      "text/html": [
       "<div>\n",
       "<style scoped>\n",
       "    .dataframe tbody tr th:only-of-type {\n",
       "        vertical-align: middle;\n",
       "    }\n",
       "\n",
       "    .dataframe tbody tr th {\n",
       "        vertical-align: top;\n",
       "    }\n",
       "\n",
       "    .dataframe thead th {\n",
       "        text-align: right;\n",
       "    }\n",
       "</style>\n",
       "<table border=\"1\" class=\"dataframe\">\n",
       "  <thead>\n",
       "    <tr style=\"text-align: right;\">\n",
       "      <th></th>\n",
       "      <th>duration</th>\n",
       "      <th>start_time</th>\n",
       "      <th>end_time</th>\n",
       "      <th>start_lat</th>\n",
       "      <th>start_lon</th>\n",
       "      <th>end_lat</th>\n",
       "      <th>end_lon</th>\n",
       "      <th>passholder_type</th>\n",
       "      <th>start_station</th>\n",
       "      <th>end_station</th>\n",
       "      <th>One Way</th>\n",
       "      <th>Round Trip</th>\n",
       "    </tr>\n",
       "  </thead>\n",
       "  <tbody>\n",
       "    <tr>\n",
       "      <th>duration</th>\n",
       "      <td>1.000000</td>\n",
       "      <td>0.035549</td>\n",
       "      <td>0.035831</td>\n",
       "      <td>-0.005084</td>\n",
       "      <td>0.000851</td>\n",
       "      <td>-0.005934</td>\n",
       "      <td>-0.000012</td>\n",
       "      <td>-0.085603</td>\n",
       "      <td>0.097765</td>\n",
       "      <td>0.054791</td>\n",
       "      <td>-0.090433</td>\n",
       "      <td>0.090433</td>\n",
       "    </tr>\n",
       "    <tr>\n",
       "      <th>start_time</th>\n",
       "      <td>0.035549</td>\n",
       "      <td>1.000000</td>\n",
       "      <td>1.000000</td>\n",
       "      <td>0.001703</td>\n",
       "      <td>0.002195</td>\n",
       "      <td>0.000180</td>\n",
       "      <td>0.000660</td>\n",
       "      <td>0.090778</td>\n",
       "      <td>0.377325</td>\n",
       "      <td>0.366819</td>\n",
       "      <td>-0.084967</td>\n",
       "      <td>0.084967</td>\n",
       "    </tr>\n",
       "    <tr>\n",
       "      <th>end_time</th>\n",
       "      <td>0.035831</td>\n",
       "      <td>1.000000</td>\n",
       "      <td>1.000000</td>\n",
       "      <td>0.001702</td>\n",
       "      <td>0.002195</td>\n",
       "      <td>0.000179</td>\n",
       "      <td>0.000660</td>\n",
       "      <td>0.090759</td>\n",
       "      <td>0.377342</td>\n",
       "      <td>0.366819</td>\n",
       "      <td>-0.084979</td>\n",
       "      <td>0.084979</td>\n",
       "    </tr>\n",
       "    <tr>\n",
       "      <th>start_lat</th>\n",
       "      <td>-0.005084</td>\n",
       "      <td>0.001703</td>\n",
       "      <td>0.001702</td>\n",
       "      <td>1.000000</td>\n",
       "      <td>0.983255</td>\n",
       "      <td>0.595223</td>\n",
       "      <td>0.582731</td>\n",
       "      <td>0.021291</td>\n",
       "      <td>-0.003975</td>\n",
       "      <td>-0.004723</td>\n",
       "      <td>0.017801</td>\n",
       "      <td>-0.017801</td>\n",
       "    </tr>\n",
       "    <tr>\n",
       "      <th>start_lon</th>\n",
       "      <td>0.000851</td>\n",
       "      <td>0.002195</td>\n",
       "      <td>0.002195</td>\n",
       "      <td>0.983255</td>\n",
       "      <td>1.000000</td>\n",
       "      <td>0.576917</td>\n",
       "      <td>0.583762</td>\n",
       "      <td>0.006509</td>\n",
       "      <td>0.002462</td>\n",
       "      <td>0.002459</td>\n",
       "      <td>-0.005758</td>\n",
       "      <td>0.005758</td>\n",
       "    </tr>\n",
       "    <tr>\n",
       "      <th>end_lat</th>\n",
       "      <td>-0.005934</td>\n",
       "      <td>0.000180</td>\n",
       "      <td>0.000179</td>\n",
       "      <td>0.595223</td>\n",
       "      <td>0.576917</td>\n",
       "      <td>1.000000</td>\n",
       "      <td>0.989010</td>\n",
       "      <td>0.019787</td>\n",
       "      <td>-0.007762</td>\n",
       "      <td>-0.006796</td>\n",
       "      <td>0.018340</td>\n",
       "      <td>-0.018340</td>\n",
       "    </tr>\n",
       "    <tr>\n",
       "      <th>end_lon</th>\n",
       "      <td>-0.000012</td>\n",
       "      <td>0.000660</td>\n",
       "      <td>0.000660</td>\n",
       "      <td>0.582731</td>\n",
       "      <td>0.583762</td>\n",
       "      <td>0.989010</td>\n",
       "      <td>1.000000</td>\n",
       "      <td>0.004931</td>\n",
       "      <td>-0.001238</td>\n",
       "      <td>-0.001088</td>\n",
       "      <td>-0.007488</td>\n",
       "      <td>0.007488</td>\n",
       "    </tr>\n",
       "    <tr>\n",
       "      <th>passholder_type</th>\n",
       "      <td>-0.085603</td>\n",
       "      <td>0.090778</td>\n",
       "      <td>0.090759</td>\n",
       "      <td>0.021291</td>\n",
       "      <td>0.006509</td>\n",
       "      <td>0.019787</td>\n",
       "      <td>0.004931</td>\n",
       "      <td>1.000000</td>\n",
       "      <td>-0.094502</td>\n",
       "      <td>-0.093104</td>\n",
       "      <td>0.160680</td>\n",
       "      <td>-0.160680</td>\n",
       "    </tr>\n",
       "    <tr>\n",
       "      <th>start_station</th>\n",
       "      <td>0.097765</td>\n",
       "      <td>0.377325</td>\n",
       "      <td>0.377342</td>\n",
       "      <td>-0.003975</td>\n",
       "      <td>0.002462</td>\n",
       "      <td>-0.007762</td>\n",
       "      <td>-0.001238</td>\n",
       "      <td>-0.094502</td>\n",
       "      <td>1.000000</td>\n",
       "      <td>0.802598</td>\n",
       "      <td>-0.241523</td>\n",
       "      <td>0.241523</td>\n",
       "    </tr>\n",
       "    <tr>\n",
       "      <th>end_station</th>\n",
       "      <td>0.054791</td>\n",
       "      <td>0.366819</td>\n",
       "      <td>0.366819</td>\n",
       "      <td>-0.004723</td>\n",
       "      <td>0.002459</td>\n",
       "      <td>-0.006796</td>\n",
       "      <td>-0.001088</td>\n",
       "      <td>-0.093104</td>\n",
       "      <td>0.802598</td>\n",
       "      <td>1.000000</td>\n",
       "      <td>-0.250008</td>\n",
       "      <td>0.250008</td>\n",
       "    </tr>\n",
       "    <tr>\n",
       "      <th>One Way</th>\n",
       "      <td>-0.090433</td>\n",
       "      <td>-0.084967</td>\n",
       "      <td>-0.084979</td>\n",
       "      <td>0.017801</td>\n",
       "      <td>-0.005758</td>\n",
       "      <td>0.018340</td>\n",
       "      <td>-0.007488</td>\n",
       "      <td>0.160680</td>\n",
       "      <td>-0.241523</td>\n",
       "      <td>-0.250008</td>\n",
       "      <td>1.000000</td>\n",
       "      <td>-1.000000</td>\n",
       "    </tr>\n",
       "    <tr>\n",
       "      <th>Round Trip</th>\n",
       "      <td>0.090433</td>\n",
       "      <td>0.084967</td>\n",
       "      <td>0.084979</td>\n",
       "      <td>-0.017801</td>\n",
       "      <td>0.005758</td>\n",
       "      <td>-0.018340</td>\n",
       "      <td>0.007488</td>\n",
       "      <td>-0.160680</td>\n",
       "      <td>0.241523</td>\n",
       "      <td>0.250008</td>\n",
       "      <td>-1.000000</td>\n",
       "      <td>1.000000</td>\n",
       "    </tr>\n",
       "  </tbody>\n",
       "</table>\n",
       "</div>"
      ],
      "text/plain": [
       "                 duration  start_time  end_time  start_lat  start_lon  \\\n",
       "duration         1.000000    0.035549  0.035831  -0.005084   0.000851   \n",
       "start_time       0.035549    1.000000  1.000000   0.001703   0.002195   \n",
       "end_time         0.035831    1.000000  1.000000   0.001702   0.002195   \n",
       "start_lat       -0.005084    0.001703  0.001702   1.000000   0.983255   \n",
       "start_lon        0.000851    0.002195  0.002195   0.983255   1.000000   \n",
       "end_lat         -0.005934    0.000180  0.000179   0.595223   0.576917   \n",
       "end_lon         -0.000012    0.000660  0.000660   0.582731   0.583762   \n",
       "passholder_type -0.085603    0.090778  0.090759   0.021291   0.006509   \n",
       "start_station    0.097765    0.377325  0.377342  -0.003975   0.002462   \n",
       "end_station      0.054791    0.366819  0.366819  -0.004723   0.002459   \n",
       "One Way         -0.090433   -0.084967 -0.084979   0.017801  -0.005758   \n",
       "Round Trip       0.090433    0.084967  0.084979  -0.017801   0.005758   \n",
       "\n",
       "                  end_lat   end_lon  passholder_type  start_station  \\\n",
       "duration        -0.005934 -0.000012        -0.085603       0.097765   \n",
       "start_time       0.000180  0.000660         0.090778       0.377325   \n",
       "end_time         0.000179  0.000660         0.090759       0.377342   \n",
       "start_lat        0.595223  0.582731         0.021291      -0.003975   \n",
       "start_lon        0.576917  0.583762         0.006509       0.002462   \n",
       "end_lat          1.000000  0.989010         0.019787      -0.007762   \n",
       "end_lon          0.989010  1.000000         0.004931      -0.001238   \n",
       "passholder_type  0.019787  0.004931         1.000000      -0.094502   \n",
       "start_station   -0.007762 -0.001238        -0.094502       1.000000   \n",
       "end_station     -0.006796 -0.001088        -0.093104       0.802598   \n",
       "One Way          0.018340 -0.007488         0.160680      -0.241523   \n",
       "Round Trip      -0.018340  0.007488        -0.160680       0.241523   \n",
       "\n",
       "                 end_station   One Way  Round Trip  \n",
       "duration            0.054791 -0.090433    0.090433  \n",
       "start_time          0.366819 -0.084967    0.084967  \n",
       "end_time            0.366819 -0.084979    0.084979  \n",
       "start_lat          -0.004723  0.017801   -0.017801  \n",
       "start_lon           0.002459 -0.005758    0.005758  \n",
       "end_lat            -0.006796  0.018340   -0.018340  \n",
       "end_lon            -0.001088 -0.007488    0.007488  \n",
       "passholder_type    -0.093104  0.160680   -0.160680  \n",
       "start_station       0.802598 -0.241523    0.241523  \n",
       "end_station         1.000000 -0.250008    0.250008  \n",
       "One Way            -0.250008  1.000000   -1.000000  \n",
       "Round Trip          0.250008 -1.000000    1.000000  "
      ]
     },
     "execution_count": 10,
     "metadata": {},
     "output_type": "execute_result"
    }
   ],
   "source": [
    "temp_df.corr()"
   ]
  },
  {
   "cell_type": "code",
   "execution_count": 11,
   "id": "9410e770",
   "metadata": {
    "execution": {
     "iopub.execute_input": "2022-08-28T08:35:56.567818Z",
     "iopub.status.busy": "2022-08-28T08:35:56.566854Z",
     "iopub.status.idle": "2022-08-28T08:35:57.096539Z",
     "shell.execute_reply": "2022-08-28T08:35:57.095202Z"
    },
    "papermill": {
     "duration": 0.543817,
     "end_time": "2022-08-28T08:35:57.099275",
     "exception": false,
     "start_time": "2022-08-28T08:35:56.555458",
     "status": "completed"
    },
    "tags": []
   },
   "outputs": [
    {
     "data": {
      "text/html": [
       "<div>\n",
       "<style scoped>\n",
       "    .dataframe tbody tr th:only-of-type {\n",
       "        vertical-align: middle;\n",
       "    }\n",
       "\n",
       "    .dataframe tbody tr th {\n",
       "        vertical-align: top;\n",
       "    }\n",
       "\n",
       "    .dataframe thead th {\n",
       "        text-align: right;\n",
       "    }\n",
       "</style>\n",
       "<table border=\"1\" class=\"dataframe\">\n",
       "  <thead>\n",
       "    <tr style=\"text-align: right;\">\n",
       "      <th></th>\n",
       "      <th>passholder_type</th>\n",
       "    </tr>\n",
       "  </thead>\n",
       "  <tbody>\n",
       "    <tr>\n",
       "      <th>Round Trip</th>\n",
       "      <td>-0.160680</td>\n",
       "    </tr>\n",
       "    <tr>\n",
       "      <th>start_station</th>\n",
       "      <td>-0.094502</td>\n",
       "    </tr>\n",
       "    <tr>\n",
       "      <th>end_station</th>\n",
       "      <td>-0.093104</td>\n",
       "    </tr>\n",
       "    <tr>\n",
       "      <th>duration</th>\n",
       "      <td>-0.085603</td>\n",
       "    </tr>\n",
       "    <tr>\n",
       "      <th>end_lon</th>\n",
       "      <td>0.004931</td>\n",
       "    </tr>\n",
       "    <tr>\n",
       "      <th>start_lon</th>\n",
       "      <td>0.006509</td>\n",
       "    </tr>\n",
       "    <tr>\n",
       "      <th>end_lat</th>\n",
       "      <td>0.019787</td>\n",
       "    </tr>\n",
       "    <tr>\n",
       "      <th>start_lat</th>\n",
       "      <td>0.021291</td>\n",
       "    </tr>\n",
       "    <tr>\n",
       "      <th>end_time</th>\n",
       "      <td>0.090759</td>\n",
       "    </tr>\n",
       "    <tr>\n",
       "      <th>start_time</th>\n",
       "      <td>0.090778</td>\n",
       "    </tr>\n",
       "    <tr>\n",
       "      <th>One Way</th>\n",
       "      <td>0.160680</td>\n",
       "    </tr>\n",
       "    <tr>\n",
       "      <th>passholder_type</th>\n",
       "      <td>1.000000</td>\n",
       "    </tr>\n",
       "  </tbody>\n",
       "</table>\n",
       "</div>"
      ],
      "text/plain": [
       "                 passholder_type\n",
       "Round Trip             -0.160680\n",
       "start_station          -0.094502\n",
       "end_station            -0.093104\n",
       "duration               -0.085603\n",
       "end_lon                 0.004931\n",
       "start_lon               0.006509\n",
       "end_lat                 0.019787\n",
       "start_lat               0.021291\n",
       "end_time                0.090759\n",
       "start_time              0.090778\n",
       "One Way                 0.160680\n",
       "passholder_type         1.000000"
      ]
     },
     "execution_count": 11,
     "metadata": {},
     "output_type": "execute_result"
    }
   ],
   "source": [
    "temp_df.corr()[['passholder_type']].sort_values(by = 'passholder_type')"
   ]
  },
  {
   "cell_type": "markdown",
   "id": "bc9aea2b",
   "metadata": {
    "papermill": {
     "duration": 0.009259,
     "end_time": "2022-08-28T08:35:57.118225",
     "exception": false,
     "start_time": "2022-08-28T08:35:57.108966",
     "status": "completed"
    },
    "tags": []
   },
   "source": [
    "Si convenimos para rho de pearson:\n",
    "\n",
    "1.-Si rho > 0.7 correlacón lineal FUERTE POSITIVA\n",
    "\n",
    "2,- Si rho < - 0.7 correlación lineal FUERTE NEGATIVA\n",
    "\n",
    "Ninguna característica tiene correlación lineal FUERTE con la variable de salida ('passholder_type')"
   ]
  },
  {
   "cell_type": "markdown",
   "id": "ac5e5ba4",
   "metadata": {
    "papermill": {
     "duration": 0.011275,
     "end_time": "2022-08-28T08:35:57.142103",
     "exception": false,
     "start_time": "2022-08-28T08:35:57.130828",
     "status": "completed"
    },
    "tags": []
   },
   "source": [
    "## Causalidad"
   ]
  },
  {
   "cell_type": "markdown",
   "id": "c2eba92b",
   "metadata": {
    "papermill": {
     "duration": 0.012364,
     "end_time": "2022-08-28T08:35:57.166074",
     "exception": false,
     "start_time": "2022-08-28T08:35:57.153710",
     "status": "completed"
    },
    "tags": []
   },
   "source": [
    "***P-value***"
   ]
  },
  {
   "cell_type": "code",
   "execution_count": 12,
   "id": "f6e5cf2f",
   "metadata": {
    "execution": {
     "iopub.execute_input": "2022-08-28T08:35:57.196736Z",
     "iopub.status.busy": "2022-08-28T08:35:57.195033Z",
     "iopub.status.idle": "2022-08-28T08:35:57.209462Z",
     "shell.execute_reply": "2022-08-28T08:35:57.206611Z"
    },
    "papermill": {
     "duration": 0.036311,
     "end_time": "2022-08-28T08:35:57.215141",
     "exception": false,
     "start_time": "2022-08-28T08:35:57.178830",
     "status": "completed"
    },
    "tags": []
   },
   "outputs": [
    {
     "name": "stdout",
     "output_type": "stream",
     "text": [
      "['duration', 'start_time', 'end_time', 'start_lat', 'start_lon', 'end_lat', 'end_lon', 'start_station', 'end_station', 'One Way', 'Round Trip']\n"
     ]
    }
   ],
   "source": [
    "temp_list = temp_df.columns.tolist()\n",
    "temp_list.remove('passholder_type')\n",
    "print(temp_list)"
   ]
  },
  {
   "cell_type": "code",
   "execution_count": 13,
   "id": "383eca45",
   "metadata": {
    "execution": {
     "iopub.execute_input": "2022-08-28T08:35:57.244809Z",
     "iopub.status.busy": "2022-08-28T08:35:57.243045Z",
     "iopub.status.idle": "2022-08-28T08:35:58.162689Z",
     "shell.execute_reply": "2022-08-28T08:35:58.159852Z"
    },
    "papermill": {
     "duration": 0.949331,
     "end_time": "2022-08-28T08:35:58.176138",
     "exception": false,
     "start_time": "2022-08-28T08:35:57.226807",
     "status": "completed"
    },
    "tags": []
   },
   "outputs": [
    {
     "name": "stdout",
     "output_type": "stream",
     "text": [
      "\n",
      "\n",
      "Column: duration\n",
      "Coeficiente de Pearson es:  -0.08560282898623946  con un P-value de P = 0.0\n",
      "Existe evidencia FUERTE de correlación estadisticamente significativa con \"passholder_type\"\n",
      "\n",
      "\n",
      "Column: start_time\n",
      "Coeficiente de Pearson es:  0.0907780797920884  con un P-value de P = 0.0\n",
      "Existe evidencia FUERTE de correlación estadisticamente significativa con \"passholder_type\"\n",
      "\n",
      "\n",
      "Column: end_time\n",
      "Coeficiente de Pearson es:  0.09075921771993266  con un P-value de P = 0.0\n",
      "Existe evidencia FUERTE de correlación estadisticamente significativa con \"passholder_type\"\n",
      "\n",
      "\n",
      "Column: start_lat\n",
      "Coeficiente de Pearson es:  0.021290929469244043  con un P-value de P = 9.666797863770283e-71\n",
      "Existe evidencia FUERTE de correlación estadisticamente significativa con \"passholder_type\"\n",
      "\n",
      "\n",
      "Column: start_lon\n",
      "Coeficiente de Pearson es:  0.0065090969291343795  con un P-value de P = 5.451460993390339e-08\n",
      "Existe evidencia FUERTE de correlación estadisticamente significativa con \"passholder_type\"\n",
      "\n",
      "\n",
      "Column: end_lat\n",
      "Coeficiente de Pearson es:  0.01978682168076347  con un P-value de P = 2.3868193794054593e-61\n",
      "Existe evidencia FUERTE de correlación estadisticamente significativa con \"passholder_type\"\n",
      "\n",
      "\n",
      "Column: end_lon\n",
      "Coeficiente de Pearson es:  0.0049312408181945684  con un P-value de P = 3.818576351203214e-05\n",
      "Existe evidencia FUERTE de correlación estadisticamente significativa con \"passholder_type\"\n",
      "\n",
      "\n",
      "Column: start_station\n",
      "Coeficiente de Pearson es:  -0.09450248513062315  con un P-value de P = 0.0\n",
      "Existe evidencia FUERTE de correlación estadisticamente significativa con \"passholder_type\"\n",
      "\n",
      "\n",
      "Column: end_station\n",
      "Coeficiente de Pearson es:  -0.09310356317419313  con un P-value de P = 0.0\n",
      "Existe evidencia FUERTE de correlación estadisticamente significativa con \"passholder_type\"\n",
      "\n",
      "\n",
      "Column: One Way\n",
      "Coeficiente de Pearson es:  0.16067999228924465  con un P-value de P = 0.0\n",
      "Existe evidencia FUERTE de correlación estadisticamente significativa con \"passholder_type\"\n",
      "\n",
      "\n",
      "Column: Round Trip\n",
      "Coeficiente de Pearson es:  -0.16067999228924465  con un P-value de P = 0.0\n",
      "Existe evidencia FUERTE de correlación estadisticamente significativa con \"passholder_type\"\n"
     ]
    }
   ],
   "source": [
    "for column in temp_list:\n",
    "    pearson_coef, p_value = stats.pearsonr(temp_df[column], temp_df['passholder_type'])\n",
    "    print()\n",
    "    print()\n",
    "    print('Column: '+column)\n",
    "    print(\"Coeficiente de Pearson es: \", pearson_coef, \" con un P-value de P =\", p_value)\n",
    "    if p_value < 0.001:\n",
    "        print('Existe evidencia ' + 'FUERTE' + ' de correlación estadisticamente significativa con \"passholder_type\"')\n",
    "    elif p_value < 0.05:\n",
    "        print('Existe evidencia ' + 'MODERADA' + ' de correlación estadísticamente significativa con \"passholder_type\"')\n",
    "    elif p_value < 0.1:\n",
    "        print('Existe evidencia ' + 'DÉBIL' + ' de correlación estadísticamente significativa con \"passholder_type\"')\n",
    "    elif p_value >= 0.1:\n",
    "        print('NO existe evidencia de correlaci+6n estadísticamente significativa con \"passholder_type\"')"
   ]
  },
  {
   "cell_type": "markdown",
   "id": "4e1d9cb9",
   "metadata": {
    "papermill": {
     "duration": 0.029364,
     "end_time": "2022-08-28T08:35:58.231198",
     "exception": false,
     "start_time": "2022-08-28T08:35:58.201834",
     "status": "completed"
    },
    "tags": []
   },
   "source": [
    "El ***p-value*** indica que en TODAS LAS CARACTERÍSTICAS EXISTE CAUSALIDAD ESTADÍSTICAMENTE SIGNIFICATIVA con la variable de salida.."
   ]
  },
  {
   "cell_type": "markdown",
   "id": "862eff71",
   "metadata": {
    "papermill": {
     "duration": 0.017282,
     "end_time": "2022-08-28T08:35:58.284826",
     "exception": false,
     "start_time": "2022-08-28T08:35:58.267544",
     "status": "completed"
    },
    "tags": []
   },
   "source": [
    "## 3.3.- Split train_set"
   ]
  },
  {
   "cell_type": "code",
   "execution_count": 14,
   "id": "b403b517",
   "metadata": {
    "execution": {
     "iopub.execute_input": "2022-08-28T08:35:58.319469Z",
     "iopub.status.busy": "2022-08-28T08:35:58.315469Z",
     "iopub.status.idle": "2022-08-28T08:35:58.327835Z",
     "shell.execute_reply": "2022-08-28T08:35:58.324965Z"
    },
    "papermill": {
     "duration": 0.036225,
     "end_time": "2022-08-28T08:35:58.333343",
     "exception": false,
     "start_time": "2022-08-28T08:35:58.297118",
     "status": "completed"
    },
    "tags": []
   },
   "outputs": [],
   "source": [
    "# Importando métricas de scikit learn}\n",
    "from sklearn.metrics import accuracy_score"
   ]
  },
  {
   "cell_type": "code",
   "execution_count": 15,
   "id": "1c17e1bc",
   "metadata": {
    "execution": {
     "iopub.execute_input": "2022-08-28T08:35:58.361005Z",
     "iopub.status.busy": "2022-08-28T08:35:58.360118Z",
     "iopub.status.idle": "2022-08-28T08:57:20.095611Z",
     "shell.execute_reply": "2022-08-28T08:57:20.094485Z"
    },
    "papermill": {
     "duration": 1281.761362,
     "end_time": "2022-08-28T08:57:20.106963",
     "exception": false,
     "start_time": "2022-08-28T08:35:58.345601",
     "status": "completed"
    },
    "tags": []
   },
   "outputs": [
    {
     "name": "stdout",
     "output_type": "stream",
     "text": [
      "Randome Forest with 10 trees\n",
      "Training\n",
      "Accuracy: 96.05%\n",
      "Testing\n",
      "Accuracy: 66.22%\n",
      "Dagnosis: OVERFITTING\n",
      "\n",
      "Randome Forest with 30 trees\n",
      "Training\n",
      "Accuracy: 99.25%\n",
      "Testing\n",
      "Accuracy: 69.29%\n",
      "Dagnosis: OVERFITTING\n",
      "\n",
      "Randome Forest with 50 trees\n",
      "Training\n",
      "Accuracy: 99.68%\n",
      "Testing\n",
      "Accuracy: 69.93%\n",
      "Dagnosis: OVERFITTING\n",
      "\n",
      "Randome Forest with 70 trees\n",
      "Training\n",
      "Accuracy: 99.79%\n",
      "Testing\n",
      "Accuracy: 70.26%\n",
      "Dagnosis: OVERFITTING\n",
      "\n",
      "Randome Forest with 90 trees\n",
      "Training\n",
      "Accuracy: 99.83%\n",
      "Testing\n",
      "Accuracy: 70.40%\n",
      "Dagnosis: OVERFITTING\n",
      "\n"
     ]
    }
   ],
   "source": [
    "# Write your code below and press Shift+Enter to execute \n",
    "# Preparing X and Y\n",
    "X = train_df.copy()\n",
    "X.drop('passholder_type', inplace = True, axis = 1)\n",
    "Y = train_df[['passholder_type']]\n",
    "Y = pd.get_dummies(Y)\n",
    "\n",
    "# split data\n",
    "x_train, x_test, y_train, y_test = train_test_split(X, Y, test_size=0.2, random_state=0)\n",
    "\n",
    "# Testing many models accordance to differnte hyperparameters\n",
    "# In order to simplify the analisys we use accuracy like gold metric\n",
    "acc_list = []\n",
    "for n_trees in list(range(10, 101, 20)):\n",
    "    #Building Pipeline\n",
    "    Input=[('scale',StandardScaler()),('model',RandomForestClassifier(n_estimators=n_trees))]\n",
    "    pipe = Pipeline(Input)\n",
    "    #Training the model\n",
    "    pipe.fit(x_train, y_train)\n",
    "    #pipe.score(x_test, y_test)\n",
    "    y_train_pred = pipe.predict(x_train)\n",
    "    y_test_pred = pipe.predict(x_test)\n",
    "    train_acc = accuracy_score(y_train, y_train_pred)\n",
    "    test_acc = accuracy_score(y_test, y_test_pred)\n",
    "    print('Randome Forest with '+str(n_trees)+' trees')\n",
    "    print(\"Training\")\n",
    "    print(\"Accuracy: %0.2f%%\"%(100*train_acc))\n",
    "    print('Testing')\n",
    "    print(\"Accuracy: %0.2f%%\"%(100*test_acc))\n",
    "    if test_acc - train_acc < 0:\n",
    "        #Saving the model and validation metrics (accuracy in both sets)\n",
    "        acc_list.append((train_acc, test_acc, 'OVERFITTING', pipe))\n",
    "        print('Dagnosis: OVERFITTING')\n",
    "    elif ttest_acc - train_acc > 0:\n",
    "        acc_list.append((train_acc, test_acc, 'UNDERFITTING', pipe))\n",
    "        print('Dagnosis: UNDERFITTING')\n",
    "    else:\n",
    "        acc_list.append((train_acc, test_acc, 'EXCELENT!', pipe))\n",
    "        print('Dagnosis: EXCELENT!')\n",
    "    print()"
   ]
  },
  {
   "cell_type": "code",
   "execution_count": 16,
   "id": "32dc27a5",
   "metadata": {
    "execution": {
     "iopub.execute_input": "2022-08-28T08:57:20.126903Z",
     "iopub.status.busy": "2022-08-28T08:57:20.126306Z",
     "iopub.status.idle": "2022-08-28T08:57:20.132188Z",
     "shell.execute_reply": "2022-08-28T08:57:20.131204Z"
    },
    "papermill": {
     "duration": 0.018917,
     "end_time": "2022-08-28T08:57:20.134904",
     "exception": false,
     "start_time": "2022-08-28T08:57:20.115987",
     "status": "completed"
    },
    "tags": []
   },
   "outputs": [
    {
     "name": "stdout",
     "output_type": "stream",
     "text": [
      "4\n"
     ]
    }
   ],
   "source": [
    "#Retriece the best model according accuracy in test_set \n",
    "max_metric = 0\n",
    "for index, tupla in enumerate(acc_list):\n",
    "    if tupla[1] > max_metric:\n",
    "        final_index = index\n",
    "print(final_index)\n",
    "final_model = acc_list[final_index][3]"
   ]
  },
  {
   "cell_type": "markdown",
   "id": "11b44151",
   "metadata": {
    "papermill": {
     "duration": 0.00871,
     "end_time": "2022-08-28T08:57:20.152632",
     "exception": false,
     "start_time": "2022-08-28T08:57:20.143922",
     "status": "completed"
    },
    "tags": []
   },
   "source": [
    "## 3.4.- Feature Importance"
   ]
  },
  {
   "cell_type": "code",
   "execution_count": 17,
   "id": "09838b43",
   "metadata": {
    "execution": {
     "iopub.execute_input": "2022-08-28T08:57:20.172264Z",
     "iopub.status.busy": "2022-08-28T08:57:20.171916Z",
     "iopub.status.idle": "2022-08-28T08:57:20.176437Z",
     "shell.execute_reply": "2022-08-28T08:57:20.175434Z"
    },
    "papermill": {
     "duration": 0.016917,
     "end_time": "2022-08-28T08:57:20.178556",
     "exception": false,
     "start_time": "2022-08-28T08:57:20.161639",
     "status": "completed"
    },
    "tags": []
   },
   "outputs": [],
   "source": [
    "feature_names = X.columns.tolist()"
   ]
  },
  {
   "cell_type": "code",
   "execution_count": 18,
   "id": "9f8688ee",
   "metadata": {
    "execution": {
     "iopub.execute_input": "2022-08-28T08:57:20.198949Z",
     "iopub.status.busy": "2022-08-28T08:57:20.198562Z",
     "iopub.status.idle": "2022-08-28T08:57:20.764955Z",
     "shell.execute_reply": "2022-08-28T08:57:20.763763Z"
    },
    "papermill": {
     "duration": 0.578873,
     "end_time": "2022-08-28T08:57:20.767212",
     "exception": false,
     "start_time": "2022-08-28T08:57:20.188339",
     "status": "completed"
    },
    "tags": []
   },
   "outputs": [
    {
     "name": "stdout",
     "output_type": "stream",
     "text": [
      "Elapsed time to compute the importances: 0.560 seconds\n"
     ]
    }
   ],
   "source": [
    "start_time = time.time()\n",
    "importances = final_model['model'].feature_importances_\n",
    "std = np.std([tree.feature_importances_ for tree in final_model['model'].estimators_], axis=0)\n",
    "elapsed_time = time.time() - start_time\n",
    "\n",
    "print(f\"Elapsed time to compute the importances: {elapsed_time:.3f} seconds\")"
   ]
  },
  {
   "cell_type": "code",
   "execution_count": 19,
   "id": "9c4e4daa",
   "metadata": {
    "execution": {
     "iopub.execute_input": "2022-08-28T08:57:20.788115Z",
     "iopub.status.busy": "2022-08-28T08:57:20.787674Z",
     "iopub.status.idle": "2022-08-28T08:57:21.143043Z",
     "shell.execute_reply": "2022-08-28T08:57:21.141835Z"
    },
    "papermill": {
     "duration": 0.368977,
     "end_time": "2022-08-28T08:57:21.145645",
     "exception": false,
     "start_time": "2022-08-28T08:57:20.776668",
     "status": "completed"
    },
    "tags": []
   },
   "outputs": [
    {
     "data": {
      "image/png": "[encoded data removed]",
      "text/plain": [
       "<Figure size 432x288 with 1 Axes>"
      ]
     },
     "metadata": {
      "needs_background": "light"
     },
     "output_type": "display_data"
    }
   ],
   "source": [
    "forest_importances = pd.Series(importances, index=feature_names)\n",
    "\n",
    "fig, ax = plt.subplots()\n",
    "forest_importances.plot.bar(yerr=std, ax=ax)\n",
    "ax.set_title(\"Feature importances using MDI\")\n",
    "ax.set_ylabel(\"Mean decrease in impurity\")\n",
    "fig.tight_layout()"
   ]
  },
  {
   "cell_type": "markdown",
   "id": "9c374a7c",
   "metadata": {
    "papermill": {
     "duration": 0.009547,
     "end_time": "2022-08-28T08:57:21.165565",
     "exception": false,
     "start_time": "2022-08-28T08:57:21.156018",
     "status": "completed"
    },
    "tags": []
   },
   "source": [
    "## 3.2.- Moddel save"
   ]
  },
  {
   "cell_type": "code",
   "execution_count": 20,
   "id": "1d8d69b1",
   "metadata": {
    "execution": {
     "iopub.execute_input": "2022-08-28T08:57:21.186807Z",
     "iopub.status.busy": "2022-08-28T08:57:21.186382Z",
     "iopub.status.idle": "2022-08-28T08:57:21.190661Z",
     "shell.execute_reply": "2022-08-28T08:57:21.189783Z"
    },
    "papermill": {
     "duration": 0.017725,
     "end_time": "2022-08-28T08:57:21.193117",
     "exception": false,
     "start_time": "2022-08-28T08:57:21.175392",
     "status": "completed"
    },
    "tags": []
   },
   "outputs": [],
   "source": [
    "import joblib\n",
    "import gzip"
   ]
  },
  {
   "cell_type": "code",
   "execution_count": 21,
   "id": "51765139",
   "metadata": {
    "execution": {
     "iopub.execute_input": "2022-08-28T08:57:21.214724Z",
     "iopub.status.busy": "2022-08-28T08:57:21.213949Z",
     "iopub.status.idle": "2022-08-28T09:14:06.050589Z",
     "shell.execute_reply": "2022-08-28T09:14:06.049346Z"
    },
    "papermill": {
     "duration": 1004.851091,
     "end_time": "2022-08-28T09:14:06.053861",
     "exception": false,
     "start_time": "2022-08-28T08:57:21.202770",
     "status": "completed"
    },
    "tags": []
   },
   "outputs": [],
   "source": [
    "# Export model\n",
    "joblib.dump(final_model, gzip.open('model_binary.dat.gz', \"wb\"))"
   ]
  }
 ],
 "metadata": {
  "kernelspec": {
   "display_name": "Python 3",
   "language": "python",
   "name": "python3"
  },
  "language_info": {
   "codemirror_mode": {
    "name": "ipython",
    "version": 3
   },
   "file_extension": ".py",
   "mimetype": "text/x-python",
   "name": "python",
   "nbconvert_exporter": "python",
   "pygments_lexer": "ipython3",
   "version": "3.7.12"
  },
  "papermill": {
   "default_parameters": {},
   "duration": 2319.893471,
   "end_time": "2022-08-28T09:14:07.596265",
   "environment_variables": {},
   "exception": null,
   "input_path": "__notebook__.ipynb",
   "output_path": "__notebook__.ipynb",
   "parameters": {},
   "start_time": "2022-08-28T08:35:27.702794",
   "version": "2.3.4"
  }
 },
 "nbformat": 4,
 "nbformat_minor": 5
}
