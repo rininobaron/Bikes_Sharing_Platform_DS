{
 "cells": [
  {
   "cell_type": "code",
   "execution_count": 1,
   "id": "4448dbf0",
   "metadata": {
    "execution": {
     "iopub.execute_input": "2022-08-22T07:50:49.758800Z",
     "iopub.status.busy": "2022-08-22T07:50:49.758408Z",
     "iopub.status.idle": "2022-08-22T07:50:49.768148Z",
     "shell.execute_reply": "2022-08-22T07:50:49.767478Z"
    },
    "papermill": {
     "duration": 0.021232,
     "end_time": "2022-08-22T07:50:49.769796",
     "exception": false,
     "start_time": "2022-08-22T07:50:49.748564",
     "status": "completed"
    },
    "tags": []
   },
   "outputs": [],
   "source": [
    "import pandas as pd"
   ]
  },
  {
   "cell_type": "code",
   "execution_count": 2,
   "id": "0c4045d0",
   "metadata": {
    "execution": {
     "iopub.execute_input": "2022-08-22T07:50:49.786609Z",
     "iopub.status.busy": "2022-08-22T07:50:49.786312Z",
     "iopub.status.idle": "2022-08-22T07:50:53.391890Z",
     "shell.execute_reply": "2022-08-22T07:50:53.391172Z"
    },
    "papermill": {
     "duration": 3.616281,
     "end_time": "2022-08-22T07:50:53.394044",
     "exception": false,
     "start_time": "2022-08-22T07:50:49.777763",
     "status": "completed"
    },
    "tags": []
   },
   "outputs": [
    {
     "name": "stderr",
     "output_type": "stream",
     "text": [
      "/opt/conda/lib/python3.7/site-packages/IPython/core/interactiveshell.py:3552: DtypeWarning: Columns (8) have mixed types.Specify dtype option on import or set low_memory=False.\n",
      "  exec(code_obj, self.user_global_ns, self.user_ns)\n"
     ]
    }
   ],
   "source": [
    "train_df= pd.read_csv('../input/arkon-data-bikes-train/train_set.csv')\n",
    "test_df= pd.read_csv('../input/arkon-data-bikes-test/test_set.csv')"
   ]
  },
  {
   "cell_type": "markdown",
   "id": "d8779822",
   "metadata": {
    "papermill": {
     "duration": 0.007553,
     "end_time": "2022-08-22T07:50:53.409650",
     "exception": false,
     "start_time": "2022-08-22T07:50:53.402097",
     "status": "completed"
    },
    "tags": []
   },
   "source": [
    "# 2.- Data Preparation"
   ]
  },
  {
   "cell_type": "code",
   "execution_count": 3,
   "id": "6673f7c2",
   "metadata": {
    "execution": {
     "iopub.execute_input": "2022-08-22T07:50:53.427758Z",
     "iopub.status.busy": "2022-08-22T07:50:53.426929Z",
     "iopub.status.idle": "2022-08-22T07:50:53.437701Z",
     "shell.execute_reply": "2022-08-22T07:50:53.436822Z"
    },
    "papermill": {
     "duration": 0.021967,
     "end_time": "2022-08-22T07:50:53.439552",
     "exception": false,
     "start_time": "2022-08-22T07:50:53.417585",
     "status": "completed"
    },
    "tags": []
   },
   "outputs": [
    {
     "data": {
      "text/plain": [
       "trip_id                  int64\n",
       "duration                 int64\n",
       "start_time              object\n",
       "end_time                object\n",
       "start_lat              float64\n",
       "start_lon              float64\n",
       "end_lat                float64\n",
       "end_lon                float64\n",
       "bike_id                 object\n",
       "plan_duration          float64\n",
       "trip_route_category     object\n",
       "passholder_type         object\n",
       "start_station            int64\n",
       "end_station              int64\n",
       "dtype: object"
      ]
     },
     "execution_count": 3,
     "metadata": {},
     "output_type": "execute_result"
    }
   ],
   "source": [
    "train_df.dtypes"
   ]
  },
  {
   "cell_type": "code",
   "execution_count": 4,
   "id": "d66b8998",
   "metadata": {
    "execution": {
     "iopub.execute_input": "2022-08-22T07:50:53.457140Z",
     "iopub.status.busy": "2022-08-22T07:50:53.456295Z",
     "iopub.status.idle": "2022-08-22T07:50:53.463966Z",
     "shell.execute_reply": "2022-08-22T07:50:53.463099Z"
    },
    "papermill": {
     "duration": 0.018029,
     "end_time": "2022-08-22T07:50:53.465611",
     "exception": false,
     "start_time": "2022-08-22T07:50:53.447582",
     "status": "completed"
    },
    "tags": []
   },
   "outputs": [
    {
     "data": {
      "text/plain": [
       "trip_id                  int64\n",
       "duration                 int64\n",
       "start_time              object\n",
       "end_time                object\n",
       "start_lat              float64\n",
       "start_lon              float64\n",
       "end_lat                float64\n",
       "end_lon                float64\n",
       "bike_id                 object\n",
       "plan_duration          float64\n",
       "trip_route_category     object\n",
       "passholder_type         object\n",
       "start_station            int64\n",
       "end_station              int64\n",
       "dtype: object"
      ]
     },
     "execution_count": 4,
     "metadata": {},
     "output_type": "execute_result"
    }
   ],
   "source": [
    "train_df.dtypes"
   ]
  },
  {
   "cell_type": "code",
   "execution_count": 5,
   "id": "18c0c3a2",
   "metadata": {
    "execution": {
     "iopub.execute_input": "2022-08-22T07:50:53.482755Z",
     "iopub.status.busy": "2022-08-22T07:50:53.482440Z",
     "iopub.status.idle": "2022-08-22T07:50:53.621793Z",
     "shell.execute_reply": "2022-08-22T07:50:53.620775Z"
    },
    "papermill": {
     "duration": 0.150263,
     "end_time": "2022-08-22T07:50:53.623759",
     "exception": false,
     "start_time": "2022-08-22T07:50:53.473496",
     "status": "completed"
    },
    "tags": []
   },
   "outputs": [
    {
     "data": {
      "text/plain": [
       "trip_id                    0\n",
       "duration                   0\n",
       "start_time                 0\n",
       "end_time                   0\n",
       "start_lat               5563\n",
       "start_lon               5563\n",
       "end_lat                18574\n",
       "end_lon                18574\n",
       "bike_id                    0\n",
       "plan_duration            208\n",
       "trip_route_category        0\n",
       "passholder_type         2576\n",
       "start_station              0\n",
       "end_station                0\n",
       "dtype: int64"
      ]
     },
     "execution_count": 5,
     "metadata": {},
     "output_type": "execute_result"
    }
   ],
   "source": [
    "train_df.isnull().sum()"
   ]
  },
  {
   "cell_type": "code",
   "execution_count": 6,
   "id": "0db15cf7",
   "metadata": {
    "execution": {
     "iopub.execute_input": "2022-08-22T07:50:53.642688Z",
     "iopub.status.busy": "2022-08-22T07:50:53.642337Z",
     "iopub.status.idle": "2022-08-22T07:50:53.731510Z",
     "shell.execute_reply": "2022-08-22T07:50:53.730529Z"
    },
    "papermill": {
     "duration": 0.100408,
     "end_time": "2022-08-22T07:50:53.733393",
     "exception": false,
     "start_time": "2022-08-22T07:50:53.632985",
     "status": "completed"
    },
    "tags": []
   },
   "outputs": [
    {
     "data": {
      "text/plain": [
       "trip_id                    0\n",
       "duration                   0\n",
       "start_time                 0\n",
       "end_time                   0\n",
       "start_lat               4622\n",
       "start_lon               4622\n",
       "end_lat                14891\n",
       "end_lon                14891\n",
       "bike_id                    0\n",
       "trip_route_category        0\n",
       "start_station              0\n",
       "end_station                0\n",
       "dtype: int64"
      ]
     },
     "execution_count": 6,
     "metadata": {},
     "output_type": "execute_result"
    }
   ],
   "source": [
    "test_df.isnull().sum()"
   ]
  },
  {
   "cell_type": "code",
   "execution_count": 7,
   "id": "d51f6d44",
   "metadata": {
    "execution": {
     "iopub.execute_input": "2022-08-22T07:50:53.751000Z",
     "iopub.status.busy": "2022-08-22T07:50:53.750665Z",
     "iopub.status.idle": "2022-08-22T07:50:53.754964Z",
     "shell.execute_reply": "2022-08-22T07:50:53.754279Z"
    },
    "papermill": {
     "duration": 0.015076,
     "end_time": "2022-08-22T07:50:53.756799",
     "exception": false,
     "start_time": "2022-08-22T07:50:53.741723",
     "status": "completed"
    },
    "tags": []
   },
   "outputs": [
    {
     "name": "stdout",
     "output_type": "stream",
     "text": [
      "14\n",
      "12\n"
     ]
    }
   ],
   "source": [
    "print(len(train_df.columns))\n",
    "print(len(test_df.columns))"
   ]
  },
  {
   "cell_type": "markdown",
   "id": "72574e6e",
   "metadata": {
    "papermill": {
     "duration": 0.008035,
     "end_time": "2022-08-22T07:50:53.773122",
     "exception": false,
     "start_time": "2022-08-22T07:50:53.765087",
     "status": "completed"
    },
    "tags": []
   },
   "source": [
    "Como es posible observar, en ambos conjuntos de datos (train_set y test_set) existen valores nulos en diferentes columnas. Para este problema existen dos opciones de solución: eliminar los ejemplos con datos faltantes o \"rellenarlos\" (***Data Imputation*** ) con nuevos valores.\n",
    "\n",
    "Eliminar los datos se presenta como la opción más rápida y sencilla. Sin embargo, esto implicaría la perdida de ejemplos que probablemente afectarían el rendimiento de cualquier modelo.\n",
    "\n",
    "Por lo anterior se decidió utilizar ***Data Imputation*** a partir del cálculo de la media aritmética con el objetivo de evitar el problema descrito previamente y simplificar el proceso de aplicación de esta técnica.\n",
    "\n",
    "Sin embargo, es necesario eliminar 2576 ejemplos del conjunto de entrenamiento debido a que no esta presnete el valor de 'passholder_type'."
   ]
  },
  {
   "cell_type": "code",
   "execution_count": 8,
   "id": "1f0c5cf7",
   "metadata": {
    "execution": {
     "iopub.execute_input": "2022-08-22T07:50:53.791688Z",
     "iopub.status.busy": "2022-08-22T07:50:53.790639Z",
     "iopub.status.idle": "2022-08-22T07:50:53.799075Z",
     "shell.execute_reply": "2022-08-22T07:50:53.798187Z"
    },
    "papermill": {
     "duration": 0.019921,
     "end_time": "2022-08-22T07:50:53.801246",
     "exception": false,
     "start_time": "2022-08-22T07:50:53.781325",
     "status": "completed"
    },
    "tags": []
   },
   "outputs": [
    {
     "data": {
      "text/plain": [
       "['plan_duration', 'passholder_type']"
      ]
     },
     "execution_count": 8,
     "metadata": {},
     "output_type": "execute_result"
    }
   ],
   "source": [
    "# Review columns\n",
    "NoMatch_columns = []\n",
    "for column in train_df.columns:\n",
    "    for index, column2 in enumerate(test_df.columns):\n",
    "        if column == column2:\n",
    "            break\n",
    "        elif index + 1 == len(test_df.columns):\n",
    "            NoMatch_columns.append(column)\n",
    "NoMatch_columns"
   ]
  },
  {
   "cell_type": "code",
   "execution_count": 9,
   "id": "80efca0f",
   "metadata": {
    "execution": {
     "iopub.execute_input": "2022-08-22T07:50:53.819970Z",
     "iopub.status.busy": "2022-08-22T07:50:53.819119Z",
     "iopub.status.idle": "2022-08-22T07:50:53.956543Z",
     "shell.execute_reply": "2022-08-22T07:50:53.955581Z"
    },
    "papermill": {
     "duration": 0.148692,
     "end_time": "2022-08-22T07:50:53.958467",
     "exception": false,
     "start_time": "2022-08-22T07:50:53.809775",
     "status": "completed"
    },
    "tags": []
   },
   "outputs": [
    {
     "data": {
      "text/plain": [
       "trip_id                    0\n",
       "duration                   0\n",
       "start_time                 0\n",
       "end_time                   0\n",
       "start_lat               5563\n",
       "start_lon               5563\n",
       "end_lat                18574\n",
       "end_lon                18574\n",
       "bike_id                    0\n",
       "plan_duration            208\n",
       "trip_route_category        0\n",
       "passholder_type         2576\n",
       "start_station              0\n",
       "end_station                0\n",
       "dtype: int64"
      ]
     },
     "execution_count": 9,
     "metadata": {},
     "output_type": "execute_result"
    }
   ],
   "source": [
    "train_df.isnull().sum()"
   ]
  },
  {
   "cell_type": "markdown",
   "id": "fabb64bc",
   "metadata": {
    "papermill": {
     "duration": 0.008387,
     "end_time": "2022-08-22T07:50:53.976303",
     "exception": false,
     "start_time": "2022-08-22T07:50:53.967916",
     "status": "completed"
    },
    "tags": []
   },
   "source": [
    "### passholder_type"
   ]
  },
  {
   "cell_type": "code",
   "execution_count": 10,
   "id": "f873a35e",
   "metadata": {
    "execution": {
     "iopub.execute_input": "2022-08-22T07:50:53.994810Z",
     "iopub.status.busy": "2022-08-22T07:50:53.994460Z",
     "iopub.status.idle": "2022-08-22T07:50:54.001370Z",
     "shell.execute_reply": "2022-08-22T07:50:54.000246Z"
    },
    "papermill": {
     "duration": 0.018385,
     "end_time": "2022-08-22T07:50:54.003339",
     "exception": false,
     "start_time": "2022-08-22T07:50:53.984954",
     "status": "completed"
    },
    "tags": []
   },
   "outputs": [
    {
     "data": {
      "text/plain": [
       "700000"
      ]
     },
     "execution_count": 10,
     "metadata": {},
     "output_type": "execute_result"
    }
   ],
   "source": [
    "len(train_df)"
   ]
  },
  {
   "cell_type": "code",
   "execution_count": 11,
   "id": "8cfad278",
   "metadata": {
    "execution": {
     "iopub.execute_input": "2022-08-22T07:50:54.022618Z",
     "iopub.status.busy": "2022-08-22T07:50:54.021744Z",
     "iopub.status.idle": "2022-08-22T07:50:54.152544Z",
     "shell.execute_reply": "2022-08-22T07:50:54.151556Z"
    },
    "papermill": {
     "duration": 0.143324,
     "end_time": "2022-08-22T07:50:54.155357",
     "exception": false,
     "start_time": "2022-08-22T07:50:54.012033",
     "status": "completed"
    },
    "tags": []
   },
   "outputs": [],
   "source": [
    "train_df = train_df.dropna(subset = ['passholder_type'])"
   ]
  },
  {
   "cell_type": "code",
   "execution_count": 12,
   "id": "b9fa2620",
   "metadata": {
    "execution": {
     "iopub.execute_input": "2022-08-22T07:50:54.174412Z",
     "iopub.status.busy": "2022-08-22T07:50:54.173986Z",
     "iopub.status.idle": "2022-08-22T07:50:54.180647Z",
     "shell.execute_reply": "2022-08-22T07:50:54.179646Z"
    },
    "papermill": {
     "duration": 0.018363,
     "end_time": "2022-08-22T07:50:54.182588",
     "exception": false,
     "start_time": "2022-08-22T07:50:54.164225",
     "status": "completed"
    },
    "tags": []
   },
   "outputs": [
    {
     "data": {
      "text/plain": [
       "697424"
      ]
     },
     "execution_count": 12,
     "metadata": {},
     "output_type": "execute_result"
    }
   ],
   "source": [
    "len(train_df)"
   ]
  },
  {
   "cell_type": "markdown",
   "id": "38c71e99",
   "metadata": {
    "papermill": {
     "duration": 0.008588,
     "end_time": "2022-08-22T07:50:54.199999",
     "exception": false,
     "start_time": "2022-08-22T07:50:54.191411",
     "status": "completed"
    },
    "tags": []
   },
   "source": [
    "### plan_duration"
   ]
  },
  {
   "cell_type": "code",
   "execution_count": 13,
   "id": "a06047a2",
   "metadata": {
    "execution": {
     "iopub.execute_input": "2022-08-22T07:50:54.218972Z",
     "iopub.status.busy": "2022-08-22T07:50:54.218611Z",
     "iopub.status.idle": "2022-08-22T07:50:54.281214Z",
     "shell.execute_reply": "2022-08-22T07:50:54.280268Z"
    },
    "papermill": {
     "duration": 0.074817,
     "end_time": "2022-08-22T07:50:54.283409",
     "exception": false,
     "start_time": "2022-08-22T07:50:54.208592",
     "status": "completed"
    },
    "tags": []
   },
   "outputs": [],
   "source": [
    "train_df.drop('plan_duration', inplace = True, axis = 1)"
   ]
  },
  {
   "cell_type": "markdown",
   "id": "66949cf3",
   "metadata": {
    "papermill": {
     "duration": 0.009444,
     "end_time": "2022-08-22T07:50:54.301720",
     "exception": false,
     "start_time": "2022-08-22T07:50:54.292276",
     "status": "completed"
    },
    "tags": []
   },
   "source": [
    "### start_time and end_time"
   ]
  },
  {
   "cell_type": "code",
   "execution_count": 14,
   "id": "4d134be3",
   "metadata": {
    "execution": {
     "iopub.execute_input": "2022-08-22T07:50:54.321486Z",
     "iopub.status.busy": "2022-08-22T07:50:54.320783Z",
     "iopub.status.idle": "2022-08-22T07:52:33.016083Z",
     "shell.execute_reply": "2022-08-22T07:52:33.015052Z"
    },
    "papermill": {
     "duration": 98.707734,
     "end_time": "2022-08-22T07:52:33.018538",
     "exception": false,
     "start_time": "2022-08-22T07:50:54.310804",
     "status": "completed"
    },
    "tags": []
   },
   "outputs": [],
   "source": [
    "columns = ['start_time', 'end_time']\n",
    "for column in columns:\n",
    "    train_df[column] = pd.to_datetime(train_df[column])\n",
    "    test_df[column] = pd.to_datetime(test_df[column])"
   ]
  },
  {
   "cell_type": "code",
   "execution_count": 15,
   "id": "1ae526ad",
   "metadata": {
    "execution": {
     "iopub.execute_input": "2022-08-22T07:52:33.037915Z",
     "iopub.status.busy": "2022-08-22T07:52:33.037544Z",
     "iopub.status.idle": "2022-08-22T07:52:33.045439Z",
     "shell.execute_reply": "2022-08-22T07:52:33.044448Z"
    },
    "papermill": {
     "duration": 0.019883,
     "end_time": "2022-08-22T07:52:33.047365",
     "exception": false,
     "start_time": "2022-08-22T07:52:33.027482",
     "status": "completed"
    },
    "tags": []
   },
   "outputs": [
    {
     "data": {
      "text/plain": [
       "0   2018-08-07 11:20:00\n",
       "1   2017-09-17 17:51:00\n",
       "2   2019-04-22 09:22:00\n",
       "3   2019-09-22 11:27:00\n",
       "4   2020-01-31 17:11:00\n",
       "5   2017-12-16 15:18:00\n",
       "Name: start_time, dtype: datetime64[ns]"
      ]
     },
     "execution_count": 15,
     "metadata": {},
     "output_type": "execute_result"
    }
   ],
   "source": [
    "train_df['start_time'].head(6)"
   ]
  },
  {
   "cell_type": "code",
   "execution_count": 16,
   "id": "78dc2a37",
   "metadata": {
    "execution": {
     "iopub.execute_input": "2022-08-22T07:52:33.067335Z",
     "iopub.status.busy": "2022-08-22T07:52:33.066971Z",
     "iopub.status.idle": "2022-08-22T07:52:33.073857Z",
     "shell.execute_reply": "2022-08-22T07:52:33.073043Z"
    },
    "papermill": {
     "duration": 0.018784,
     "end_time": "2022-08-22T07:52:33.075690",
     "exception": false,
     "start_time": "2022-08-22T07:52:33.056906",
     "status": "completed"
    },
    "tags": []
   },
   "outputs": [
    {
     "data": {
      "text/plain": [
       "0   2017-01-01 00:24:00\n",
       "1   2017-01-01 00:28:00\n",
       "2   2017-01-01 00:39:00\n",
       "3   2017-01-01 00:43:00\n",
       "4   2017-01-01 00:56:00\n",
       "5   2017-01-01 01:54:00\n",
       "Name: start_time, dtype: datetime64[ns]"
      ]
     },
     "execution_count": 16,
     "metadata": {},
     "output_type": "execute_result"
    }
   ],
   "source": [
    "test_df['start_time'].head(6)"
   ]
  },
  {
   "cell_type": "markdown",
   "id": "dcaf6e5c",
   "metadata": {
    "papermill": {
     "duration": 0.008391,
     "end_time": "2022-08-22T07:52:33.093108",
     "exception": false,
     "start_time": "2022-08-22T07:52:33.084717",
     "status": "completed"
    },
    "tags": []
   },
   "source": [
    "### trip_id"
   ]
  },
  {
   "cell_type": "code",
   "execution_count": 17,
   "id": "e714e2f2",
   "metadata": {
    "execution": {
     "iopub.execute_input": "2022-08-22T07:52:33.112796Z",
     "iopub.status.busy": "2022-08-22T07:52:33.112207Z",
     "iopub.status.idle": "2022-08-22T07:52:33.169235Z",
     "shell.execute_reply": "2022-08-22T07:52:33.168317Z"
    },
    "papermill": {
     "duration": 0.069981,
     "end_time": "2022-08-22T07:52:33.171669",
     "exception": false,
     "start_time": "2022-08-22T07:52:33.101688",
     "status": "completed"
    },
    "tags": []
   },
   "outputs": [],
   "source": [
    "train_df.drop('trip_id', inplace = True, axis = 1)\n",
    "test_df.drop('trip_id', inplace = True, axis = 1)"
   ]
  },
  {
   "cell_type": "markdown",
   "id": "12eae79b",
   "metadata": {
    "papermill": {
     "duration": 0.0085,
     "end_time": "2022-08-22T07:52:33.189245",
     "exception": false,
     "start_time": "2022-08-22T07:52:33.180745",
     "status": "completed"
    },
    "tags": []
   },
   "source": [
    "### start_lat, start_lon, end_lat, end_lon"
   ]
  },
  {
   "cell_type": "code",
   "execution_count": 18,
   "id": "d8893c26",
   "metadata": {
    "execution": {
     "iopub.execute_input": "2022-08-22T07:52:33.209030Z",
     "iopub.status.busy": "2022-08-22T07:52:33.208018Z",
     "iopub.status.idle": "2022-08-22T07:52:33.240300Z",
     "shell.execute_reply": "2022-08-22T07:52:33.239270Z"
    },
    "papermill": {
     "duration": 0.044662,
     "end_time": "2022-08-22T07:52:33.242752",
     "exception": false,
     "start_time": "2022-08-22T07:52:33.198090",
     "status": "completed"
    },
    "tags": []
   },
   "outputs": [],
   "source": [
    "dict_temp = {'start_lat':0, 'start_lon':0, 'end_lat':0, 'end_lon':0}\n",
    "\n",
    "for column in dict_temp.keys():\n",
    "    dict_temp[column] = train_df[column].mean()\n",
    "    train_df[column] = train_df[column].fillna(dict_temp[column])\n",
    "    test_df[column] = test_df[column].fillna(dict_temp[column])"
   ]
  },
  {
   "cell_type": "markdown",
   "id": "f7c8af61",
   "metadata": {
    "papermill": {
     "duration": 0.008355,
     "end_time": "2022-08-22T07:52:33.260310",
     "exception": false,
     "start_time": "2022-08-22T07:52:33.251955",
     "status": "completed"
    },
    "tags": []
   },
   "source": [
    "### bike_id"
   ]
  },
  {
   "cell_type": "code",
   "execution_count": 19,
   "id": "d15cb333",
   "metadata": {
    "execution": {
     "iopub.execute_input": "2022-08-22T07:52:33.279320Z",
     "iopub.status.busy": "2022-08-22T07:52:33.278971Z",
     "iopub.status.idle": "2022-08-22T07:52:33.321679Z",
     "shell.execute_reply": "2022-08-22T07:52:33.320731Z"
    },
    "papermill": {
     "duration": 0.055045,
     "end_time": "2022-08-22T07:52:33.324113",
     "exception": false,
     "start_time": "2022-08-22T07:52:33.269068",
     "status": "completed"
    },
    "tags": []
   },
   "outputs": [],
   "source": [
    "train_df.drop('bike_id', inplace = True, axis = 1)\n",
    "test_df.drop('bike_id', inplace = True, axis = 1)"
   ]
  },
  {
   "cell_type": "markdown",
   "id": "2d7c7e0c",
   "metadata": {
    "papermill": {
     "duration": 0.00867,
     "end_time": "2022-08-22T07:52:33.342014",
     "exception": false,
     "start_time": "2022-08-22T07:52:33.333344",
     "status": "completed"
    },
    "tags": []
   },
   "source": [
    "### trip_route_category"
   ]
  },
  {
   "cell_type": "code",
   "execution_count": 20,
   "id": "ad01eef3",
   "metadata": {
    "execution": {
     "iopub.execute_input": "2022-08-22T07:52:33.362212Z",
     "iopub.status.busy": "2022-08-22T07:52:33.360912Z",
     "iopub.status.idle": "2022-08-22T07:52:33.368735Z",
     "shell.execute_reply": "2022-08-22T07:52:33.368110Z"
    },
    "papermill": {
     "duration": 0.019523,
     "end_time": "2022-08-22T07:52:33.370547",
     "exception": false,
     "start_time": "2022-08-22T07:52:33.351024",
     "status": "completed"
    },
    "tags": []
   },
   "outputs": [
    {
     "data": {
      "text/plain": [
       "0         Round Trip\n",
       "1            One Way\n",
       "2            One Way\n",
       "3            One Way\n",
       "4            One Way\n",
       "             ...    \n",
       "699995       One Way\n",
       "699996       One Way\n",
       "699997       One Way\n",
       "699998       One Way\n",
       "699999       One Way\n",
       "Name: trip_route_category, Length: 697424, dtype: object"
      ]
     },
     "execution_count": 20,
     "metadata": {},
     "output_type": "execute_result"
    }
   ],
   "source": [
    "train_df[\"trip_route_category\"]"
   ]
  },
  {
   "cell_type": "code",
   "execution_count": 21,
   "id": "54764068",
   "metadata": {
    "execution": {
     "iopub.execute_input": "2022-08-22T07:52:33.390533Z",
     "iopub.status.busy": "2022-08-22T07:52:33.389985Z",
     "iopub.status.idle": "2022-08-22T07:52:33.457964Z",
     "shell.execute_reply": "2022-08-22T07:52:33.456997Z"
    },
    "papermill": {
     "duration": 0.080325,
     "end_time": "2022-08-22T07:52:33.460026",
     "exception": false,
     "start_time": "2022-08-22T07:52:33.379701",
     "status": "completed"
    },
    "tags": []
   },
   "outputs": [
    {
     "data": {
      "text/html": [
       "<div>\n",
       "<style scoped>\n",
       "    .dataframe tbody tr th:only-of-type {\n",
       "        vertical-align: middle;\n",
       "    }\n",
       "\n",
       "    .dataframe tbody tr th {\n",
       "        vertical-align: top;\n",
       "    }\n",
       "\n",
       "    .dataframe thead th {\n",
       "        text-align: right;\n",
       "    }\n",
       "</style>\n",
       "<table border=\"1\" class=\"dataframe\">\n",
       "  <thead>\n",
       "    <tr style=\"text-align: right;\">\n",
       "      <th></th>\n",
       "      <th>One Way</th>\n",
       "      <th>Round Trip</th>\n",
       "    </tr>\n",
       "  </thead>\n",
       "  <tbody>\n",
       "    <tr>\n",
       "      <th>0</th>\n",
       "      <td>0</td>\n",
       "      <td>1</td>\n",
       "    </tr>\n",
       "    <tr>\n",
       "      <th>1</th>\n",
       "      <td>1</td>\n",
       "      <td>0</td>\n",
       "    </tr>\n",
       "    <tr>\n",
       "      <th>2</th>\n",
       "      <td>1</td>\n",
       "      <td>0</td>\n",
       "    </tr>\n",
       "    <tr>\n",
       "      <th>3</th>\n",
       "      <td>1</td>\n",
       "      <td>0</td>\n",
       "    </tr>\n",
       "    <tr>\n",
       "      <th>4</th>\n",
       "      <td>1</td>\n",
       "      <td>0</td>\n",
       "    </tr>\n",
       "    <tr>\n",
       "      <th>...</th>\n",
       "      <td>...</td>\n",
       "      <td>...</td>\n",
       "    </tr>\n",
       "    <tr>\n",
       "      <th>699995</th>\n",
       "      <td>1</td>\n",
       "      <td>0</td>\n",
       "    </tr>\n",
       "    <tr>\n",
       "      <th>699996</th>\n",
       "      <td>1</td>\n",
       "      <td>0</td>\n",
       "    </tr>\n",
       "    <tr>\n",
       "      <th>699997</th>\n",
       "      <td>1</td>\n",
       "      <td>0</td>\n",
       "    </tr>\n",
       "    <tr>\n",
       "      <th>699998</th>\n",
       "      <td>1</td>\n",
       "      <td>0</td>\n",
       "    </tr>\n",
       "    <tr>\n",
       "      <th>699999</th>\n",
       "      <td>1</td>\n",
       "      <td>0</td>\n",
       "    </tr>\n",
       "  </tbody>\n",
       "</table>\n",
       "<p>697424 rows × 2 columns</p>\n",
       "</div>"
      ],
      "text/plain": [
       "        One Way  Round Trip\n",
       "0             0           1\n",
       "1             1           0\n",
       "2             1           0\n",
       "3             1           0\n",
       "4             1           0\n",
       "...         ...         ...\n",
       "699995        1           0\n",
       "699996        1           0\n",
       "699997        1           0\n",
       "699998        1           0\n",
       "699999        1           0\n",
       "\n",
       "[697424 rows x 2 columns]"
      ]
     },
     "execution_count": 21,
     "metadata": {},
     "output_type": "execute_result"
    }
   ],
   "source": [
    "pd.get_dummies(train_df[\"trip_route_category\"])"
   ]
  },
  {
   "cell_type": "code",
   "execution_count": 22,
   "id": "1b047afe",
   "metadata": {
    "execution": {
     "iopub.execute_input": "2022-08-22T07:52:33.481035Z",
     "iopub.status.busy": "2022-08-22T07:52:33.480332Z",
     "iopub.status.idle": "2022-08-22T07:52:33.603818Z",
     "shell.execute_reply": "2022-08-22T07:52:33.602856Z"
    },
    "papermill": {
     "duration": 0.1363,
     "end_time": "2022-08-22T07:52:33.605986",
     "exception": false,
     "start_time": "2022-08-22T07:52:33.469686",
     "status": "completed"
    },
    "tags": []
   },
   "outputs": [],
   "source": [
    "for df in [train_df, test_df]:\n",
    "    temp_df = pd.get_dummies(df[\"trip_route_category\"])\n",
    "    for column in temp_df.columns.tolist():\n",
    "        df.insert(loc = len(df.columns), column = column, value = temp_df[column])\n",
    "    df.drop(\"trip_route_category\", inplace = True, axis = 1)"
   ]
  },
  {
   "cell_type": "markdown",
   "id": "3d16fb41",
   "metadata": {
    "papermill": {
     "duration": 0.008589,
     "end_time": "2022-08-22T07:52:33.623759",
     "exception": false,
     "start_time": "2022-08-22T07:52:33.615170",
     "status": "completed"
    },
    "tags": []
   },
   "source": [
    "### passholder_type\n",
    "\n",
    "Será modifcado en la siguiente libreta dinámica"
   ]
  },
  {
   "cell_type": "code",
   "execution_count": 23,
   "id": "02b0ef1a",
   "metadata": {
    "execution": {
     "iopub.execute_input": "2022-08-22T07:52:33.645478Z",
     "iopub.status.busy": "2022-08-22T07:52:33.644231Z",
     "iopub.status.idle": "2022-08-22T07:52:33.651875Z",
     "shell.execute_reply": "2022-08-22T07:52:33.651168Z"
    },
    "papermill": {
     "duration": 0.020198,
     "end_time": "2022-08-22T07:52:33.653589",
     "exception": false,
     "start_time": "2022-08-22T07:52:33.633391",
     "status": "completed"
    },
    "tags": []
   },
   "outputs": [
    {
     "data": {
      "text/plain": [
       "duration                    int64\n",
       "start_time         datetime64[ns]\n",
       "end_time           datetime64[ns]\n",
       "start_lat                 float64\n",
       "start_lon                 float64\n",
       "end_lat                   float64\n",
       "end_lon                   float64\n",
       "passholder_type            object\n",
       "start_station               int64\n",
       "end_station                 int64\n",
       "One Way                     uint8\n",
       "Round Trip                  uint8\n",
       "dtype: object"
      ]
     },
     "execution_count": 23,
     "metadata": {},
     "output_type": "execute_result"
    }
   ],
   "source": [
    "train_df.dtypes"
   ]
  },
  {
   "cell_type": "code",
   "execution_count": 24,
   "id": "671dae8e",
   "metadata": {
    "execution": {
     "iopub.execute_input": "2022-08-22T07:52:33.673784Z",
     "iopub.status.busy": "2022-08-22T07:52:33.673320Z",
     "iopub.status.idle": "2022-08-22T07:52:33.679937Z",
     "shell.execute_reply": "2022-08-22T07:52:33.679174Z"
    },
    "papermill": {
     "duration": 0.018613,
     "end_time": "2022-08-22T07:52:33.681662",
     "exception": false,
     "start_time": "2022-08-22T07:52:33.663049",
     "status": "completed"
    },
    "tags": []
   },
   "outputs": [
    {
     "data": {
      "text/plain": [
       "duration                  int64\n",
       "start_time       datetime64[ns]\n",
       "end_time         datetime64[ns]\n",
       "start_lat               float64\n",
       "start_lon               float64\n",
       "end_lat                 float64\n",
       "end_lon                 float64\n",
       "start_station             int64\n",
       "end_station               int64\n",
       "One Way                   uint8\n",
       "Round Trip                uint8\n",
       "dtype: object"
      ]
     },
     "execution_count": 24,
     "metadata": {},
     "output_type": "execute_result"
    }
   ],
   "source": [
    "test_df.dtypes"
   ]
  },
  {
   "cell_type": "code",
   "execution_count": 25,
   "id": "b5e00701",
   "metadata": {
    "execution": {
     "iopub.execute_input": "2022-08-22T07:52:33.702435Z",
     "iopub.status.busy": "2022-08-22T07:52:33.701794Z",
     "iopub.status.idle": "2022-08-22T07:52:33.743154Z",
     "shell.execute_reply": "2022-08-22T07:52:33.742279Z"
    },
    "papermill": {
     "duration": 0.053909,
     "end_time": "2022-08-22T07:52:33.745002",
     "exception": false,
     "start_time": "2022-08-22T07:52:33.691093",
     "status": "completed"
    },
    "tags": []
   },
   "outputs": [
    {
     "data": {
      "text/plain": [
       "duration           0\n",
       "start_time         0\n",
       "end_time           0\n",
       "start_lat          0\n",
       "start_lon          0\n",
       "end_lat            0\n",
       "end_lon            0\n",
       "passholder_type    0\n",
       "start_station      0\n",
       "end_station        0\n",
       "One Way            0\n",
       "Round Trip         0\n",
       "dtype: int64"
      ]
     },
     "execution_count": 25,
     "metadata": {},
     "output_type": "execute_result"
    }
   ],
   "source": [
    "train_df.isnull().sum()"
   ]
  },
  {
   "cell_type": "code",
   "execution_count": 26,
   "id": "1ba222d0",
   "metadata": {
    "execution": {
     "iopub.execute_input": "2022-08-22T07:52:33.766014Z",
     "iopub.status.busy": "2022-08-22T07:52:33.765180Z",
     "iopub.status.idle": "2022-08-22T07:52:33.803949Z",
     "shell.execute_reply": "2022-08-22T07:52:33.803079Z"
    },
    "papermill": {
     "duration": 0.051205,
     "end_time": "2022-08-22T07:52:33.805808",
     "exception": false,
     "start_time": "2022-08-22T07:52:33.754603",
     "status": "completed"
    },
    "tags": []
   },
   "outputs": [
    {
     "data": {
      "text/plain": [
       "duration           0\n",
       "start_time         0\n",
       "end_time           0\n",
       "start_lat          0\n",
       "start_lon          0\n",
       "end_lat            0\n",
       "end_lon            0\n",
       "passholder_type    0\n",
       "start_station      0\n",
       "end_station        0\n",
       "One Way            0\n",
       "Round Trip         0\n",
       "dtype: int64"
      ]
     },
     "execution_count": 26,
     "metadata": {},
     "output_type": "execute_result"
    }
   ],
   "source": [
    "train_df.isnull().sum()"
   ]
  },
  {
   "cell_type": "code",
   "execution_count": 27,
   "id": "bb83a087",
   "metadata": {
    "execution": {
     "iopub.execute_input": "2022-08-22T07:52:33.826625Z",
     "iopub.status.busy": "2022-08-22T07:52:33.826096Z",
     "iopub.status.idle": "2022-08-22T07:52:33.832207Z",
     "shell.execute_reply": "2022-08-22T07:52:33.830915Z"
    },
    "papermill": {
     "duration": 0.01919,
     "end_time": "2022-08-22T07:52:33.834585",
     "exception": false,
     "start_time": "2022-08-22T07:52:33.815395",
     "status": "completed"
    },
    "tags": []
   },
   "outputs": [
    {
     "name": "stdout",
     "output_type": "stream",
     "text": [
      "12\n",
      "11\n"
     ]
    }
   ],
   "source": [
    "print(len(train_df.columns))\n",
    "print(len(test_df.columns))"
   ]
  },
  {
   "cell_type": "code",
   "execution_count": 28,
   "id": "adf5be67",
   "metadata": {
    "execution": {
     "iopub.execute_input": "2022-08-22T07:52:33.855495Z",
     "iopub.status.busy": "2022-08-22T07:52:33.854959Z",
     "iopub.status.idle": "2022-08-22T07:52:33.868744Z",
     "shell.execute_reply": "2022-08-22T07:52:33.867785Z"
    },
    "papermill": {
     "duration": 0.025955,
     "end_time": "2022-08-22T07:52:33.870478",
     "exception": false,
     "start_time": "2022-08-22T07:52:33.844523",
     "status": "completed"
    },
    "tags": []
   },
   "outputs": [
    {
     "data": {
      "text/html": [
       "<div>\n",
       "<style scoped>\n",
       "    .dataframe tbody tr th:only-of-type {\n",
       "        vertical-align: middle;\n",
       "    }\n",
       "\n",
       "    .dataframe tbody tr th {\n",
       "        vertical-align: top;\n",
       "    }\n",
       "\n",
       "    .dataframe thead th {\n",
       "        text-align: right;\n",
       "    }\n",
       "</style>\n",
       "<table border=\"1\" class=\"dataframe\">\n",
       "  <thead>\n",
       "    <tr style=\"text-align: right;\">\n",
       "      <th></th>\n",
       "      <th>duration</th>\n",
       "      <th>start_time</th>\n",
       "      <th>end_time</th>\n",
       "      <th>start_lat</th>\n",
       "      <th>start_lon</th>\n",
       "      <th>end_lat</th>\n",
       "      <th>end_lon</th>\n",
       "      <th>passholder_type</th>\n",
       "      <th>start_station</th>\n",
       "      <th>end_station</th>\n",
       "      <th>One Way</th>\n",
       "      <th>Round Trip</th>\n",
       "    </tr>\n",
       "  </thead>\n",
       "  <tbody>\n",
       "    <tr>\n",
       "      <th>0</th>\n",
       "      <td>35</td>\n",
       "      <td>2018-08-07 11:20:00</td>\n",
       "      <td>2018-08-07 11:55:00</td>\n",
       "      <td>33.748920</td>\n",
       "      <td>-118.275192</td>\n",
       "      <td>33.748920</td>\n",
       "      <td>-118.275192</td>\n",
       "      <td>Walk-up</td>\n",
       "      <td>4127</td>\n",
       "      <td>4127</td>\n",
       "      <td>0</td>\n",
       "      <td>1</td>\n",
       "    </tr>\n",
       "    <tr>\n",
       "      <th>1</th>\n",
       "      <td>32</td>\n",
       "      <td>2017-09-17 17:51:00</td>\n",
       "      <td>2017-09-17 18:23:00</td>\n",
       "      <td>34.035679</td>\n",
       "      <td>-118.270813</td>\n",
       "      <td>34.047749</td>\n",
       "      <td>-118.243172</td>\n",
       "      <td>Walk-up</td>\n",
       "      <td>3057</td>\n",
       "      <td>3062</td>\n",
       "      <td>1</td>\n",
       "      <td>0</td>\n",
       "    </tr>\n",
       "    <tr>\n",
       "      <th>2</th>\n",
       "      <td>6</td>\n",
       "      <td>2019-04-22 09:22:00</td>\n",
       "      <td>2019-04-22 09:28:00</td>\n",
       "      <td>34.046070</td>\n",
       "      <td>-118.233093</td>\n",
       "      <td>34.047749</td>\n",
       "      <td>-118.243172</td>\n",
       "      <td>Monthly Pass</td>\n",
       "      <td>3022</td>\n",
       "      <td>3062</td>\n",
       "      <td>1</td>\n",
       "      <td>0</td>\n",
       "    </tr>\n",
       "    <tr>\n",
       "      <th>3</th>\n",
       "      <td>138</td>\n",
       "      <td>2019-09-22 11:27:00</td>\n",
       "      <td>2019-09-22 13:45:00</td>\n",
       "      <td>34.062580</td>\n",
       "      <td>-118.290092</td>\n",
       "      <td>34.059689</td>\n",
       "      <td>-118.294662</td>\n",
       "      <td>One Day Pass</td>\n",
       "      <td>4304</td>\n",
       "      <td>4311</td>\n",
       "      <td>1</td>\n",
       "      <td>0</td>\n",
       "    </tr>\n",
       "    <tr>\n",
       "      <th>4</th>\n",
       "      <td>14</td>\n",
       "      <td>2020-01-31 17:11:00</td>\n",
       "      <td>2020-01-31 17:25:00</td>\n",
       "      <td>34.026291</td>\n",
       "      <td>-118.277687</td>\n",
       "      <td>34.021660</td>\n",
       "      <td>-118.278687</td>\n",
       "      <td>Monthly Pass</td>\n",
       "      <td>4266</td>\n",
       "      <td>4443</td>\n",
       "      <td>1</td>\n",
       "      <td>0</td>\n",
       "    </tr>\n",
       "  </tbody>\n",
       "</table>\n",
       "</div>"
      ],
      "text/plain": [
       "   duration          start_time            end_time  start_lat   start_lon  \\\n",
       "0        35 2018-08-07 11:20:00 2018-08-07 11:55:00  33.748920 -118.275192   \n",
       "1        32 2017-09-17 17:51:00 2017-09-17 18:23:00  34.035679 -118.270813   \n",
       "2         6 2019-04-22 09:22:00 2019-04-22 09:28:00  34.046070 -118.233093   \n",
       "3       138 2019-09-22 11:27:00 2019-09-22 13:45:00  34.062580 -118.290092   \n",
       "4        14 2020-01-31 17:11:00 2020-01-31 17:25:00  34.026291 -118.277687   \n",
       "\n",
       "     end_lat     end_lon passholder_type  start_station  end_station  One Way  \\\n",
       "0  33.748920 -118.275192         Walk-up           4127         4127        0   \n",
       "1  34.047749 -118.243172         Walk-up           3057         3062        1   \n",
       "2  34.047749 -118.243172    Monthly Pass           3022         3062        1   \n",
       "3  34.059689 -118.294662    One Day Pass           4304         4311        1   \n",
       "4  34.021660 -118.278687    Monthly Pass           4266         4443        1   \n",
       "\n",
       "   Round Trip  \n",
       "0           1  \n",
       "1           0  \n",
       "2           0  \n",
       "3           0  \n",
       "4           0  "
      ]
     },
     "execution_count": 28,
     "metadata": {},
     "output_type": "execute_result"
    }
   ],
   "source": [
    "train_df.head()"
   ]
  },
  {
   "cell_type": "code",
   "execution_count": 29,
   "id": "6ab8e6fa",
   "metadata": {
    "execution": {
     "iopub.execute_input": "2022-08-22T07:52:33.893079Z",
     "iopub.status.busy": "2022-08-22T07:52:33.892214Z",
     "iopub.status.idle": "2022-08-22T07:52:33.905222Z",
     "shell.execute_reply": "2022-08-22T07:52:33.904320Z"
    },
    "papermill": {
     "duration": 0.026196,
     "end_time": "2022-08-22T07:52:33.907206",
     "exception": false,
     "start_time": "2022-08-22T07:52:33.881010",
     "status": "completed"
    },
    "tags": []
   },
   "outputs": [
    {
     "data": {
      "text/html": [
       "<div>\n",
       "<style scoped>\n",
       "    .dataframe tbody tr th:only-of-type {\n",
       "        vertical-align: middle;\n",
       "    }\n",
       "\n",
       "    .dataframe tbody tr th {\n",
       "        vertical-align: top;\n",
       "    }\n",
       "\n",
       "    .dataframe thead th {\n",
       "        text-align: right;\n",
       "    }\n",
       "</style>\n",
       "<table border=\"1\" class=\"dataframe\">\n",
       "  <thead>\n",
       "    <tr style=\"text-align: right;\">\n",
       "      <th></th>\n",
       "      <th>duration</th>\n",
       "      <th>start_time</th>\n",
       "      <th>end_time</th>\n",
       "      <th>start_lat</th>\n",
       "      <th>start_lon</th>\n",
       "      <th>end_lat</th>\n",
       "      <th>end_lon</th>\n",
       "      <th>start_station</th>\n",
       "      <th>end_station</th>\n",
       "      <th>One Way</th>\n",
       "      <th>Round Trip</th>\n",
       "    </tr>\n",
       "  </thead>\n",
       "  <tbody>\n",
       "    <tr>\n",
       "      <th>0</th>\n",
       "      <td>12</td>\n",
       "      <td>2017-01-01 00:24:00</td>\n",
       "      <td>2017-01-01 00:36:00</td>\n",
       "      <td>34.058319</td>\n",
       "      <td>-118.246094</td>\n",
       "      <td>34.058319</td>\n",
       "      <td>-118.246094</td>\n",
       "      <td>3028</td>\n",
       "      <td>3028</td>\n",
       "      <td>0</td>\n",
       "      <td>1</td>\n",
       "    </tr>\n",
       "    <tr>\n",
       "      <th>1</th>\n",
       "      <td>17</td>\n",
       "      <td>2017-01-01 00:28:00</td>\n",
       "      <td>2017-01-01 00:45:00</td>\n",
       "      <td>34.049980</td>\n",
       "      <td>-118.247162</td>\n",
       "      <td>34.043732</td>\n",
       "      <td>-118.260139</td>\n",
       "      <td>3027</td>\n",
       "      <td>3018</td>\n",
       "      <td>1</td>\n",
       "      <td>0</td>\n",
       "    </tr>\n",
       "    <tr>\n",
       "      <th>2</th>\n",
       "      <td>20</td>\n",
       "      <td>2017-01-01 00:39:00</td>\n",
       "      <td>2017-01-01 00:59:00</td>\n",
       "      <td>34.063389</td>\n",
       "      <td>-118.236160</td>\n",
       "      <td>34.044159</td>\n",
       "      <td>-118.251579</td>\n",
       "      <td>3066</td>\n",
       "      <td>3055</td>\n",
       "      <td>1</td>\n",
       "      <td>0</td>\n",
       "    </tr>\n",
       "    <tr>\n",
       "      <th>3</th>\n",
       "      <td>12</td>\n",
       "      <td>2017-01-01 00:43:00</td>\n",
       "      <td>2017-01-01 00:55:00</td>\n",
       "      <td>34.048851</td>\n",
       "      <td>-118.246422</td>\n",
       "      <td>34.050140</td>\n",
       "      <td>-118.233238</td>\n",
       "      <td>3029</td>\n",
       "      <td>3079</td>\n",
       "      <td>1</td>\n",
       "      <td>0</td>\n",
       "    </tr>\n",
       "    <tr>\n",
       "      <th>4</th>\n",
       "      <td>48</td>\n",
       "      <td>2017-01-01 00:56:00</td>\n",
       "      <td>2017-01-01 01:44:00</td>\n",
       "      <td>34.049198</td>\n",
       "      <td>-118.252831</td>\n",
       "      <td>34.049198</td>\n",
       "      <td>-118.252831</td>\n",
       "      <td>3063</td>\n",
       "      <td>3063</td>\n",
       "      <td>0</td>\n",
       "      <td>1</td>\n",
       "    </tr>\n",
       "  </tbody>\n",
       "</table>\n",
       "</div>"
      ],
      "text/plain": [
       "   duration          start_time            end_time  start_lat   start_lon  \\\n",
       "0        12 2017-01-01 00:24:00 2017-01-01 00:36:00  34.058319 -118.246094   \n",
       "1        17 2017-01-01 00:28:00 2017-01-01 00:45:00  34.049980 -118.247162   \n",
       "2        20 2017-01-01 00:39:00 2017-01-01 00:59:00  34.063389 -118.236160   \n",
       "3        12 2017-01-01 00:43:00 2017-01-01 00:55:00  34.048851 -118.246422   \n",
       "4        48 2017-01-01 00:56:00 2017-01-01 01:44:00  34.049198 -118.252831   \n",
       "\n",
       "     end_lat     end_lon  start_station  end_station  One Way  Round Trip  \n",
       "0  34.058319 -118.246094           3028         3028        0           1  \n",
       "1  34.043732 -118.260139           3027         3018        1           0  \n",
       "2  34.044159 -118.251579           3066         3055        1           0  \n",
       "3  34.050140 -118.233238           3029         3079        1           0  \n",
       "4  34.049198 -118.252831           3063         3063        0           1  "
      ]
     },
     "execution_count": 29,
     "metadata": {},
     "output_type": "execute_result"
    }
   ],
   "source": [
    "test_df.head()"
   ]
  },
  {
   "cell_type": "markdown",
   "id": "32b7bc27",
   "metadata": {
    "papermill": {
     "duration": 0.010443,
     "end_time": "2022-08-22T07:52:33.928112",
     "exception": false,
     "start_time": "2022-08-22T07:52:33.917669",
     "status": "completed"
    },
    "tags": []
   },
   "source": [
    "## Save Files"
   ]
  },
  {
   "cell_type": "code",
   "execution_count": 30,
   "id": "0a99b225",
   "metadata": {
    "execution": {
     "iopub.execute_input": "2022-08-22T07:52:33.949537Z",
     "iopub.status.busy": "2022-08-22T07:52:33.948934Z",
     "iopub.status.idle": "2022-08-22T07:52:42.082341Z",
     "shell.execute_reply": "2022-08-22T07:52:42.081289Z"
    },
    "papermill": {
     "duration": 8.146868,
     "end_time": "2022-08-22T07:52:42.084778",
     "exception": false,
     "start_time": "2022-08-22T07:52:33.937910",
     "status": "completed"
    },
    "tags": []
   },
   "outputs": [],
   "source": [
    "train_df.to_csv('train_set_final.csv', index=False)\n",
    "test_df.to_csv('test_set_final.csv', index=False)"
   ]
  }
 ],
 "metadata": {
  "kernelspec": {
   "display_name": "Python 3",
   "language": "python",
   "name": "python3"
  },
  "language_info": {
   "codemirror_mode": {
    "name": "ipython",
    "version": 3
   },
   "file_extension": ".py",
   "mimetype": "text/x-python",
   "name": "python",
   "nbconvert_exporter": "python",
   "pygments_lexer": "ipython3",
   "version": "3.7.12"
  },
  "papermill": {
   "default_parameters": {},
   "duration": 120.662139,
   "end_time": "2022-08-22T07:52:42.716567",
   "environment_variables": {},
   "exception": null,
   "input_path": "__notebook__.ipynb",
   "output_path": "__notebook__.ipynb",
   "parameters": {},
   "start_time": "2022-08-22T07:50:42.054428",
   "version": "2.3.4"
  }
 },
 "nbformat": 4,
 "nbformat_minor": 5
}
