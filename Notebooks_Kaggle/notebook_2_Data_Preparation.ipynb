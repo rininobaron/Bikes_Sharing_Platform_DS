{
 "cells": [
  {
   "cell_type": "code",
   "execution_count": 1,
   "id": "d63a5ad1",
   "metadata": {
    "execution": {
     "iopub.execute_input": "2022-08-22T09:09:11.370925Z",
     "iopub.status.busy": "2022-08-22T09:09:11.370468Z",
     "iopub.status.idle": "2022-08-22T09:09:11.381652Z",
     "shell.execute_reply": "2022-08-22T09:09:11.380735Z"
    },
    "papermill": {
     "duration": 0.02777,
     "end_time": "2022-08-22T09:09:11.384375",
     "exception": false,
     "start_time": "2022-08-22T09:09:11.356605",
     "status": "completed"
    },
    "tags": []
   },
   "outputs": [],
   "source": [
    "import pandas as pd"
   ]
  },
  {
   "cell_type": "code",
   "execution_count": 2,
   "id": "79c221c4",
   "metadata": {
    "execution": {
     "iopub.execute_input": "2022-08-22T09:09:11.405948Z",
     "iopub.status.busy": "2022-08-22T09:09:11.405272Z",
     "iopub.status.idle": "2022-08-22T09:09:16.443927Z",
     "shell.execute_reply": "2022-08-22T09:09:16.442892Z"
    },
    "papermill": {
     "duration": 5.052696,
     "end_time": "2022-08-22T09:09:16.446931",
     "exception": false,
     "start_time": "2022-08-22T09:09:11.394235",
     "status": "completed"
    },
    "tags": []
   },
   "outputs": [
    {
     "name": "stderr",
     "output_type": "stream",
     "text": [
      "/opt/conda/lib/python3.7/site-packages/IPython/core/interactiveshell.py:3552: DtypeWarning: Columns (8) have mixed types.Specify dtype option on import or set low_memory=False.\n",
      "  exec(code_obj, self.user_global_ns, self.user_ns)\n"
     ]
    }
   ],
   "source": [
    "train_df= pd.read_csv('../input/arkon-data-bikes-train/train_set.csv')\n",
    "test_df= pd.read_csv('../input/arkon-data-bikes-test/test_set.csv')"
   ]
  },
  {
   "cell_type": "markdown",
   "id": "74b21779",
   "metadata": {
    "papermill": {
     "duration": 0.010002,
     "end_time": "2022-08-22T09:09:16.468270",
     "exception": false,
     "start_time": "2022-08-22T09:09:16.458268",
     "status": "completed"
    },
    "tags": []
   },
   "source": [
    "# 2.- Data Preparation"
   ]
  },
  {
   "cell_type": "code",
   "execution_count": 3,
   "id": "863b7268",
   "metadata": {
    "execution": {
     "iopub.execute_input": "2022-08-22T09:09:16.489898Z",
     "iopub.status.busy": "2022-08-22T09:09:16.488693Z",
     "iopub.status.idle": "2022-08-22T09:09:16.504297Z",
     "shell.execute_reply": "2022-08-22T09:09:16.503214Z"
    },
    "papermill": {
     "duration": 0.029073,
     "end_time": "2022-08-22T09:09:16.506949",
     "exception": false,
     "start_time": "2022-08-22T09:09:16.477876",
     "status": "completed"
    },
    "tags": []
   },
   "outputs": [
    {
     "data": {
      "text/plain": [
       "trip_id                  int64\n",
       "duration                 int64\n",
       "start_time              object\n",
       "end_time                object\n",
       "start_lat              float64\n",
       "start_lon              float64\n",
       "end_lat                float64\n",
       "end_lon                float64\n",
       "bike_id                 object\n",
       "plan_duration          float64\n",
       "trip_route_category     object\n",
       "passholder_type         object\n",
       "start_station            int64\n",
       "end_station              int64\n",
       "dtype: object"
      ]
     },
     "execution_count": 3,
     "metadata": {},
     "output_type": "execute_result"
    }
   ],
   "source": [
    "train_df.dtypes"
   ]
  },
  {
   "cell_type": "code",
   "execution_count": 4,
   "id": "d3261137",
   "metadata": {
    "execution": {
     "iopub.execute_input": "2022-08-22T09:09:16.529736Z",
     "iopub.status.busy": "2022-08-22T09:09:16.529348Z",
     "iopub.status.idle": "2022-08-22T09:09:16.537972Z",
     "shell.execute_reply": "2022-08-22T09:09:16.536771Z"
    },
    "papermill": {
     "duration": 0.022194,
     "end_time": "2022-08-22T09:09:16.540295",
     "exception": false,
     "start_time": "2022-08-22T09:09:16.518101",
     "status": "completed"
    },
    "tags": []
   },
   "outputs": [
    {
     "data": {
      "text/plain": [
       "trip_id                  int64\n",
       "duration                 int64\n",
       "start_time              object\n",
       "end_time                object\n",
       "start_lat              float64\n",
       "start_lon              float64\n",
       "end_lat                float64\n",
       "end_lon                float64\n",
       "bike_id                 object\n",
       "plan_duration          float64\n",
       "trip_route_category     object\n",
       "passholder_type         object\n",
       "start_station            int64\n",
       "end_station              int64\n",
       "dtype: object"
      ]
     },
     "execution_count": 4,
     "metadata": {},
     "output_type": "execute_result"
    }
   ],
   "source": [
    "train_df.dtypes"
   ]
  },
  {
   "cell_type": "code",
   "execution_count": 5,
   "id": "cfea13c9",
   "metadata": {
    "execution": {
     "iopub.execute_input": "2022-08-22T09:09:16.568906Z",
     "iopub.status.busy": "2022-08-22T09:09:16.567691Z",
     "iopub.status.idle": "2022-08-22T09:09:16.763807Z",
     "shell.execute_reply": "2022-08-22T09:09:16.762467Z"
    },
    "papermill": {
     "duration": 0.216103,
     "end_time": "2022-08-22T09:09:16.767336",
     "exception": false,
     "start_time": "2022-08-22T09:09:16.551233",
     "status": "completed"
    },
    "tags": []
   },
   "outputs": [
    {
     "data": {
      "text/plain": [
       "trip_id                    0\n",
       "duration                   0\n",
       "start_time                 0\n",
       "end_time                   0\n",
       "start_lat               5563\n",
       "start_lon               5563\n",
       "end_lat                18574\n",
       "end_lon                18574\n",
       "bike_id                    0\n",
       "plan_duration            208\n",
       "trip_route_category        0\n",
       "passholder_type         2576\n",
       "start_station              0\n",
       "end_station                0\n",
       "dtype: int64"
      ]
     },
     "execution_count": 5,
     "metadata": {},
     "output_type": "execute_result"
    }
   ],
   "source": [
    "train_df.isnull().sum()"
   ]
  },
  {
   "cell_type": "code",
   "execution_count": 6,
   "id": "4b7ef8e0",
   "metadata": {
    "execution": {
     "iopub.execute_input": "2022-08-22T09:09:16.796532Z",
     "iopub.status.busy": "2022-08-22T09:09:16.796073Z",
     "iopub.status.idle": "2022-08-22T09:09:16.929405Z",
     "shell.execute_reply": "2022-08-22T09:09:16.927923Z"
    },
    "papermill": {
     "duration": 0.151587,
     "end_time": "2022-08-22T09:09:16.933202",
     "exception": false,
     "start_time": "2022-08-22T09:09:16.781615",
     "status": "completed"
    },
    "tags": []
   },
   "outputs": [
    {
     "data": {
      "text/plain": [
       "trip_id                    0\n",
       "duration                   0\n",
       "start_time                 0\n",
       "end_time                   0\n",
       "start_lat               4622\n",
       "start_lon               4622\n",
       "end_lat                14891\n",
       "end_lon                14891\n",
       "bike_id                    0\n",
       "trip_route_category        0\n",
       "start_station              0\n",
       "end_station                0\n",
       "dtype: int64"
      ]
     },
     "execution_count": 6,
     "metadata": {},
     "output_type": "execute_result"
    }
   ],
   "source": [
    "test_df.isnull().sum()"
   ]
  },
  {
   "cell_type": "code",
   "execution_count": 7,
   "id": "8fdef545",
   "metadata": {
    "execution": {
     "iopub.execute_input": "2022-08-22T09:09:16.965349Z",
     "iopub.status.busy": "2022-08-22T09:09:16.964893Z",
     "iopub.status.idle": "2022-08-22T09:09:16.970625Z",
     "shell.execute_reply": "2022-08-22T09:09:16.969421Z"
    },
    "papermill": {
     "duration": 0.028913,
     "end_time": "2022-08-22T09:09:16.974671",
     "exception": false,
     "start_time": "2022-08-22T09:09:16.945758",
     "status": "completed"
    },
    "tags": []
   },
   "outputs": [
    {
     "name": "stdout",
     "output_type": "stream",
     "text": [
      "14\n",
      "12\n"
     ]
    }
   ],
   "source": [
    "print(len(train_df.columns))\n",
    "print(len(test_df.columns))"
   ]
  },
  {
   "cell_type": "markdown",
   "id": "e8779fdf",
   "metadata": {
    "papermill": {
     "duration": 0.012115,
     "end_time": "2022-08-22T09:09:17.002391",
     "exception": false,
     "start_time": "2022-08-22T09:09:16.990276",
     "status": "completed"
    },
    "tags": []
   },
   "source": [
    "Como es posible observar, en ambos conjuntos de datos (train_set y test_set) existen valores nulos en diferentes columnas. Para este problema existen dos opciones de solución: eliminar los ejemplos con datos faltantes o \"rellenarlos\" (***Data Imputation*** ) con nuevos valores.\n",
    "\n",
    "Eliminar los datos se presenta como la opción más rápida y sencilla. Sin embargo, esto implicaría la perdida de ejemplos que probablemente afectarían el rendimiento de cualquier modelo.\n",
    "\n",
    "Por lo anterior se decidió utilizar ***Data Imputation*** a partir del cálculo de la media aritmética con el objetivo de evitar el problema descrito previamente y simplificar el proceso de aplicación de esta técnica.\n",
    "\n",
    "Sin embargo, es necesario eliminar 2576 ejemplos del conjunto de entrenamiento debido a que no esta presnete el valor de 'passholder_type'."
   ]
  },
  {
   "cell_type": "code",
   "execution_count": 8,
   "id": "103c4a9d",
   "metadata": {
    "execution": {
     "iopub.execute_input": "2022-08-22T09:09:17.025350Z",
     "iopub.status.busy": "2022-08-22T09:09:17.024838Z",
     "iopub.status.idle": "2022-08-22T09:09:17.034745Z",
     "shell.execute_reply": "2022-08-22T09:09:17.033657Z"
    },
    "papermill": {
     "duration": 0.024228,
     "end_time": "2022-08-22T09:09:17.036933",
     "exception": false,
     "start_time": "2022-08-22T09:09:17.012705",
     "status": "completed"
    },
    "tags": []
   },
   "outputs": [
    {
     "data": {
      "text/plain": [
       "['plan_duration', 'passholder_type']"
      ]
     },
     "execution_count": 8,
     "metadata": {},
     "output_type": "execute_result"
    }
   ],
   "source": [
    "# Review columns\n",
    "NoMatch_columns = []\n",
    "for column in train_df.columns:\n",
    "    for index, column2 in enumerate(test_df.columns):\n",
    "        if column == column2:\n",
    "            break\n",
    "        elif index + 1 == len(test_df.columns):\n",
    "            NoMatch_columns.append(column)\n",
    "NoMatch_columns"
   ]
  },
  {
   "cell_type": "code",
   "execution_count": 9,
   "id": "282bc219",
   "metadata": {
    "execution": {
     "iopub.execute_input": "2022-08-22T09:09:17.060041Z",
     "iopub.status.busy": "2022-08-22T09:09:17.059554Z",
     "iopub.status.idle": "2022-08-22T09:09:17.238744Z",
     "shell.execute_reply": "2022-08-22T09:09:17.237348Z"
    },
    "papermill": {
     "duration": 0.194345,
     "end_time": "2022-08-22T09:09:17.241706",
     "exception": false,
     "start_time": "2022-08-22T09:09:17.047361",
     "status": "completed"
    },
    "tags": []
   },
   "outputs": [
    {
     "data": {
      "text/plain": [
       "trip_id                    0\n",
       "duration                   0\n",
       "start_time                 0\n",
       "end_time                   0\n",
       "start_lat               5563\n",
       "start_lon               5563\n",
       "end_lat                18574\n",
       "end_lon                18574\n",
       "bike_id                    0\n",
       "plan_duration            208\n",
       "trip_route_category        0\n",
       "passholder_type         2576\n",
       "start_station              0\n",
       "end_station                0\n",
       "dtype: int64"
      ]
     },
     "execution_count": 9,
     "metadata": {},
     "output_type": "execute_result"
    }
   ],
   "source": [
    "train_df.isnull().sum()"
   ]
  },
  {
   "cell_type": "markdown",
   "id": "64a85a69",
   "metadata": {
    "papermill": {
     "duration": 0.010923,
     "end_time": "2022-08-22T09:09:17.263562",
     "exception": false,
     "start_time": "2022-08-22T09:09:17.252639",
     "status": "completed"
    },
    "tags": []
   },
   "source": [
    "### passholder_type"
   ]
  },
  {
   "cell_type": "code",
   "execution_count": 10,
   "id": "c6ca3628",
   "metadata": {
    "execution": {
     "iopub.execute_input": "2022-08-22T09:09:17.287898Z",
     "iopub.status.busy": "2022-08-22T09:09:17.287089Z",
     "iopub.status.idle": "2022-08-22T09:09:17.294218Z",
     "shell.execute_reply": "2022-08-22T09:09:17.293256Z"
    },
    "papermill": {
     "duration": 0.022296,
     "end_time": "2022-08-22T09:09:17.296617",
     "exception": false,
     "start_time": "2022-08-22T09:09:17.274321",
     "status": "completed"
    },
    "tags": []
   },
   "outputs": [
    {
     "data": {
      "text/plain": [
       "700000"
      ]
     },
     "execution_count": 10,
     "metadata": {},
     "output_type": "execute_result"
    }
   ],
   "source": [
    "len(train_df)"
   ]
  },
  {
   "cell_type": "code",
   "execution_count": 11,
   "id": "d7ae280e",
   "metadata": {
    "execution": {
     "iopub.execute_input": "2022-08-22T09:09:17.320324Z",
     "iopub.status.busy": "2022-08-22T09:09:17.319502Z",
     "iopub.status.idle": "2022-08-22T09:09:17.472626Z",
     "shell.execute_reply": "2022-08-22T09:09:17.471460Z"
    },
    "papermill": {
     "duration": 0.168226,
     "end_time": "2022-08-22T09:09:17.475478",
     "exception": false,
     "start_time": "2022-08-22T09:09:17.307252",
     "status": "completed"
    },
    "tags": []
   },
   "outputs": [],
   "source": [
    "train_df = train_df.dropna(subset = ['passholder_type'])"
   ]
  },
  {
   "cell_type": "code",
   "execution_count": 12,
   "id": "a8b60363",
   "metadata": {
    "execution": {
     "iopub.execute_input": "2022-08-22T09:09:17.504797Z",
     "iopub.status.busy": "2022-08-22T09:09:17.504045Z",
     "iopub.status.idle": "2022-08-22T09:09:17.511413Z",
     "shell.execute_reply": "2022-08-22T09:09:17.510238Z"
    },
    "papermill": {
     "duration": 0.02312,
     "end_time": "2022-08-22T09:09:17.514393",
     "exception": false,
     "start_time": "2022-08-22T09:09:17.491273",
     "status": "completed"
    },
    "tags": []
   },
   "outputs": [
    {
     "data": {
      "text/plain": [
       "697424"
      ]
     },
     "execution_count": 12,
     "metadata": {},
     "output_type": "execute_result"
    }
   ],
   "source": [
    "len(train_df)"
   ]
  },
  {
   "cell_type": "markdown",
   "id": "73e4e504",
   "metadata": {
    "papermill": {
     "duration": 0.010209,
     "end_time": "2022-08-22T09:09:17.536652",
     "exception": false,
     "start_time": "2022-08-22T09:09:17.526443",
     "status": "completed"
    },
    "tags": []
   },
   "source": [
    "### plan_duration"
   ]
  },
  {
   "cell_type": "code",
   "execution_count": 13,
   "id": "3580f920",
   "metadata": {
    "execution": {
     "iopub.execute_input": "2022-08-22T09:09:17.560271Z",
     "iopub.status.busy": "2022-08-22T09:09:17.559112Z",
     "iopub.status.idle": "2022-08-22T09:09:17.642883Z",
     "shell.execute_reply": "2022-08-22T09:09:17.641664Z"
    },
    "papermill": {
     "duration": 0.098706,
     "end_time": "2022-08-22T09:09:17.645813",
     "exception": false,
     "start_time": "2022-08-22T09:09:17.547107",
     "status": "completed"
    },
    "tags": []
   },
   "outputs": [],
   "source": [
    "train_df.drop('plan_duration', inplace = True, axis = 1)"
   ]
  },
  {
   "cell_type": "markdown",
   "id": "f8f1fedc",
   "metadata": {
    "papermill": {
     "duration": 0.010356,
     "end_time": "2022-08-22T09:09:17.666750",
     "exception": false,
     "start_time": "2022-08-22T09:09:17.656394",
     "status": "completed"
    },
    "tags": []
   },
   "source": [
    "### start_time and end_time"
   ]
  },
  {
   "cell_type": "code",
   "execution_count": 14,
   "id": "819a176f",
   "metadata": {
    "execution": {
     "iopub.execute_input": "2022-08-22T09:09:17.690257Z",
     "iopub.status.busy": "2022-08-22T09:09:17.689156Z",
     "iopub.status.idle": "2022-08-22T09:11:15.868427Z",
     "shell.execute_reply": "2022-08-22T09:11:15.867155Z"
    },
    "papermill": {
     "duration": 118.194133,
     "end_time": "2022-08-22T09:11:15.871499",
     "exception": false,
     "start_time": "2022-08-22T09:09:17.677366",
     "status": "completed"
    },
    "tags": []
   },
   "outputs": [],
   "source": [
    "columns = ['start_time', 'end_time']\n",
    "for column in columns:\n",
    "    train_df[column] = pd.to_datetime(train_df[column])\n",
    "    test_df[column] = pd.to_datetime(test_df[column])"
   ]
  },
  {
   "cell_type": "code",
   "execution_count": 15,
   "id": "b52ae9bf",
   "metadata": {
    "execution": {
     "iopub.execute_input": "2022-08-22T09:11:15.895102Z",
     "iopub.status.busy": "2022-08-22T09:11:15.894640Z",
     "iopub.status.idle": "2022-08-22T09:11:15.903858Z",
     "shell.execute_reply": "2022-08-22T09:11:15.902639Z"
    },
    "papermill": {
     "duration": 0.023489,
     "end_time": "2022-08-22T09:11:15.906066",
     "exception": false,
     "start_time": "2022-08-22T09:11:15.882577",
     "status": "completed"
    },
    "tags": []
   },
   "outputs": [
    {
     "data": {
      "text/plain": [
       "0   2018-08-07 11:20:00\n",
       "1   2017-09-17 17:51:00\n",
       "2   2019-04-22 09:22:00\n",
       "3   2019-09-22 11:27:00\n",
       "4   2020-01-31 17:11:00\n",
       "5   2017-12-16 15:18:00\n",
       "Name: start_time, dtype: datetime64[ns]"
      ]
     },
     "execution_count": 15,
     "metadata": {},
     "output_type": "execute_result"
    }
   ],
   "source": [
    "train_df['start_time'].head(6)"
   ]
  },
  {
   "cell_type": "code",
   "execution_count": 16,
   "id": "a3f3eee6",
   "metadata": {
    "execution": {
     "iopub.execute_input": "2022-08-22T09:11:15.929612Z",
     "iopub.status.busy": "2022-08-22T09:11:15.928816Z",
     "iopub.status.idle": "2022-08-22T09:11:15.937995Z",
     "shell.execute_reply": "2022-08-22T09:11:15.936923Z"
    },
    "papermill": {
     "duration": 0.023725,
     "end_time": "2022-08-22T09:11:15.940419",
     "exception": false,
     "start_time": "2022-08-22T09:11:15.916694",
     "status": "completed"
    },
    "tags": []
   },
   "outputs": [
    {
     "data": {
      "text/plain": [
       "0   2017-01-01 00:24:00\n",
       "1   2017-01-01 00:28:00\n",
       "2   2017-01-01 00:39:00\n",
       "3   2017-01-01 00:43:00\n",
       "4   2017-01-01 00:56:00\n",
       "5   2017-01-01 01:54:00\n",
       "Name: start_time, dtype: datetime64[ns]"
      ]
     },
     "execution_count": 16,
     "metadata": {},
     "output_type": "execute_result"
    }
   ],
   "source": [
    "test_df['start_time'].head(6)"
   ]
  },
  {
   "cell_type": "markdown",
   "id": "8c4f0fbe",
   "metadata": {
    "papermill": {
     "duration": 0.01042,
     "end_time": "2022-08-22T09:11:15.961670",
     "exception": false,
     "start_time": "2022-08-22T09:11:15.951250",
     "status": "completed"
    },
    "tags": []
   },
   "source": [
    "### trip_id"
   ]
  },
  {
   "cell_type": "code",
   "execution_count": 17,
   "id": "f1f0dc5b",
   "metadata": {
    "execution": {
     "iopub.execute_input": "2022-08-22T09:11:15.985211Z",
     "iopub.status.busy": "2022-08-22T09:11:15.984431Z",
     "iopub.status.idle": "2022-08-22T09:11:16.058797Z",
     "shell.execute_reply": "2022-08-22T09:11:16.057487Z"
    },
    "papermill": {
     "duration": 0.089725,
     "end_time": "2022-08-22T09:11:16.062122",
     "exception": false,
     "start_time": "2022-08-22T09:11:15.972397",
     "status": "completed"
    },
    "tags": []
   },
   "outputs": [],
   "source": [
    "train_df.drop('trip_id', inplace = True, axis = 1)\n",
    "test_df.drop('trip_id', inplace = True, axis = 1)"
   ]
  },
  {
   "cell_type": "markdown",
   "id": "4f23ba55",
   "metadata": {
    "papermill": {
     "duration": 0.010216,
     "end_time": "2022-08-22T09:11:16.083107",
     "exception": false,
     "start_time": "2022-08-22T09:11:16.072891",
     "status": "completed"
    },
    "tags": []
   },
   "source": [
    "### start_lat, start_lon, end_lat, end_lon"
   ]
  },
  {
   "cell_type": "code",
   "execution_count": 18,
   "id": "fce41d54",
   "metadata": {
    "execution": {
     "iopub.execute_input": "2022-08-22T09:11:16.106852Z",
     "iopub.status.busy": "2022-08-22T09:11:16.106053Z",
     "iopub.status.idle": "2022-08-22T09:11:16.160126Z",
     "shell.execute_reply": "2022-08-22T09:11:16.158972Z"
    },
    "papermill": {
     "duration": 0.069304,
     "end_time": "2022-08-22T09:11:16.163212",
     "exception": false,
     "start_time": "2022-08-22T09:11:16.093908",
     "status": "completed"
    },
    "tags": []
   },
   "outputs": [],
   "source": [
    "dict_temp = {'start_lat':0, 'start_lon':0, 'end_lat':0, 'end_lon':0}\n",
    "\n",
    "for column in dict_temp.keys():\n",
    "    dict_temp[column] = train_df[column].mean()\n",
    "    train_df[column] = train_df[column].fillna(dict_temp[column])\n",
    "    test_df[column] = test_df[column].fillna(dict_temp[column])"
   ]
  },
  {
   "cell_type": "markdown",
   "id": "213faaec",
   "metadata": {
    "papermill": {
     "duration": 0.010495,
     "end_time": "2022-08-22T09:11:16.184372",
     "exception": false,
     "start_time": "2022-08-22T09:11:16.173877",
     "status": "completed"
    },
    "tags": []
   },
   "source": [
    "### bike_id"
   ]
  },
  {
   "cell_type": "code",
   "execution_count": 19,
   "id": "9b2af536",
   "metadata": {
    "execution": {
     "iopub.execute_input": "2022-08-22T09:11:16.207881Z",
     "iopub.status.busy": "2022-08-22T09:11:16.207084Z",
     "iopub.status.idle": "2022-08-22T09:11:16.264439Z",
     "shell.execute_reply": "2022-08-22T09:11:16.263447Z"
    },
    "papermill": {
     "duration": 0.07219,
     "end_time": "2022-08-22T09:11:16.267240",
     "exception": false,
     "start_time": "2022-08-22T09:11:16.195050",
     "status": "completed"
    },
    "tags": []
   },
   "outputs": [],
   "source": [
    "train_df.drop('bike_id', inplace = True, axis = 1)\n",
    "test_df.drop('bike_id', inplace = True, axis = 1)"
   ]
  },
  {
   "cell_type": "markdown",
   "id": "c7f6e0ed",
   "metadata": {
    "papermill": {
     "duration": 0.010371,
     "end_time": "2022-08-22T09:11:16.288702",
     "exception": false,
     "start_time": "2022-08-22T09:11:16.278331",
     "status": "completed"
    },
    "tags": []
   },
   "source": [
    "### trip_route_category"
   ]
  },
  {
   "cell_type": "code",
   "execution_count": 20,
   "id": "b8016272",
   "metadata": {
    "execution": {
     "iopub.execute_input": "2022-08-22T09:11:16.312443Z",
     "iopub.status.busy": "2022-08-22T09:11:16.311664Z",
     "iopub.status.idle": "2022-08-22T09:11:16.320445Z",
     "shell.execute_reply": "2022-08-22T09:11:16.319469Z"
    },
    "papermill": {
     "duration": 0.023291,
     "end_time": "2022-08-22T09:11:16.322733",
     "exception": false,
     "start_time": "2022-08-22T09:11:16.299442",
     "status": "completed"
    },
    "tags": []
   },
   "outputs": [
    {
     "data": {
      "text/plain": [
       "0         Round Trip\n",
       "1            One Way\n",
       "2            One Way\n",
       "3            One Way\n",
       "4            One Way\n",
       "             ...    \n",
       "699995       One Way\n",
       "699996       One Way\n",
       "699997       One Way\n",
       "699998       One Way\n",
       "699999       One Way\n",
       "Name: trip_route_category, Length: 697424, dtype: object"
      ]
     },
     "execution_count": 20,
     "metadata": {},
     "output_type": "execute_result"
    }
   ],
   "source": [
    "train_df[\"trip_route_category\"]"
   ]
  },
  {
   "cell_type": "code",
   "execution_count": 21,
   "id": "044d1495",
   "metadata": {
    "execution": {
     "iopub.execute_input": "2022-08-22T09:11:16.346883Z",
     "iopub.status.busy": "2022-08-22T09:11:16.346126Z",
     "iopub.status.idle": "2022-08-22T09:11:16.424077Z",
     "shell.execute_reply": "2022-08-22T09:11:16.422853Z"
    },
    "papermill": {
     "duration": 0.093091,
     "end_time": "2022-08-22T09:11:16.426851",
     "exception": false,
     "start_time": "2022-08-22T09:11:16.333760",
     "status": "completed"
    },
    "tags": []
   },
   "outputs": [
    {
     "data": {
      "text/html": [
       "<div>\n",
       "<style scoped>\n",
       "    .dataframe tbody tr th:only-of-type {\n",
       "        vertical-align: middle;\n",
       "    }\n",
       "\n",
       "    .dataframe tbody tr th {\n",
       "        vertical-align: top;\n",
       "    }\n",
       "\n",
       "    .dataframe thead th {\n",
       "        text-align: right;\n",
       "    }\n",
       "</style>\n",
       "<table border=\"1\" class=\"dataframe\">\n",
       "  <thead>\n",
       "    <tr style=\"text-align: right;\">\n",
       "      <th></th>\n",
       "      <th>One Way</th>\n",
       "      <th>Round Trip</th>\n",
       "    </tr>\n",
       "  </thead>\n",
       "  <tbody>\n",
       "    <tr>\n",
       "      <th>0</th>\n",
       "      <td>0</td>\n",
       "      <td>1</td>\n",
       "    </tr>\n",
       "    <tr>\n",
       "      <th>1</th>\n",
       "      <td>1</td>\n",
       "      <td>0</td>\n",
       "    </tr>\n",
       "    <tr>\n",
       "      <th>2</th>\n",
       "      <td>1</td>\n",
       "      <td>0</td>\n",
       "    </tr>\n",
       "    <tr>\n",
       "      <th>3</th>\n",
       "      <td>1</td>\n",
       "      <td>0</td>\n",
       "    </tr>\n",
       "    <tr>\n",
       "      <th>4</th>\n",
       "      <td>1</td>\n",
       "      <td>0</td>\n",
       "    </tr>\n",
       "    <tr>\n",
       "      <th>...</th>\n",
       "      <td>...</td>\n",
       "      <td>...</td>\n",
       "    </tr>\n",
       "    <tr>\n",
       "      <th>699995</th>\n",
       "      <td>1</td>\n",
       "      <td>0</td>\n",
       "    </tr>\n",
       "    <tr>\n",
       "      <th>699996</th>\n",
       "      <td>1</td>\n",
       "      <td>0</td>\n",
       "    </tr>\n",
       "    <tr>\n",
       "      <th>699997</th>\n",
       "      <td>1</td>\n",
       "      <td>0</td>\n",
       "    </tr>\n",
       "    <tr>\n",
       "      <th>699998</th>\n",
       "      <td>1</td>\n",
       "      <td>0</td>\n",
       "    </tr>\n",
       "    <tr>\n",
       "      <th>699999</th>\n",
       "      <td>1</td>\n",
       "      <td>0</td>\n",
       "    </tr>\n",
       "  </tbody>\n",
       "</table>\n",
       "<p>697424 rows × 2 columns</p>\n",
       "</div>"
      ],
      "text/plain": [
       "        One Way  Round Trip\n",
       "0             0           1\n",
       "1             1           0\n",
       "2             1           0\n",
       "3             1           0\n",
       "4             1           0\n",
       "...         ...         ...\n",
       "699995        1           0\n",
       "699996        1           0\n",
       "699997        1           0\n",
       "699998        1           0\n",
       "699999        1           0\n",
       "\n",
       "[697424 rows x 2 columns]"
      ]
     },
     "execution_count": 21,
     "metadata": {},
     "output_type": "execute_result"
    }
   ],
   "source": [
    "pd.get_dummies(train_df[\"trip_route_category\"])"
   ]
  },
  {
   "cell_type": "code",
   "execution_count": 22,
   "id": "13f9fd6d",
   "metadata": {
    "execution": {
     "iopub.execute_input": "2022-08-22T09:11:16.451674Z",
     "iopub.status.busy": "2022-08-22T09:11:16.450603Z",
     "iopub.status.idle": "2022-08-22T09:11:16.604102Z",
     "shell.execute_reply": "2022-08-22T09:11:16.602878Z"
    },
    "papermill": {
     "duration": 0.168675,
     "end_time": "2022-08-22T09:11:16.606952",
     "exception": false,
     "start_time": "2022-08-22T09:11:16.438277",
     "status": "completed"
    },
    "tags": []
   },
   "outputs": [],
   "source": [
    "for df in [train_df, test_df]:\n",
    "    temp_df = pd.get_dummies(df[\"trip_route_category\"])\n",
    "    for column in temp_df.columns.tolist():\n",
    "        df.insert(loc = len(df.columns), column = column, value = temp_df[column])\n",
    "    df.drop(\"trip_route_category\", inplace = True, axis = 1)"
   ]
  },
  {
   "cell_type": "markdown",
   "id": "8d6ab2a9",
   "metadata": {
    "papermill": {
     "duration": 0.010694,
     "end_time": "2022-08-22T09:11:16.628858",
     "exception": false,
     "start_time": "2022-08-22T09:11:16.618164",
     "status": "completed"
    },
    "tags": []
   },
   "source": [
    "### passholder_type\n",
    "\n",
    "Será modifcado en la siguiente libreta dinámica"
   ]
  },
  {
   "cell_type": "markdown",
   "id": "7274b38f",
   "metadata": {
    "papermill": {
     "duration": 0.010776,
     "end_time": "2022-08-22T09:11:16.650720",
     "exception": false,
     "start_time": "2022-08-22T09:11:16.639944",
     "status": "completed"
    },
    "tags": []
   },
   "source": [
    "## Make DataFrame with means of each column train_df"
   ]
  },
  {
   "cell_type": "code",
   "execution_count": 23,
   "id": "9e83da1d",
   "metadata": {
    "execution": {
     "iopub.execute_input": "2022-08-22T09:11:16.675031Z",
     "iopub.status.busy": "2022-08-22T09:11:16.674288Z",
     "iopub.status.idle": "2022-08-22T09:11:16.706104Z",
     "shell.execute_reply": "2022-08-22T09:11:16.705026Z"
    },
    "papermill": {
     "duration": 0.047675,
     "end_time": "2022-08-22T09:11:16.709607",
     "exception": false,
     "start_time": "2022-08-22T09:11:16.661932",
     "status": "completed"
    },
    "tags": []
   },
   "outputs": [
    {
     "name": "stdout",
     "output_type": "stream",
     "text": [
      "start_lat\n",
      "start_lon\n",
      "end_lat\n",
      "end_lon\n",
      "{'duration': [37.12179104820024], 'start_time': [Timestamp('2019-04-07 06:28:18.260835840')], 'end_time': [Timestamp('2019-04-07 07:12:24.123294976')], 'start_lat': [34.04494252410217], 'start_lon': [-118.25364788320726], 'end_lat': [34.044163510779796], 'end_lon': [-118.25900137054006], 'start_station': [3498.2580008717796], 'end_station': [3488.2667702860813], 'One Way': [0.8315687444079929], 'Round Trip': [0.16843125559200717]}\n",
      "\n"
     ]
    },
    {
     "data": {
      "text/html": [
       "<div>\n",
       "<style scoped>\n",
       "    .dataframe tbody tr th:only-of-type {\n",
       "        vertical-align: middle;\n",
       "    }\n",
       "\n",
       "    .dataframe tbody tr th {\n",
       "        vertical-align: top;\n",
       "    }\n",
       "\n",
       "    .dataframe thead th {\n",
       "        text-align: right;\n",
       "    }\n",
       "</style>\n",
       "<table border=\"1\" class=\"dataframe\">\n",
       "  <thead>\n",
       "    <tr style=\"text-align: right;\">\n",
       "      <th></th>\n",
       "      <th>duration</th>\n",
       "      <th>start_time</th>\n",
       "      <th>end_time</th>\n",
       "      <th>start_lat</th>\n",
       "      <th>start_lon</th>\n",
       "      <th>end_lat</th>\n",
       "      <th>end_lon</th>\n",
       "      <th>start_station</th>\n",
       "      <th>end_station</th>\n",
       "      <th>One Way</th>\n",
       "      <th>Round Trip</th>\n",
       "    </tr>\n",
       "  </thead>\n",
       "  <tbody>\n",
       "    <tr>\n",
       "      <th>0</th>\n",
       "      <td>37.121791</td>\n",
       "      <td>2019-04-07 06:28:18.260835840</td>\n",
       "      <td>2019-04-07 07:12:24.123294976</td>\n",
       "      <td>34.044943</td>\n",
       "      <td>-118.253648</td>\n",
       "      <td>34.044164</td>\n",
       "      <td>-118.259001</td>\n",
       "      <td>3498.258001</td>\n",
       "      <td>3488.26677</td>\n",
       "      <td>0.831569</td>\n",
       "      <td>0.168431</td>\n",
       "    </tr>\n",
       "  </tbody>\n",
       "</table>\n",
       "</div>"
      ],
      "text/plain": [
       "    duration                    start_time                      end_time  \\\n",
       "0  37.121791 2019-04-07 06:28:18.260835840 2019-04-07 07:12:24.123294976   \n",
       "\n",
       "   start_lat   start_lon    end_lat     end_lon  start_station  end_station  \\\n",
       "0  34.044943 -118.253648  34.044164 -118.259001    3498.258001   3488.26677   \n",
       "\n",
       "    One Way  Round Trip  \n",
       "0  0.831569    0.168431  "
      ]
     },
     "execution_count": 23,
     "metadata": {},
     "output_type": "execute_result"
    }
   ],
   "source": [
    "means_dict = {}\n",
    "for column in train_df.columns:\n",
    "    if column == 'passholder_type':\n",
    "        continue\n",
    "    if column in dict_temp.keys():\n",
    "        means_dict[column] = [dict_temp[column]]\n",
    "        print(column)\n",
    "    else:\n",
    "        means_dict[column] = [train_df[column].mean()]\n",
    "print(means_dict)\n",
    "print()\n",
    "df_means = pd.DataFrame.from_dict(means_dict)\n",
    "df_means"
   ]
  },
  {
   "cell_type": "code",
   "execution_count": 24,
   "id": "d26638d5",
   "metadata": {
    "execution": {
     "iopub.execute_input": "2022-08-22T09:11:16.735505Z",
     "iopub.status.busy": "2022-08-22T09:11:16.734754Z",
     "iopub.status.idle": "2022-08-22T09:11:16.740747Z",
     "shell.execute_reply": "2022-08-22T09:11:16.739763Z"
    },
    "papermill": {
     "duration": 0.02141,
     "end_time": "2022-08-22T09:11:16.742956",
     "exception": false,
     "start_time": "2022-08-22T09:11:16.721546",
     "status": "completed"
    },
    "tags": []
   },
   "outputs": [
    {
     "data": {
      "text/plain": [
       "11"
      ]
     },
     "execution_count": 24,
     "metadata": {},
     "output_type": "execute_result"
    }
   ],
   "source": [
    "len(means_dict.keys())"
   ]
  },
  {
   "cell_type": "code",
   "execution_count": 25,
   "id": "bab58641",
   "metadata": {
    "execution": {
     "iopub.execute_input": "2022-08-22T09:11:16.768569Z",
     "iopub.status.busy": "2022-08-22T09:11:16.767731Z",
     "iopub.status.idle": "2022-08-22T09:11:16.776654Z",
     "shell.execute_reply": "2022-08-22T09:11:16.775345Z"
    },
    "papermill": {
     "duration": 0.024599,
     "end_time": "2022-08-22T09:11:16.779167",
     "exception": false,
     "start_time": "2022-08-22T09:11:16.754568",
     "status": "completed"
    },
    "tags": []
   },
   "outputs": [
    {
     "data": {
      "text/plain": [
       "duration                    int64\n",
       "start_time         datetime64[ns]\n",
       "end_time           datetime64[ns]\n",
       "start_lat                 float64\n",
       "start_lon                 float64\n",
       "end_lat                   float64\n",
       "end_lon                   float64\n",
       "passholder_type            object\n",
       "start_station               int64\n",
       "end_station                 int64\n",
       "One Way                     uint8\n",
       "Round Trip                  uint8\n",
       "dtype: object"
      ]
     },
     "execution_count": 25,
     "metadata": {},
     "output_type": "execute_result"
    }
   ],
   "source": [
    "train_df.dtypes"
   ]
  },
  {
   "cell_type": "code",
   "execution_count": 26,
   "id": "8997d66b",
   "metadata": {
    "execution": {
     "iopub.execute_input": "2022-08-22T09:11:16.804509Z",
     "iopub.status.busy": "2022-08-22T09:11:16.803726Z",
     "iopub.status.idle": "2022-08-22T09:11:16.812434Z",
     "shell.execute_reply": "2022-08-22T09:11:16.811258Z"
    },
    "papermill": {
     "duration": 0.024055,
     "end_time": "2022-08-22T09:11:16.814868",
     "exception": false,
     "start_time": "2022-08-22T09:11:16.790813",
     "status": "completed"
    },
    "tags": []
   },
   "outputs": [
    {
     "data": {
      "text/plain": [
       "duration                  int64\n",
       "start_time       datetime64[ns]\n",
       "end_time         datetime64[ns]\n",
       "start_lat               float64\n",
       "start_lon               float64\n",
       "end_lat                 float64\n",
       "end_lon                 float64\n",
       "start_station             int64\n",
       "end_station               int64\n",
       "One Way                   uint8\n",
       "Round Trip                uint8\n",
       "dtype: object"
      ]
     },
     "execution_count": 26,
     "metadata": {},
     "output_type": "execute_result"
    }
   ],
   "source": [
    "test_df.dtypes"
   ]
  },
  {
   "cell_type": "code",
   "execution_count": 27,
   "id": "0ef36f28",
   "metadata": {
    "execution": {
     "iopub.execute_input": "2022-08-22T09:11:16.839638Z",
     "iopub.status.busy": "2022-08-22T09:11:16.839251Z",
     "iopub.status.idle": "2022-08-22T09:11:16.895280Z",
     "shell.execute_reply": "2022-08-22T09:11:16.893926Z"
    },
    "papermill": {
     "duration": 0.071965,
     "end_time": "2022-08-22T09:11:16.898494",
     "exception": false,
     "start_time": "2022-08-22T09:11:16.826529",
     "status": "completed"
    },
    "tags": []
   },
   "outputs": [
    {
     "data": {
      "text/plain": [
       "duration           0\n",
       "start_time         0\n",
       "end_time           0\n",
       "start_lat          0\n",
       "start_lon          0\n",
       "end_lat            0\n",
       "end_lon            0\n",
       "passholder_type    0\n",
       "start_station      0\n",
       "end_station        0\n",
       "One Way            0\n",
       "Round Trip         0\n",
       "dtype: int64"
      ]
     },
     "execution_count": 27,
     "metadata": {},
     "output_type": "execute_result"
    }
   ],
   "source": [
    "train_df.isnull().sum()"
   ]
  },
  {
   "cell_type": "code",
   "execution_count": 28,
   "id": "5ecbd9a9",
   "metadata": {
    "execution": {
     "iopub.execute_input": "2022-08-22T09:11:16.925345Z",
     "iopub.status.busy": "2022-08-22T09:11:16.924557Z",
     "iopub.status.idle": "2022-08-22T09:11:16.976067Z",
     "shell.execute_reply": "2022-08-22T09:11:16.974944Z"
    },
    "papermill": {
     "duration": 0.067823,
     "end_time": "2022-08-22T09:11:16.978473",
     "exception": false,
     "start_time": "2022-08-22T09:11:16.910650",
     "status": "completed"
    },
    "tags": []
   },
   "outputs": [
    {
     "data": {
      "text/plain": [
       "duration           0\n",
       "start_time         0\n",
       "end_time           0\n",
       "start_lat          0\n",
       "start_lon          0\n",
       "end_lat            0\n",
       "end_lon            0\n",
       "passholder_type    0\n",
       "start_station      0\n",
       "end_station        0\n",
       "One Way            0\n",
       "Round Trip         0\n",
       "dtype: int64"
      ]
     },
     "execution_count": 28,
     "metadata": {},
     "output_type": "execute_result"
    }
   ],
   "source": [
    "train_df.isnull().sum()"
   ]
  },
  {
   "cell_type": "code",
   "execution_count": 29,
   "id": "63bffe7a",
   "metadata": {
    "execution": {
     "iopub.execute_input": "2022-08-22T09:11:17.004259Z",
     "iopub.status.busy": "2022-08-22T09:11:17.003520Z",
     "iopub.status.idle": "2022-08-22T09:11:17.011018Z",
     "shell.execute_reply": "2022-08-22T09:11:17.008856Z"
    },
    "papermill": {
     "duration": 0.024669,
     "end_time": "2022-08-22T09:11:17.014918",
     "exception": false,
     "start_time": "2022-08-22T09:11:16.990249",
     "status": "completed"
    },
    "tags": []
   },
   "outputs": [
    {
     "name": "stdout",
     "output_type": "stream",
     "text": [
      "12\n",
      "11\n"
     ]
    }
   ],
   "source": [
    "print(len(train_df.columns))\n",
    "print(len(test_df.columns))"
   ]
  },
  {
   "cell_type": "code",
   "execution_count": 30,
   "id": "cf418480",
   "metadata": {
    "execution": {
     "iopub.execute_input": "2022-08-22T09:11:17.041428Z",
     "iopub.status.busy": "2022-08-22T09:11:17.040650Z",
     "iopub.status.idle": "2022-08-22T09:11:17.058207Z",
     "shell.execute_reply": "2022-08-22T09:11:17.057005Z"
    },
    "papermill": {
     "duration": 0.033508,
     "end_time": "2022-08-22T09:11:17.060776",
     "exception": false,
     "start_time": "2022-08-22T09:11:17.027268",
     "status": "completed"
    },
    "tags": []
   },
   "outputs": [
    {
     "data": {
      "text/html": [
       "<div>\n",
       "<style scoped>\n",
       "    .dataframe tbody tr th:only-of-type {\n",
       "        vertical-align: middle;\n",
       "    }\n",
       "\n",
       "    .dataframe tbody tr th {\n",
       "        vertical-align: top;\n",
       "    }\n",
       "\n",
       "    .dataframe thead th {\n",
       "        text-align: right;\n",
       "    }\n",
       "</style>\n",
       "<table border=\"1\" class=\"dataframe\">\n",
       "  <thead>\n",
       "    <tr style=\"text-align: right;\">\n",
       "      <th></th>\n",
       "      <th>duration</th>\n",
       "      <th>start_time</th>\n",
       "      <th>end_time</th>\n",
       "      <th>start_lat</th>\n",
       "      <th>start_lon</th>\n",
       "      <th>end_lat</th>\n",
       "      <th>end_lon</th>\n",
       "      <th>passholder_type</th>\n",
       "      <th>start_station</th>\n",
       "      <th>end_station</th>\n",
       "      <th>One Way</th>\n",
       "      <th>Round Trip</th>\n",
       "    </tr>\n",
       "  </thead>\n",
       "  <tbody>\n",
       "    <tr>\n",
       "      <th>0</th>\n",
       "      <td>35</td>\n",
       "      <td>2018-08-07 11:20:00</td>\n",
       "      <td>2018-08-07 11:55:00</td>\n",
       "      <td>33.748920</td>\n",
       "      <td>-118.275192</td>\n",
       "      <td>33.748920</td>\n",
       "      <td>-118.275192</td>\n",
       "      <td>Walk-up</td>\n",
       "      <td>4127</td>\n",
       "      <td>4127</td>\n",
       "      <td>0</td>\n",
       "      <td>1</td>\n",
       "    </tr>\n",
       "    <tr>\n",
       "      <th>1</th>\n",
       "      <td>32</td>\n",
       "      <td>2017-09-17 17:51:00</td>\n",
       "      <td>2017-09-17 18:23:00</td>\n",
       "      <td>34.035679</td>\n",
       "      <td>-118.270813</td>\n",
       "      <td>34.047749</td>\n",
       "      <td>-118.243172</td>\n",
       "      <td>Walk-up</td>\n",
       "      <td>3057</td>\n",
       "      <td>3062</td>\n",
       "      <td>1</td>\n",
       "      <td>0</td>\n",
       "    </tr>\n",
       "    <tr>\n",
       "      <th>2</th>\n",
       "      <td>6</td>\n",
       "      <td>2019-04-22 09:22:00</td>\n",
       "      <td>2019-04-22 09:28:00</td>\n",
       "      <td>34.046070</td>\n",
       "      <td>-118.233093</td>\n",
       "      <td>34.047749</td>\n",
       "      <td>-118.243172</td>\n",
       "      <td>Monthly Pass</td>\n",
       "      <td>3022</td>\n",
       "      <td>3062</td>\n",
       "      <td>1</td>\n",
       "      <td>0</td>\n",
       "    </tr>\n",
       "    <tr>\n",
       "      <th>3</th>\n",
       "      <td>138</td>\n",
       "      <td>2019-09-22 11:27:00</td>\n",
       "      <td>2019-09-22 13:45:00</td>\n",
       "      <td>34.062580</td>\n",
       "      <td>-118.290092</td>\n",
       "      <td>34.059689</td>\n",
       "      <td>-118.294662</td>\n",
       "      <td>One Day Pass</td>\n",
       "      <td>4304</td>\n",
       "      <td>4311</td>\n",
       "      <td>1</td>\n",
       "      <td>0</td>\n",
       "    </tr>\n",
       "    <tr>\n",
       "      <th>4</th>\n",
       "      <td>14</td>\n",
       "      <td>2020-01-31 17:11:00</td>\n",
       "      <td>2020-01-31 17:25:00</td>\n",
       "      <td>34.026291</td>\n",
       "      <td>-118.277687</td>\n",
       "      <td>34.021660</td>\n",
       "      <td>-118.278687</td>\n",
       "      <td>Monthly Pass</td>\n",
       "      <td>4266</td>\n",
       "      <td>4443</td>\n",
       "      <td>1</td>\n",
       "      <td>0</td>\n",
       "    </tr>\n",
       "  </tbody>\n",
       "</table>\n",
       "</div>"
      ],
      "text/plain": [
       "   duration          start_time            end_time  start_lat   start_lon  \\\n",
       "0        35 2018-08-07 11:20:00 2018-08-07 11:55:00  33.748920 -118.275192   \n",
       "1        32 2017-09-17 17:51:00 2017-09-17 18:23:00  34.035679 -118.270813   \n",
       "2         6 2019-04-22 09:22:00 2019-04-22 09:28:00  34.046070 -118.233093   \n",
       "3       138 2019-09-22 11:27:00 2019-09-22 13:45:00  34.062580 -118.290092   \n",
       "4        14 2020-01-31 17:11:00 2020-01-31 17:25:00  34.026291 -118.277687   \n",
       "\n",
       "     end_lat     end_lon passholder_type  start_station  end_station  One Way  \\\n",
       "0  33.748920 -118.275192         Walk-up           4127         4127        0   \n",
       "1  34.047749 -118.243172         Walk-up           3057         3062        1   \n",
       "2  34.047749 -118.243172    Monthly Pass           3022         3062        1   \n",
       "3  34.059689 -118.294662    One Day Pass           4304         4311        1   \n",
       "4  34.021660 -118.278687    Monthly Pass           4266         4443        1   \n",
       "\n",
       "   Round Trip  \n",
       "0           1  \n",
       "1           0  \n",
       "2           0  \n",
       "3           0  \n",
       "4           0  "
      ]
     },
     "execution_count": 30,
     "metadata": {},
     "output_type": "execute_result"
    }
   ],
   "source": [
    "train_df.head()"
   ]
  },
  {
   "cell_type": "code",
   "execution_count": 31,
   "id": "0ca7fe78",
   "metadata": {
    "execution": {
     "iopub.execute_input": "2022-08-22T09:11:17.087857Z",
     "iopub.status.busy": "2022-08-22T09:11:17.087055Z",
     "iopub.status.idle": "2022-08-22T09:11:17.103797Z",
     "shell.execute_reply": "2022-08-22T09:11:17.102626Z"
    },
    "papermill": {
     "duration": 0.033385,
     "end_time": "2022-08-22T09:11:17.106434",
     "exception": false,
     "start_time": "2022-08-22T09:11:17.073049",
     "status": "completed"
    },
    "tags": []
   },
   "outputs": [
    {
     "data": {
      "text/html": [
       "<div>\n",
       "<style scoped>\n",
       "    .dataframe tbody tr th:only-of-type {\n",
       "        vertical-align: middle;\n",
       "    }\n",
       "\n",
       "    .dataframe tbody tr th {\n",
       "        vertical-align: top;\n",
       "    }\n",
       "\n",
       "    .dataframe thead th {\n",
       "        text-align: right;\n",
       "    }\n",
       "</style>\n",
       "<table border=\"1\" class=\"dataframe\">\n",
       "  <thead>\n",
       "    <tr style=\"text-align: right;\">\n",
       "      <th></th>\n",
       "      <th>duration</th>\n",
       "      <th>start_time</th>\n",
       "      <th>end_time</th>\n",
       "      <th>start_lat</th>\n",
       "      <th>start_lon</th>\n",
       "      <th>end_lat</th>\n",
       "      <th>end_lon</th>\n",
       "      <th>start_station</th>\n",
       "      <th>end_station</th>\n",
       "      <th>One Way</th>\n",
       "      <th>Round Trip</th>\n",
       "    </tr>\n",
       "  </thead>\n",
       "  <tbody>\n",
       "    <tr>\n",
       "      <th>0</th>\n",
       "      <td>12</td>\n",
       "      <td>2017-01-01 00:24:00</td>\n",
       "      <td>2017-01-01 00:36:00</td>\n",
       "      <td>34.058319</td>\n",
       "      <td>-118.246094</td>\n",
       "      <td>34.058319</td>\n",
       "      <td>-118.246094</td>\n",
       "      <td>3028</td>\n",
       "      <td>3028</td>\n",
       "      <td>0</td>\n",
       "      <td>1</td>\n",
       "    </tr>\n",
       "    <tr>\n",
       "      <th>1</th>\n",
       "      <td>17</td>\n",
       "      <td>2017-01-01 00:28:00</td>\n",
       "      <td>2017-01-01 00:45:00</td>\n",
       "      <td>34.049980</td>\n",
       "      <td>-118.247162</td>\n",
       "      <td>34.043732</td>\n",
       "      <td>-118.260139</td>\n",
       "      <td>3027</td>\n",
       "      <td>3018</td>\n",
       "      <td>1</td>\n",
       "      <td>0</td>\n",
       "    </tr>\n",
       "    <tr>\n",
       "      <th>2</th>\n",
       "      <td>20</td>\n",
       "      <td>2017-01-01 00:39:00</td>\n",
       "      <td>2017-01-01 00:59:00</td>\n",
       "      <td>34.063389</td>\n",
       "      <td>-118.236160</td>\n",
       "      <td>34.044159</td>\n",
       "      <td>-118.251579</td>\n",
       "      <td>3066</td>\n",
       "      <td>3055</td>\n",
       "      <td>1</td>\n",
       "      <td>0</td>\n",
       "    </tr>\n",
       "    <tr>\n",
       "      <th>3</th>\n",
       "      <td>12</td>\n",
       "      <td>2017-01-01 00:43:00</td>\n",
       "      <td>2017-01-01 00:55:00</td>\n",
       "      <td>34.048851</td>\n",
       "      <td>-118.246422</td>\n",
       "      <td>34.050140</td>\n",
       "      <td>-118.233238</td>\n",
       "      <td>3029</td>\n",
       "      <td>3079</td>\n",
       "      <td>1</td>\n",
       "      <td>0</td>\n",
       "    </tr>\n",
       "    <tr>\n",
       "      <th>4</th>\n",
       "      <td>48</td>\n",
       "      <td>2017-01-01 00:56:00</td>\n",
       "      <td>2017-01-01 01:44:00</td>\n",
       "      <td>34.049198</td>\n",
       "      <td>-118.252831</td>\n",
       "      <td>34.049198</td>\n",
       "      <td>-118.252831</td>\n",
       "      <td>3063</td>\n",
       "      <td>3063</td>\n",
       "      <td>0</td>\n",
       "      <td>1</td>\n",
       "    </tr>\n",
       "  </tbody>\n",
       "</table>\n",
       "</div>"
      ],
      "text/plain": [
       "   duration          start_time            end_time  start_lat   start_lon  \\\n",
       "0        12 2017-01-01 00:24:00 2017-01-01 00:36:00  34.058319 -118.246094   \n",
       "1        17 2017-01-01 00:28:00 2017-01-01 00:45:00  34.049980 -118.247162   \n",
       "2        20 2017-01-01 00:39:00 2017-01-01 00:59:00  34.063389 -118.236160   \n",
       "3        12 2017-01-01 00:43:00 2017-01-01 00:55:00  34.048851 -118.246422   \n",
       "4        48 2017-01-01 00:56:00 2017-01-01 01:44:00  34.049198 -118.252831   \n",
       "\n",
       "     end_lat     end_lon  start_station  end_station  One Way  Round Trip  \n",
       "0  34.058319 -118.246094           3028         3028        0           1  \n",
       "1  34.043732 -118.260139           3027         3018        1           0  \n",
       "2  34.044159 -118.251579           3066         3055        1           0  \n",
       "3  34.050140 -118.233238           3029         3079        1           0  \n",
       "4  34.049198 -118.252831           3063         3063        0           1  "
      ]
     },
     "execution_count": 31,
     "metadata": {},
     "output_type": "execute_result"
    }
   ],
   "source": [
    "test_df.head()"
   ]
  },
  {
   "cell_type": "markdown",
   "id": "54deb204",
   "metadata": {
    "papermill": {
     "duration": 0.012224,
     "end_time": "2022-08-22T09:11:17.131217",
     "exception": false,
     "start_time": "2022-08-22T09:11:17.118993",
     "status": "completed"
    },
    "tags": []
   },
   "source": [
    "## Save Files"
   ]
  },
  {
   "cell_type": "code",
   "execution_count": 32,
   "id": "e3ecf481",
   "metadata": {
    "execution": {
     "iopub.execute_input": "2022-08-22T09:11:17.159377Z",
     "iopub.status.busy": "2022-08-22T09:11:17.158600Z",
     "iopub.status.idle": "2022-08-22T09:11:28.589349Z",
     "shell.execute_reply": "2022-08-22T09:11:28.588146Z"
    },
    "papermill": {
     "duration": 11.447529,
     "end_time": "2022-08-22T09:11:28.592268",
     "exception": false,
     "start_time": "2022-08-22T09:11:17.144739",
     "status": "completed"
    },
    "tags": []
   },
   "outputs": [],
   "source": [
    "train_df.to_csv('train_set_final.csv', index=False)\n",
    "test_df.to_csv('test_set_final.csv', index=False)\n",
    "df_means.to_csv('means_dict.csv', index=False)"
   ]
  }
 ],
 "metadata": {
  "kernelspec": {
   "display_name": "Python 3",
   "language": "python",
   "name": "python3"
  },
  "language_info": {
   "codemirror_mode": {
    "name": "ipython",
    "version": 3
   },
   "file_extension": ".py",
   "mimetype": "text/x-python",
   "name": "python",
   "nbconvert_exporter": "python",
   "pygments_lexer": "ipython3",
   "version": "3.7.12"
  },
  "papermill": {
   "default_parameters": {},
   "duration": 147.408285,
   "end_time": "2022-08-22T09:11:29.227985",
   "environment_variables": {},
   "exception": null,
   "input_path": "__notebook__.ipynb",
   "output_path": "__notebook__.ipynb",
   "parameters": {},
   "start_time": "2022-08-22T09:09:01.819700",
   "version": "2.3.4"
  }
 },
 "nbformat": 4,
 "nbformat_minor": 5
}
