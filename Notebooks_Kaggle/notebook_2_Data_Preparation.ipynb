{
 "cells": [
  {
   "cell_type": "code",
   "execution_count": 1,
   "id": "90671952",
   "metadata": {
    "execution": {
     "iopub.execute_input": "2022-08-22T06:11:00.724468Z",
     "iopub.status.busy": "2022-08-22T06:11:00.723788Z",
     "iopub.status.idle": "2022-08-22T06:11:00.737433Z",
     "shell.execute_reply": "2022-08-22T06:11:00.736388Z"
    },
    "papermill": {
     "duration": 0.030566,
     "end_time": "2022-08-22T06:11:00.740925",
     "exception": false,
     "start_time": "2022-08-22T06:11:00.710359",
     "status": "completed"
    },
    "tags": []
   },
   "outputs": [],
   "source": [
    "import pandas as pd"
   ]
  },
  {
   "cell_type": "code",
   "execution_count": 2,
   "id": "e47a2f60",
   "metadata": {
    "execution": {
     "iopub.execute_input": "2022-08-22T06:11:00.767403Z",
     "iopub.status.busy": "2022-08-22T06:11:00.766474Z",
     "iopub.status.idle": "2022-08-22T06:11:05.906439Z",
     "shell.execute_reply": "2022-08-22T06:11:05.905383Z"
    },
    "papermill": {
     "duration": 5.157321,
     "end_time": "2022-08-22T06:11:05.909163",
     "exception": false,
     "start_time": "2022-08-22T06:11:00.751842",
     "status": "completed"
    },
    "tags": []
   },
   "outputs": [
    {
     "name": "stderr",
     "output_type": "stream",
     "text": [
      "/opt/conda/lib/python3.7/site-packages/IPython/core/interactiveshell.py:3552: DtypeWarning: Columns (8) have mixed types.Specify dtype option on import or set low_memory=False.\n",
      "  exec(code_obj, self.user_global_ns, self.user_ns)\n"
     ]
    }
   ],
   "source": [
    "train_df= pd.read_csv('../input/arkon-data-bikes-train/train_set.csv')\n",
    "test_df= pd.read_csv('../input/arkon-data-bikes-test/test_set.csv')"
   ]
  },
  {
   "cell_type": "markdown",
   "id": "e7b42e55",
   "metadata": {
    "papermill": {
     "duration": 0.008663,
     "end_time": "2022-08-22T06:11:05.926913",
     "exception": false,
     "start_time": "2022-08-22T06:11:05.918250",
     "status": "completed"
    },
    "tags": []
   },
   "source": [
    "# 2.- Data Preparation"
   ]
  },
  {
   "cell_type": "code",
   "execution_count": 3,
   "id": "c3c4f23d",
   "metadata": {
    "execution": {
     "iopub.execute_input": "2022-08-22T06:11:05.946735Z",
     "iopub.status.busy": "2022-08-22T06:11:05.945691Z",
     "iopub.status.idle": "2022-08-22T06:11:05.959962Z",
     "shell.execute_reply": "2022-08-22T06:11:05.958834Z"
    },
    "papermill": {
     "duration": 0.026692,
     "end_time": "2022-08-22T06:11:05.962515",
     "exception": false,
     "start_time": "2022-08-22T06:11:05.935823",
     "status": "completed"
    },
    "tags": []
   },
   "outputs": [
    {
     "data": {
      "text/plain": [
       "trip_id                  int64\n",
       "duration                 int64\n",
       "start_time              object\n",
       "end_time                object\n",
       "start_lat              float64\n",
       "start_lon              float64\n",
       "end_lat                float64\n",
       "end_lon                float64\n",
       "bike_id                 object\n",
       "plan_duration          float64\n",
       "trip_route_category     object\n",
       "passholder_type         object\n",
       "start_station            int64\n",
       "end_station              int64\n",
       "dtype: object"
      ]
     },
     "execution_count": 3,
     "metadata": {},
     "output_type": "execute_result"
    }
   ],
   "source": [
    "train_df.dtypes"
   ]
  },
  {
   "cell_type": "code",
   "execution_count": 4,
   "id": "31760916",
   "metadata": {
    "execution": {
     "iopub.execute_input": "2022-08-22T06:11:05.982227Z",
     "iopub.status.busy": "2022-08-22T06:11:05.981327Z",
     "iopub.status.idle": "2022-08-22T06:11:05.990418Z",
     "shell.execute_reply": "2022-08-22T06:11:05.989226Z"
    },
    "papermill": {
     "duration": 0.021652,
     "end_time": "2022-08-22T06:11:05.993051",
     "exception": false,
     "start_time": "2022-08-22T06:11:05.971399",
     "status": "completed"
    },
    "tags": []
   },
   "outputs": [
    {
     "data": {
      "text/plain": [
       "trip_id                  int64\n",
       "duration                 int64\n",
       "start_time              object\n",
       "end_time                object\n",
       "start_lat              float64\n",
       "start_lon              float64\n",
       "end_lat                float64\n",
       "end_lon                float64\n",
       "bike_id                 object\n",
       "plan_duration          float64\n",
       "trip_route_category     object\n",
       "passholder_type         object\n",
       "start_station            int64\n",
       "end_station              int64\n",
       "dtype: object"
      ]
     },
     "execution_count": 4,
     "metadata": {},
     "output_type": "execute_result"
    }
   ],
   "source": [
    "train_df.dtypes"
   ]
  },
  {
   "cell_type": "code",
   "execution_count": 5,
   "id": "d8d8d0cf",
   "metadata": {
    "execution": {
     "iopub.execute_input": "2022-08-22T06:11:06.013231Z",
     "iopub.status.busy": "2022-08-22T06:11:06.012818Z",
     "iopub.status.idle": "2022-08-22T06:11:06.179604Z",
     "shell.execute_reply": "2022-08-22T06:11:06.178440Z"
    },
    "papermill": {
     "duration": 0.179875,
     "end_time": "2022-08-22T06:11:06.182251",
     "exception": false,
     "start_time": "2022-08-22T06:11:06.002376",
     "status": "completed"
    },
    "tags": []
   },
   "outputs": [
    {
     "data": {
      "text/plain": [
       "trip_id                    0\n",
       "duration                   0\n",
       "start_time                 0\n",
       "end_time                   0\n",
       "start_lat               5563\n",
       "start_lon               5563\n",
       "end_lat                18574\n",
       "end_lon                18574\n",
       "bike_id                    0\n",
       "plan_duration            208\n",
       "trip_route_category        0\n",
       "passholder_type         2576\n",
       "start_station              0\n",
       "end_station                0\n",
       "dtype: int64"
      ]
     },
     "execution_count": 5,
     "metadata": {},
     "output_type": "execute_result"
    }
   ],
   "source": [
    "train_df.isnull().sum()"
   ]
  },
  {
   "cell_type": "code",
   "execution_count": 6,
   "id": "811955ed",
   "metadata": {
    "execution": {
     "iopub.execute_input": "2022-08-22T06:11:06.203058Z",
     "iopub.status.busy": "2022-08-22T06:11:06.202302Z",
     "iopub.status.idle": "2022-08-22T06:11:06.313463Z",
     "shell.execute_reply": "2022-08-22T06:11:06.312239Z"
    },
    "papermill": {
     "duration": 0.12457,
     "end_time": "2022-08-22T06:11:06.315957",
     "exception": false,
     "start_time": "2022-08-22T06:11:06.191387",
     "status": "completed"
    },
    "tags": []
   },
   "outputs": [
    {
     "data": {
      "text/plain": [
       "trip_id                    0\n",
       "duration                   0\n",
       "start_time                 0\n",
       "end_time                   0\n",
       "start_lat               4622\n",
       "start_lon               4622\n",
       "end_lat                14891\n",
       "end_lon                14891\n",
       "bike_id                    0\n",
       "trip_route_category        0\n",
       "start_station              0\n",
       "end_station                0\n",
       "dtype: int64"
      ]
     },
     "execution_count": 6,
     "metadata": {},
     "output_type": "execute_result"
    }
   ],
   "source": [
    "test_df.isnull().sum()"
   ]
  },
  {
   "cell_type": "code",
   "execution_count": 7,
   "id": "7f7e7dfb",
   "metadata": {
    "execution": {
     "iopub.execute_input": "2022-08-22T06:11:06.336730Z",
     "iopub.status.busy": "2022-08-22T06:11:06.336310Z",
     "iopub.status.idle": "2022-08-22T06:11:06.341884Z",
     "shell.execute_reply": "2022-08-22T06:11:06.341028Z"
    },
    "papermill": {
     "duration": 0.018583,
     "end_time": "2022-08-22T06:11:06.344707",
     "exception": false,
     "start_time": "2022-08-22T06:11:06.326124",
     "status": "completed"
    },
    "tags": []
   },
   "outputs": [
    {
     "name": "stdout",
     "output_type": "stream",
     "text": [
      "14\n",
      "12\n"
     ]
    }
   ],
   "source": [
    "print(len(train_df.columns))\n",
    "print(len(test_df.columns))"
   ]
  },
  {
   "cell_type": "markdown",
   "id": "84073366",
   "metadata": {
    "papermill": {
     "duration": 0.008805,
     "end_time": "2022-08-22T06:11:06.362733",
     "exception": false,
     "start_time": "2022-08-22T06:11:06.353928",
     "status": "completed"
    },
    "tags": []
   },
   "source": [
    "Como es posible observar, en ambos conjuntos de datos (train_set y test_set) existen valores nulos en diferentes columnas. Para este problema existen dos opciones de solución: eliminar los ejemplos con datos faltantes o \"rellenarlos\" (***Data Imputation*** ) con nuevos valores.\n",
    "\n",
    "Eliminar los datos se presenta como la opción más rápida y sencilla. Sin embargo, esto implicaría la perdida de ejemplos que probablemente afectarían el rendimiento de cualquier modelo.\n",
    "\n",
    "Por lo anterior se decidió utilizar ***Data Imputation*** a partir del cálculo de la media aritmética con el objetivo de evitar el problema descrito previamente y simplificar el proceso de aplicación de esta técnica.\n",
    "\n",
    "Sin embargo, es necesario eliminar 2576 ejemplos del conjunto de entrenamiento debido a que no esta presnete el valor de 'passholder_type'."
   ]
  },
  {
   "cell_type": "code",
   "execution_count": 8,
   "id": "22d0cf6f",
   "metadata": {
    "execution": {
     "iopub.execute_input": "2022-08-22T06:11:06.382489Z",
     "iopub.status.busy": "2022-08-22T06:11:06.382078Z",
     "iopub.status.idle": "2022-08-22T06:11:06.390925Z",
     "shell.execute_reply": "2022-08-22T06:11:06.389823Z"
    },
    "papermill": {
     "duration": 0.021358,
     "end_time": "2022-08-22T06:11:06.393221",
     "exception": false,
     "start_time": "2022-08-22T06:11:06.371863",
     "status": "completed"
    },
    "tags": []
   },
   "outputs": [
    {
     "data": {
      "text/plain": [
       "['plan_duration', 'passholder_type']"
      ]
     },
     "execution_count": 8,
     "metadata": {},
     "output_type": "execute_result"
    }
   ],
   "source": [
    "# Review columns\n",
    "NoMatch_columns = []\n",
    "for column in train_df.columns:\n",
    "    for index, column2 in enumerate(test_df.columns):\n",
    "        if column == column2:\n",
    "            break\n",
    "        elif index + 1 == len(test_df.columns):\n",
    "            NoMatch_columns.append(column)\n",
    "NoMatch_columns"
   ]
  },
  {
   "cell_type": "code",
   "execution_count": 9,
   "id": "9d68bcb3",
   "metadata": {
    "execution": {
     "iopub.execute_input": "2022-08-22T06:11:06.413383Z",
     "iopub.status.busy": "2022-08-22T06:11:06.412947Z",
     "iopub.status.idle": "2022-08-22T06:11:06.582540Z",
     "shell.execute_reply": "2022-08-22T06:11:06.581438Z"
    },
    "papermill": {
     "duration": 0.18293,
     "end_time": "2022-08-22T06:11:06.585440",
     "exception": false,
     "start_time": "2022-08-22T06:11:06.402510",
     "status": "completed"
    },
    "tags": []
   },
   "outputs": [
    {
     "data": {
      "text/plain": [
       "trip_id                    0\n",
       "duration                   0\n",
       "start_time                 0\n",
       "end_time                   0\n",
       "start_lat               5563\n",
       "start_lon               5563\n",
       "end_lat                18574\n",
       "end_lon                18574\n",
       "bike_id                    0\n",
       "plan_duration            208\n",
       "trip_route_category        0\n",
       "passholder_type         2576\n",
       "start_station              0\n",
       "end_station                0\n",
       "dtype: int64"
      ]
     },
     "execution_count": 9,
     "metadata": {},
     "output_type": "execute_result"
    }
   ],
   "source": [
    "train_df.isnull().sum()"
   ]
  },
  {
   "cell_type": "markdown",
   "id": "2bcd3c8e",
   "metadata": {
    "papermill": {
     "duration": 0.009225,
     "end_time": "2022-08-22T06:11:06.604353",
     "exception": false,
     "start_time": "2022-08-22T06:11:06.595128",
     "status": "completed"
    },
    "tags": []
   },
   "source": [
    "### passholder_type"
   ]
  },
  {
   "cell_type": "code",
   "execution_count": 10,
   "id": "c864d7a3",
   "metadata": {
    "execution": {
     "iopub.execute_input": "2022-08-22T06:11:06.625541Z",
     "iopub.status.busy": "2022-08-22T06:11:06.624790Z",
     "iopub.status.idle": "2022-08-22T06:11:06.631613Z",
     "shell.execute_reply": "2022-08-22T06:11:06.630490Z"
    },
    "papermill": {
     "duration": 0.020568,
     "end_time": "2022-08-22T06:11:06.634405",
     "exception": false,
     "start_time": "2022-08-22T06:11:06.613837",
     "status": "completed"
    },
    "tags": []
   },
   "outputs": [
    {
     "data": {
      "text/plain": [
       "700000"
      ]
     },
     "execution_count": 10,
     "metadata": {},
     "output_type": "execute_result"
    }
   ],
   "source": [
    "len(train_df)"
   ]
  },
  {
   "cell_type": "code",
   "execution_count": 11,
   "id": "17a9553c",
   "metadata": {
    "execution": {
     "iopub.execute_input": "2022-08-22T06:11:06.655786Z",
     "iopub.status.busy": "2022-08-22T06:11:06.654759Z",
     "iopub.status.idle": "2022-08-22T06:11:06.803609Z",
     "shell.execute_reply": "2022-08-22T06:11:06.802424Z"
    },
    "papermill": {
     "duration": 0.162561,
     "end_time": "2022-08-22T06:11:06.806563",
     "exception": false,
     "start_time": "2022-08-22T06:11:06.644002",
     "status": "completed"
    },
    "tags": []
   },
   "outputs": [],
   "source": [
    "train_df = train_df.dropna(subset = ['passholder_type'])"
   ]
  },
  {
   "cell_type": "code",
   "execution_count": 12,
   "id": "9e3d66e3",
   "metadata": {
    "execution": {
     "iopub.execute_input": "2022-08-22T06:11:06.828200Z",
     "iopub.status.busy": "2022-08-22T06:11:06.827353Z",
     "iopub.status.idle": "2022-08-22T06:11:06.834418Z",
     "shell.execute_reply": "2022-08-22T06:11:06.833239Z"
    },
    "papermill": {
     "duration": 0.020111,
     "end_time": "2022-08-22T06:11:06.836664",
     "exception": false,
     "start_time": "2022-08-22T06:11:06.816553",
     "status": "completed"
    },
    "tags": []
   },
   "outputs": [
    {
     "data": {
      "text/plain": [
       "697424"
      ]
     },
     "execution_count": 12,
     "metadata": {},
     "output_type": "execute_result"
    }
   ],
   "source": [
    "len(train_df)"
   ]
  },
  {
   "cell_type": "markdown",
   "id": "0a8aaa58",
   "metadata": {
    "papermill": {
     "duration": 0.0093,
     "end_time": "2022-08-22T06:11:06.855728",
     "exception": false,
     "start_time": "2022-08-22T06:11:06.846428",
     "status": "completed"
    },
    "tags": []
   },
   "source": [
    "### plan_duration"
   ]
  },
  {
   "cell_type": "code",
   "execution_count": 13,
   "id": "570ece01",
   "metadata": {
    "execution": {
     "iopub.execute_input": "2022-08-22T06:11:06.876988Z",
     "iopub.status.busy": "2022-08-22T06:11:06.876583Z",
     "iopub.status.idle": "2022-08-22T06:11:06.961294Z",
     "shell.execute_reply": "2022-08-22T06:11:06.960028Z"
    },
    "papermill": {
     "duration": 0.098725,
     "end_time": "2022-08-22T06:11:06.964154",
     "exception": false,
     "start_time": "2022-08-22T06:11:06.865429",
     "status": "completed"
    },
    "tags": []
   },
   "outputs": [],
   "source": [
    "train_df.drop('plan_duration', inplace = True, axis = 1)"
   ]
  },
  {
   "cell_type": "markdown",
   "id": "d321bc82",
   "metadata": {
    "papermill": {
     "duration": 0.009367,
     "end_time": "2022-08-22T06:11:06.983300",
     "exception": false,
     "start_time": "2022-08-22T06:11:06.973933",
     "status": "completed"
    },
    "tags": []
   },
   "source": [
    "### start_time and end_time"
   ]
  },
  {
   "cell_type": "code",
   "execution_count": 14,
   "id": "18e09803",
   "metadata": {
    "execution": {
     "iopub.execute_input": "2022-08-22T06:11:07.004402Z",
     "iopub.status.busy": "2022-08-22T06:11:07.003934Z",
     "iopub.status.idle": "2022-08-22T06:13:06.822041Z",
     "shell.execute_reply": "2022-08-22T06:13:06.820871Z"
    },
    "papermill": {
     "duration": 119.831804,
     "end_time": "2022-08-22T06:13:06.824808",
     "exception": false,
     "start_time": "2022-08-22T06:11:06.993004",
     "status": "completed"
    },
    "tags": []
   },
   "outputs": [],
   "source": [
    "columns = ['start_time', 'end_time']\n",
    "for column in columns:\n",
    "    train_df[column] = pd.to_datetime(train_df[column])\n",
    "    test_df[column] = pd.to_datetime(test_df[column])"
   ]
  },
  {
   "cell_type": "code",
   "execution_count": 15,
   "id": "7cf7ed28",
   "metadata": {
    "execution": {
     "iopub.execute_input": "2022-08-22T06:13:06.846305Z",
     "iopub.status.busy": "2022-08-22T06:13:06.845837Z",
     "iopub.status.idle": "2022-08-22T06:13:06.854287Z",
     "shell.execute_reply": "2022-08-22T06:13:06.853167Z"
    },
    "papermill": {
     "duration": 0.02197,
     "end_time": "2022-08-22T06:13:06.856749",
     "exception": false,
     "start_time": "2022-08-22T06:13:06.834779",
     "status": "completed"
    },
    "tags": []
   },
   "outputs": [
    {
     "data": {
      "text/plain": [
       "0   2018-08-07 11:20:00\n",
       "1   2017-09-17 17:51:00\n",
       "2   2019-04-22 09:22:00\n",
       "3   2019-09-22 11:27:00\n",
       "4   2020-01-31 17:11:00\n",
       "5   2017-12-16 15:18:00\n",
       "Name: start_time, dtype: datetime64[ns]"
      ]
     },
     "execution_count": 15,
     "metadata": {},
     "output_type": "execute_result"
    }
   ],
   "source": [
    "train_df['start_time'].head(6)"
   ]
  },
  {
   "cell_type": "code",
   "execution_count": 16,
   "id": "3e1fed5c",
   "metadata": {
    "execution": {
     "iopub.execute_input": "2022-08-22T06:13:06.878628Z",
     "iopub.status.busy": "2022-08-22T06:13:06.877579Z",
     "iopub.status.idle": "2022-08-22T06:13:06.886835Z",
     "shell.execute_reply": "2022-08-22T06:13:06.885736Z"
    },
    "papermill": {
     "duration": 0.022732,
     "end_time": "2022-08-22T06:13:06.889326",
     "exception": false,
     "start_time": "2022-08-22T06:13:06.866594",
     "status": "completed"
    },
    "tags": []
   },
   "outputs": [
    {
     "data": {
      "text/plain": [
       "0   2017-01-01 00:24:00\n",
       "1   2017-01-01 00:28:00\n",
       "2   2017-01-01 00:39:00\n",
       "3   2017-01-01 00:43:00\n",
       "4   2017-01-01 00:56:00\n",
       "5   2017-01-01 01:54:00\n",
       "Name: start_time, dtype: datetime64[ns]"
      ]
     },
     "execution_count": 16,
     "metadata": {},
     "output_type": "execute_result"
    }
   ],
   "source": [
    "test_df['start_time'].head(6)"
   ]
  },
  {
   "cell_type": "markdown",
   "id": "698d601f",
   "metadata": {
    "papermill": {
     "duration": 0.009582,
     "end_time": "2022-08-22T06:13:06.908955",
     "exception": false,
     "start_time": "2022-08-22T06:13:06.899373",
     "status": "completed"
    },
    "tags": []
   },
   "source": [
    "### trip_id"
   ]
  },
  {
   "cell_type": "code",
   "execution_count": 17,
   "id": "2755c05c",
   "metadata": {
    "execution": {
     "iopub.execute_input": "2022-08-22T06:13:06.930370Z",
     "iopub.status.busy": "2022-08-22T06:13:06.929962Z",
     "iopub.status.idle": "2022-08-22T06:13:07.003628Z",
     "shell.execute_reply": "2022-08-22T06:13:07.002547Z"
    },
    "papermill": {
     "duration": 0.087704,
     "end_time": "2022-08-22T06:13:07.006573",
     "exception": false,
     "start_time": "2022-08-22T06:13:06.918869",
     "status": "completed"
    },
    "tags": []
   },
   "outputs": [],
   "source": [
    "train_df.drop('trip_id', inplace = True, axis = 1)\n",
    "test_df.drop('trip_id', inplace = True, axis = 1)"
   ]
  },
  {
   "cell_type": "markdown",
   "id": "aaba1e68",
   "metadata": {
    "papermill": {
     "duration": 0.009578,
     "end_time": "2022-08-22T06:13:07.026262",
     "exception": false,
     "start_time": "2022-08-22T06:13:07.016684",
     "status": "completed"
    },
    "tags": []
   },
   "source": [
    "### start_lat, start_lon, end_lat, end_lon"
   ]
  },
  {
   "cell_type": "code",
   "execution_count": 18,
   "id": "da2040b2",
   "metadata": {
    "execution": {
     "iopub.execute_input": "2022-08-22T06:13:07.047790Z",
     "iopub.status.busy": "2022-08-22T06:13:07.047401Z",
     "iopub.status.idle": "2022-08-22T06:13:07.094518Z",
     "shell.execute_reply": "2022-08-22T06:13:07.093276Z"
    },
    "papermill": {
     "duration": 0.060861,
     "end_time": "2022-08-22T06:13:07.097109",
     "exception": false,
     "start_time": "2022-08-22T06:13:07.036248",
     "status": "completed"
    },
    "tags": []
   },
   "outputs": [],
   "source": [
    "dict_temp = {'start_lat':0, 'start_lon':0, 'end_lat':0, 'end_lon':0}\n",
    "\n",
    "for column in dict_temp.keys():\n",
    "    dict_temp[column] = train_df[column].mean()\n",
    "    train_df[column] = train_df[column].fillna(dict_temp[column])\n",
    "    test_df[column] = test_df[column].fillna(dict_temp[column])"
   ]
  },
  {
   "cell_type": "markdown",
   "id": "8cfb0099",
   "metadata": {
    "papermill": {
     "duration": 0.009488,
     "end_time": "2022-08-22T06:13:07.117044",
     "exception": false,
     "start_time": "2022-08-22T06:13:07.107556",
     "status": "completed"
    },
    "tags": []
   },
   "source": [
    "### bike_id"
   ]
  },
  {
   "cell_type": "code",
   "execution_count": null,
   "id": "f77245ed",
   "metadata": {
    "papermill": {
     "duration": 0.009288,
     "end_time": "2022-08-22T06:13:07.136041",
     "exception": false,
     "start_time": "2022-08-22T06:13:07.126753",
     "status": "completed"
    },
    "tags": []
   },
   "outputs": [],
   "source": []
  },
  {
   "cell_type": "markdown",
   "id": "34558c22",
   "metadata": {
    "papermill": {
     "duration": 0.009389,
     "end_time": "2022-08-22T06:13:07.155210",
     "exception": false,
     "start_time": "2022-08-22T06:13:07.145821",
     "status": "completed"
    },
    "tags": []
   },
   "source": [
    "### trip_route_category"
   ]
  },
  {
   "cell_type": "code",
   "execution_count": null,
   "id": "b7738a10",
   "metadata": {
    "papermill": {
     "duration": 0.009517,
     "end_time": "2022-08-22T06:13:07.174504",
     "exception": false,
     "start_time": "2022-08-22T06:13:07.164987",
     "status": "completed"
    },
    "tags": []
   },
   "outputs": [],
   "source": []
  },
  {
   "cell_type": "markdown",
   "id": "5a70ef04",
   "metadata": {
    "papermill": {
     "duration": 0.009343,
     "end_time": "2022-08-22T06:13:07.193724",
     "exception": false,
     "start_time": "2022-08-22T06:13:07.184381",
     "status": "completed"
    },
    "tags": []
   },
   "source": [
    "### passholder_type"
   ]
  },
  {
   "cell_type": "code",
   "execution_count": null,
   "id": "96244d75",
   "metadata": {
    "papermill": {
     "duration": 0.009426,
     "end_time": "2022-08-22T06:13:07.213017",
     "exception": false,
     "start_time": "2022-08-22T06:13:07.203591",
     "status": "completed"
    },
    "tags": []
   },
   "outputs": [],
   "source": []
  },
  {
   "cell_type": "code",
   "execution_count": 19,
   "id": "c18b7593",
   "metadata": {
    "execution": {
     "iopub.execute_input": "2022-08-22T06:13:07.234725Z",
     "iopub.status.busy": "2022-08-22T06:13:07.234027Z",
     "iopub.status.idle": "2022-08-22T06:13:07.340051Z",
     "shell.execute_reply": "2022-08-22T06:13:07.338985Z"
    },
    "papermill": {
     "duration": 0.119698,
     "end_time": "2022-08-22T06:13:07.342553",
     "exception": false,
     "start_time": "2022-08-22T06:13:07.222855",
     "status": "completed"
    },
    "tags": []
   },
   "outputs": [
    {
     "data": {
      "text/plain": [
       "duration               0\n",
       "start_time             0\n",
       "end_time               0\n",
       "start_lat              0\n",
       "start_lon              0\n",
       "end_lat                0\n",
       "end_lon                0\n",
       "bike_id                0\n",
       "trip_route_category    0\n",
       "passholder_type        0\n",
       "start_station          0\n",
       "end_station            0\n",
       "dtype: int64"
      ]
     },
     "execution_count": 19,
     "metadata": {},
     "output_type": "execute_result"
    }
   ],
   "source": [
    "train_df.isnull().sum()"
   ]
  },
  {
   "cell_type": "code",
   "execution_count": 20,
   "id": "f7b4e25a",
   "metadata": {
    "execution": {
     "iopub.execute_input": "2022-08-22T06:13:07.364843Z",
     "iopub.status.busy": "2022-08-22T06:13:07.363864Z",
     "iopub.status.idle": "2022-08-22T06:13:07.471526Z",
     "shell.execute_reply": "2022-08-22T06:13:07.470332Z"
    },
    "papermill": {
     "duration": 0.121661,
     "end_time": "2022-08-22T06:13:07.474369",
     "exception": false,
     "start_time": "2022-08-22T06:13:07.352708",
     "status": "completed"
    },
    "tags": []
   },
   "outputs": [
    {
     "data": {
      "text/plain": [
       "duration               0\n",
       "start_time             0\n",
       "end_time               0\n",
       "start_lat              0\n",
       "start_lon              0\n",
       "end_lat                0\n",
       "end_lon                0\n",
       "bike_id                0\n",
       "trip_route_category    0\n",
       "passholder_type        0\n",
       "start_station          0\n",
       "end_station            0\n",
       "dtype: int64"
      ]
     },
     "execution_count": 20,
     "metadata": {},
     "output_type": "execute_result"
    }
   ],
   "source": [
    "train_df.isnull().sum()"
   ]
  },
  {
   "cell_type": "code",
   "execution_count": 21,
   "id": "50ad88de",
   "metadata": {
    "execution": {
     "iopub.execute_input": "2022-08-22T06:13:07.496426Z",
     "iopub.status.busy": "2022-08-22T06:13:07.496002Z",
     "iopub.status.idle": "2022-08-22T06:13:07.501948Z",
     "shell.execute_reply": "2022-08-22T06:13:07.500660Z"
    },
    "papermill": {
     "duration": 0.020451,
     "end_time": "2022-08-22T06:13:07.505098",
     "exception": false,
     "start_time": "2022-08-22T06:13:07.484647",
     "status": "completed"
    },
    "tags": []
   },
   "outputs": [
    {
     "name": "stdout",
     "output_type": "stream",
     "text": [
      "12\n",
      "11\n"
     ]
    }
   ],
   "source": [
    "print(len(train_df.columns))\n",
    "print(len(test_df.columns))"
   ]
  },
  {
   "cell_type": "code",
   "execution_count": 22,
   "id": "d1a80383",
   "metadata": {
    "execution": {
     "iopub.execute_input": "2022-08-22T06:13:07.527108Z",
     "iopub.status.busy": "2022-08-22T06:13:07.526736Z",
     "iopub.status.idle": "2022-08-22T06:13:07.549405Z",
     "shell.execute_reply": "2022-08-22T06:13:07.548084Z"
    },
    "papermill": {
     "duration": 0.0367,
     "end_time": "2022-08-22T06:13:07.551959",
     "exception": false,
     "start_time": "2022-08-22T06:13:07.515259",
     "status": "completed"
    },
    "tags": []
   },
   "outputs": [
    {
     "data": {
      "text/html": [
       "<div>\n",
       "<style scoped>\n",
       "    .dataframe tbody tr th:only-of-type {\n",
       "        vertical-align: middle;\n",
       "    }\n",
       "\n",
       "    .dataframe tbody tr th {\n",
       "        vertical-align: top;\n",
       "    }\n",
       "\n",
       "    .dataframe thead th {\n",
       "        text-align: right;\n",
       "    }\n",
       "</style>\n",
       "<table border=\"1\" class=\"dataframe\">\n",
       "  <thead>\n",
       "    <tr style=\"text-align: right;\">\n",
       "      <th></th>\n",
       "      <th>duration</th>\n",
       "      <th>start_time</th>\n",
       "      <th>end_time</th>\n",
       "      <th>start_lat</th>\n",
       "      <th>start_lon</th>\n",
       "      <th>end_lat</th>\n",
       "      <th>end_lon</th>\n",
       "      <th>bike_id</th>\n",
       "      <th>trip_route_category</th>\n",
       "      <th>passholder_type</th>\n",
       "      <th>start_station</th>\n",
       "      <th>end_station</th>\n",
       "    </tr>\n",
       "  </thead>\n",
       "  <tbody>\n",
       "    <tr>\n",
       "      <th>0</th>\n",
       "      <td>35</td>\n",
       "      <td>2018-08-07 11:20:00</td>\n",
       "      <td>2018-08-07 11:55:00</td>\n",
       "      <td>33.748920</td>\n",
       "      <td>-118.275192</td>\n",
       "      <td>33.748920</td>\n",
       "      <td>-118.275192</td>\n",
       "      <td>06530</td>\n",
       "      <td>Round Trip</td>\n",
       "      <td>Walk-up</td>\n",
       "      <td>4127</td>\n",
       "      <td>4127</td>\n",
       "    </tr>\n",
       "    <tr>\n",
       "      <th>1</th>\n",
       "      <td>32</td>\n",
       "      <td>2017-09-17 17:51:00</td>\n",
       "      <td>2017-09-17 18:23:00</td>\n",
       "      <td>34.035679</td>\n",
       "      <td>-118.270813</td>\n",
       "      <td>34.047749</td>\n",
       "      <td>-118.243172</td>\n",
       "      <td>6683</td>\n",
       "      <td>One Way</td>\n",
       "      <td>Walk-up</td>\n",
       "      <td>3057</td>\n",
       "      <td>3062</td>\n",
       "    </tr>\n",
       "    <tr>\n",
       "      <th>2</th>\n",
       "      <td>6</td>\n",
       "      <td>2019-04-22 09:22:00</td>\n",
       "      <td>2019-04-22 09:28:00</td>\n",
       "      <td>34.046070</td>\n",
       "      <td>-118.233093</td>\n",
       "      <td>34.047749</td>\n",
       "      <td>-118.243172</td>\n",
       "      <td>06710</td>\n",
       "      <td>One Way</td>\n",
       "      <td>Monthly Pass</td>\n",
       "      <td>3022</td>\n",
       "      <td>3062</td>\n",
       "    </tr>\n",
       "    <tr>\n",
       "      <th>3</th>\n",
       "      <td>138</td>\n",
       "      <td>2019-09-22 11:27:00</td>\n",
       "      <td>2019-09-22 13:45:00</td>\n",
       "      <td>34.062580</td>\n",
       "      <td>-118.290092</td>\n",
       "      <td>34.059689</td>\n",
       "      <td>-118.294662</td>\n",
       "      <td>17068</td>\n",
       "      <td>One Way</td>\n",
       "      <td>One Day Pass</td>\n",
       "      <td>4304</td>\n",
       "      <td>4311</td>\n",
       "    </tr>\n",
       "    <tr>\n",
       "      <th>4</th>\n",
       "      <td>14</td>\n",
       "      <td>2020-01-31 17:11:00</td>\n",
       "      <td>2020-01-31 17:25:00</td>\n",
       "      <td>34.026291</td>\n",
       "      <td>-118.277687</td>\n",
       "      <td>34.021660</td>\n",
       "      <td>-118.278687</td>\n",
       "      <td>18841</td>\n",
       "      <td>One Way</td>\n",
       "      <td>Monthly Pass</td>\n",
       "      <td>4266</td>\n",
       "      <td>4443</td>\n",
       "    </tr>\n",
       "  </tbody>\n",
       "</table>\n",
       "</div>"
      ],
      "text/plain": [
       "   duration          start_time            end_time  start_lat   start_lon  \\\n",
       "0        35 2018-08-07 11:20:00 2018-08-07 11:55:00  33.748920 -118.275192   \n",
       "1        32 2017-09-17 17:51:00 2017-09-17 18:23:00  34.035679 -118.270813   \n",
       "2         6 2019-04-22 09:22:00 2019-04-22 09:28:00  34.046070 -118.233093   \n",
       "3       138 2019-09-22 11:27:00 2019-09-22 13:45:00  34.062580 -118.290092   \n",
       "4        14 2020-01-31 17:11:00 2020-01-31 17:25:00  34.026291 -118.277687   \n",
       "\n",
       "     end_lat     end_lon bike_id trip_route_category passholder_type  \\\n",
       "0  33.748920 -118.275192   06530          Round Trip         Walk-up   \n",
       "1  34.047749 -118.243172    6683             One Way         Walk-up   \n",
       "2  34.047749 -118.243172   06710             One Way    Monthly Pass   \n",
       "3  34.059689 -118.294662   17068             One Way    One Day Pass   \n",
       "4  34.021660 -118.278687   18841             One Way    Monthly Pass   \n",
       "\n",
       "   start_station  end_station  \n",
       "0           4127         4127  \n",
       "1           3057         3062  \n",
       "2           3022         3062  \n",
       "3           4304         4311  \n",
       "4           4266         4443  "
      ]
     },
     "execution_count": 22,
     "metadata": {},
     "output_type": "execute_result"
    }
   ],
   "source": [
    "train_df.head()"
   ]
  },
  {
   "cell_type": "code",
   "execution_count": 23,
   "id": "5181ac2c",
   "metadata": {
    "execution": {
     "iopub.execute_input": "2022-08-22T06:13:07.575306Z",
     "iopub.status.busy": "2022-08-22T06:13:07.574100Z",
     "iopub.status.idle": "2022-08-22T06:13:07.592432Z",
     "shell.execute_reply": "2022-08-22T06:13:07.591060Z"
    },
    "papermill": {
     "duration": 0.032837,
     "end_time": "2022-08-22T06:13:07.595367",
     "exception": false,
     "start_time": "2022-08-22T06:13:07.562530",
     "status": "completed"
    },
    "tags": []
   },
   "outputs": [
    {
     "data": {
      "text/html": [
       "<div>\n",
       "<style scoped>\n",
       "    .dataframe tbody tr th:only-of-type {\n",
       "        vertical-align: middle;\n",
       "    }\n",
       "\n",
       "    .dataframe tbody tr th {\n",
       "        vertical-align: top;\n",
       "    }\n",
       "\n",
       "    .dataframe thead th {\n",
       "        text-align: right;\n",
       "    }\n",
       "</style>\n",
       "<table border=\"1\" class=\"dataframe\">\n",
       "  <thead>\n",
       "    <tr style=\"text-align: right;\">\n",
       "      <th></th>\n",
       "      <th>duration</th>\n",
       "      <th>start_time</th>\n",
       "      <th>end_time</th>\n",
       "      <th>start_lat</th>\n",
       "      <th>start_lon</th>\n",
       "      <th>end_lat</th>\n",
       "      <th>end_lon</th>\n",
       "      <th>bike_id</th>\n",
       "      <th>trip_route_category</th>\n",
       "      <th>start_station</th>\n",
       "      <th>end_station</th>\n",
       "    </tr>\n",
       "  </thead>\n",
       "  <tbody>\n",
       "    <tr>\n",
       "      <th>0</th>\n",
       "      <td>12</td>\n",
       "      <td>2017-01-01 00:24:00</td>\n",
       "      <td>2017-01-01 00:36:00</td>\n",
       "      <td>34.058319</td>\n",
       "      <td>-118.246094</td>\n",
       "      <td>34.058319</td>\n",
       "      <td>-118.246094</td>\n",
       "      <td>6351</td>\n",
       "      <td>Round Trip</td>\n",
       "      <td>3028</td>\n",
       "      <td>3028</td>\n",
       "    </tr>\n",
       "    <tr>\n",
       "      <th>1</th>\n",
       "      <td>17</td>\n",
       "      <td>2017-01-01 00:28:00</td>\n",
       "      <td>2017-01-01 00:45:00</td>\n",
       "      <td>34.049980</td>\n",
       "      <td>-118.247162</td>\n",
       "      <td>34.043732</td>\n",
       "      <td>-118.260139</td>\n",
       "      <td>5836</td>\n",
       "      <td>One Way</td>\n",
       "      <td>3027</td>\n",
       "      <td>3018</td>\n",
       "    </tr>\n",
       "    <tr>\n",
       "      <th>2</th>\n",
       "      <td>20</td>\n",
       "      <td>2017-01-01 00:39:00</td>\n",
       "      <td>2017-01-01 00:59:00</td>\n",
       "      <td>34.063389</td>\n",
       "      <td>-118.236160</td>\n",
       "      <td>34.044159</td>\n",
       "      <td>-118.251579</td>\n",
       "      <td>6529</td>\n",
       "      <td>One Way</td>\n",
       "      <td>3066</td>\n",
       "      <td>3055</td>\n",
       "    </tr>\n",
       "    <tr>\n",
       "      <th>3</th>\n",
       "      <td>12</td>\n",
       "      <td>2017-01-01 00:43:00</td>\n",
       "      <td>2017-01-01 00:55:00</td>\n",
       "      <td>34.048851</td>\n",
       "      <td>-118.246422</td>\n",
       "      <td>34.050140</td>\n",
       "      <td>-118.233238</td>\n",
       "      <td>6029</td>\n",
       "      <td>One Way</td>\n",
       "      <td>3029</td>\n",
       "      <td>3079</td>\n",
       "    </tr>\n",
       "    <tr>\n",
       "      <th>4</th>\n",
       "      <td>48</td>\n",
       "      <td>2017-01-01 00:56:00</td>\n",
       "      <td>2017-01-01 01:44:00</td>\n",
       "      <td>34.049198</td>\n",
       "      <td>-118.252831</td>\n",
       "      <td>34.049198</td>\n",
       "      <td>-118.252831</td>\n",
       "      <td>6680</td>\n",
       "      <td>Round Trip</td>\n",
       "      <td>3063</td>\n",
       "      <td>3063</td>\n",
       "    </tr>\n",
       "  </tbody>\n",
       "</table>\n",
       "</div>"
      ],
      "text/plain": [
       "   duration          start_time            end_time  start_lat   start_lon  \\\n",
       "0        12 2017-01-01 00:24:00 2017-01-01 00:36:00  34.058319 -118.246094   \n",
       "1        17 2017-01-01 00:28:00 2017-01-01 00:45:00  34.049980 -118.247162   \n",
       "2        20 2017-01-01 00:39:00 2017-01-01 00:59:00  34.063389 -118.236160   \n",
       "3        12 2017-01-01 00:43:00 2017-01-01 00:55:00  34.048851 -118.246422   \n",
       "4        48 2017-01-01 00:56:00 2017-01-01 01:44:00  34.049198 -118.252831   \n",
       "\n",
       "     end_lat     end_lon bike_id trip_route_category  start_station  \\\n",
       "0  34.058319 -118.246094    6351          Round Trip           3028   \n",
       "1  34.043732 -118.260139    5836             One Way           3027   \n",
       "2  34.044159 -118.251579    6529             One Way           3066   \n",
       "3  34.050140 -118.233238    6029             One Way           3029   \n",
       "4  34.049198 -118.252831    6680          Round Trip           3063   \n",
       "\n",
       "   end_station  \n",
       "0         3028  \n",
       "1         3018  \n",
       "2         3055  \n",
       "3         3079  \n",
       "4         3063  "
      ]
     },
     "execution_count": 23,
     "metadata": {},
     "output_type": "execute_result"
    }
   ],
   "source": [
    "test_df.head()"
   ]
  },
  {
   "cell_type": "markdown",
   "id": "3b0f3b0e",
   "metadata": {
    "papermill": {
     "duration": 0.010308,
     "end_time": "2022-08-22T06:13:07.616721",
     "exception": false,
     "start_time": "2022-08-22T06:13:07.606413",
     "status": "completed"
    },
    "tags": []
   },
   "source": [
    "Falta TRANFORMAR VARIABLES CATEGORICAS"
   ]
  },
  {
   "cell_type": "markdown",
   "id": "e99c5a13",
   "metadata": {
    "papermill": {
     "duration": 0.010238,
     "end_time": "2022-08-22T06:13:07.637794",
     "exception": false,
     "start_time": "2022-08-22T06:13:07.627556",
     "status": "completed"
    },
    "tags": []
   },
   "source": [
    "## Save Files"
   ]
  },
  {
   "cell_type": "code",
   "execution_count": 24,
   "id": "8fd04666",
   "metadata": {
    "execution": {
     "iopub.execute_input": "2022-08-22T06:13:07.661034Z",
     "iopub.status.busy": "2022-08-22T06:13:07.660664Z",
     "iopub.status.idle": "2022-08-22T06:13:19.183951Z",
     "shell.execute_reply": "2022-08-22T06:13:19.182843Z"
    },
    "papermill": {
     "duration": 11.538202,
     "end_time": "2022-08-22T06:13:19.186765",
     "exception": false,
     "start_time": "2022-08-22T06:13:07.648563",
     "status": "completed"
    },
    "tags": []
   },
   "outputs": [],
   "source": [
    "train_df.to_csv('train_set_final.csv', index=False)\n",
    "test_df.to_csv('test_set_final.csv', index=False)"
   ]
  }
 ],
 "metadata": {
  "kernelspec": {
   "display_name": "Python 3",
   "language": "python",
   "name": "python3"
  },
  "language_info": {
   "codemirror_mode": {
    "name": "ipython",
    "version": 3
   },
   "file_extension": ".py",
   "mimetype": "text/x-python",
   "name": "python",
   "nbconvert_exporter": "python",
   "pygments_lexer": "ipython3",
   "version": "3.7.12"
  },
  "papermill": {
   "default_parameters": {},
   "duration": 151.288227,
   "end_time": "2022-08-22T06:13:22.506313",
   "environment_variables": {},
   "exception": null,
   "input_path": "__notebook__.ipynb",
   "output_path": "__notebook__.ipynb",
   "parameters": {},
   "start_time": "2022-08-22T06:10:51.218086",
   "version": "2.3.4"
  }
 },
 "nbformat": 4,
 "nbformat_minor": 5
}
