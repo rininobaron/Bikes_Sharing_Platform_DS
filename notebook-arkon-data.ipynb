{
 "cells": [
  {
   "cell_type": "code",
   "execution_count": 1,
   "id": "a1798823",
   "metadata": {
    "execution": {
     "iopub.execute_input": "2022-08-21T09:56:19.217274Z",
     "iopub.status.busy": "2022-08-21T09:56:19.216627Z",
     "iopub.status.idle": "2022-08-21T09:56:20.345877Z",
     "shell.execute_reply": "2022-08-21T09:56:20.344689Z"
    },
    "papermill": {
     "duration": 1.156124,
     "end_time": "2022-08-21T09:56:20.348751",
     "exception": false,
     "start_time": "2022-08-21T09:56:19.192627",
     "status": "completed"
    },
    "tags": []
   },
   "outputs": [],
   "source": [
    "import pandas as pd\n",
    "import matplotlib.pyplot as plt\n",
    "import seaborn as sns"
   ]
  },
  {
   "cell_type": "code",
   "execution_count": 2,
   "id": "f2ab46ba",
   "metadata": {
    "execution": {
     "iopub.execute_input": "2022-08-21T09:56:20.391703Z",
     "iopub.status.busy": "2022-08-21T09:56:20.391265Z",
     "iopub.status.idle": "2022-08-21T09:56:25.690261Z",
     "shell.execute_reply": "2022-08-21T09:56:25.689268Z"
    },
    "papermill": {
     "duration": 5.323291,
     "end_time": "2022-08-21T09:56:25.692821",
     "exception": false,
     "start_time": "2022-08-21T09:56:20.369530",
     "status": "completed"
    },
    "tags": []
   },
   "outputs": [
    {
     "name": "stderr",
     "output_type": "stream",
     "text": [
      "/opt/conda/lib/python3.7/site-packages/IPython/core/interactiveshell.py:3552: DtypeWarning: Columns (8) have mixed types.Specify dtype option on import or set low_memory=False.\n",
      "  exec(code_obj, self.user_global_ns, self.user_ns)\n"
     ]
    }
   ],
   "source": [
    "train_df= pd.read_csv('../input/arkon-data-bikes-train/train_set.csv')\n",
    "test_df= pd.read_csv('../input/arkon-data-bikes-test/test_set.csv')"
   ]
  },
  {
   "cell_type": "markdown",
   "id": "2e67deec",
   "metadata": {
    "execution": {
     "iopub.execute_input": "2022-08-14T06:06:32.376130Z",
     "iopub.status.busy": "2022-08-14T06:06:32.375761Z",
     "iopub.status.idle": "2022-08-14T06:06:32.380150Z",
     "shell.execute_reply": "2022-08-14T06:06:32.379110Z",
     "shell.execute_reply.started": "2022-08-14T06:06:32.376097Z"
    },
    "papermill": {
     "duration": 0.020223,
     "end_time": "2022-08-21T09:56:25.733412",
     "exception": false,
     "start_time": "2022-08-21T09:56:25.713189",
     "status": "completed"
    },
    "tags": []
   },
   "source": [
    "# 1.- Exploratory Data Analysis (Undesrtading the bussines)"
   ]
  },
  {
   "cell_type": "code",
   "execution_count": 3,
   "id": "95925c79",
   "metadata": {
    "execution": {
     "iopub.execute_input": "2022-08-21T09:56:25.776269Z",
     "iopub.status.busy": "2022-08-21T09:56:25.775143Z",
     "iopub.status.idle": "2022-08-21T09:56:25.802019Z",
     "shell.execute_reply": "2022-08-21T09:56:25.800892Z"
    },
    "papermill": {
     "duration": 0.050916,
     "end_time": "2022-08-21T09:56:25.804584",
     "exception": false,
     "start_time": "2022-08-21T09:56:25.753668",
     "status": "completed"
    },
    "tags": []
   },
   "outputs": [
    {
     "data": {
      "text/html": [
       "<div>\n",
       "<style scoped>\n",
       "    .dataframe tbody tr th:only-of-type {\n",
       "        vertical-align: middle;\n",
       "    }\n",
       "\n",
       "    .dataframe tbody tr th {\n",
       "        vertical-align: top;\n",
       "    }\n",
       "\n",
       "    .dataframe thead th {\n",
       "        text-align: right;\n",
       "    }\n",
       "</style>\n",
       "<table border=\"1\" class=\"dataframe\">\n",
       "  <thead>\n",
       "    <tr style=\"text-align: right;\">\n",
       "      <th></th>\n",
       "      <th>trip_id</th>\n",
       "      <th>duration</th>\n",
       "      <th>start_time</th>\n",
       "      <th>end_time</th>\n",
       "      <th>start_lat</th>\n",
       "      <th>start_lon</th>\n",
       "      <th>end_lat</th>\n",
       "      <th>end_lon</th>\n",
       "      <th>bike_id</th>\n",
       "      <th>plan_duration</th>\n",
       "      <th>trip_route_category</th>\n",
       "      <th>passholder_type</th>\n",
       "      <th>start_station</th>\n",
       "      <th>end_station</th>\n",
       "    </tr>\n",
       "  </thead>\n",
       "  <tbody>\n",
       "    <tr>\n",
       "      <th>0</th>\n",
       "      <td>101750280</td>\n",
       "      <td>35</td>\n",
       "      <td>2018-08-07 11:20:00</td>\n",
       "      <td>2018-08-07 11:55:00</td>\n",
       "      <td>33.748920</td>\n",
       "      <td>-118.275192</td>\n",
       "      <td>33.748920</td>\n",
       "      <td>-118.275192</td>\n",
       "      <td>06530</td>\n",
       "      <td>1.0</td>\n",
       "      <td>Round Trip</td>\n",
       "      <td>Walk-up</td>\n",
       "      <td>4127</td>\n",
       "      <td>4127</td>\n",
       "    </tr>\n",
       "    <tr>\n",
       "      <th>1</th>\n",
       "      <td>46560345</td>\n",
       "      <td>32</td>\n",
       "      <td>9/17/2017 17:51</td>\n",
       "      <td>9/17/2017 18:23</td>\n",
       "      <td>34.035679</td>\n",
       "      <td>-118.270813</td>\n",
       "      <td>34.047749</td>\n",
       "      <td>-118.243172</td>\n",
       "      <td>6683</td>\n",
       "      <td>0.0</td>\n",
       "      <td>One Way</td>\n",
       "      <td>Walk-up</td>\n",
       "      <td>3057</td>\n",
       "      <td>3062</td>\n",
       "    </tr>\n",
       "    <tr>\n",
       "      <th>2</th>\n",
       "      <td>120016336</td>\n",
       "      <td>6</td>\n",
       "      <td>2019-04-22 09:22:00</td>\n",
       "      <td>2019-04-22 09:28:00</td>\n",
       "      <td>34.046070</td>\n",
       "      <td>-118.233093</td>\n",
       "      <td>34.047749</td>\n",
       "      <td>-118.243172</td>\n",
       "      <td>06710</td>\n",
       "      <td>30.0</td>\n",
       "      <td>One Way</td>\n",
       "      <td>Monthly Pass</td>\n",
       "      <td>3022</td>\n",
       "      <td>3062</td>\n",
       "    </tr>\n",
       "    <tr>\n",
       "      <th>3</th>\n",
       "      <td>129547190</td>\n",
       "      <td>138</td>\n",
       "      <td>9/22/2019 11:27</td>\n",
       "      <td>9/22/2019 13:45</td>\n",
       "      <td>34.062580</td>\n",
       "      <td>-118.290092</td>\n",
       "      <td>34.059689</td>\n",
       "      <td>-118.294662</td>\n",
       "      <td>17068</td>\n",
       "      <td>1.0</td>\n",
       "      <td>One Way</td>\n",
       "      <td>One Day Pass</td>\n",
       "      <td>4304</td>\n",
       "      <td>4311</td>\n",
       "    </tr>\n",
       "    <tr>\n",
       "      <th>4</th>\n",
       "      <td>136619463</td>\n",
       "      <td>14</td>\n",
       "      <td>1/31/2020 17:11</td>\n",
       "      <td>1/31/2020 17:25</td>\n",
       "      <td>34.026291</td>\n",
       "      <td>-118.277687</td>\n",
       "      <td>34.021660</td>\n",
       "      <td>-118.278687</td>\n",
       "      <td>18841</td>\n",
       "      <td>30.0</td>\n",
       "      <td>One Way</td>\n",
       "      <td>Monthly Pass</td>\n",
       "      <td>4266</td>\n",
       "      <td>4443</td>\n",
       "    </tr>\n",
       "  </tbody>\n",
       "</table>\n",
       "</div>"
      ],
      "text/plain": [
       "     trip_id  duration           start_time             end_time  start_lat  \\\n",
       "0  101750280        35  2018-08-07 11:20:00  2018-08-07 11:55:00  33.748920   \n",
       "1   46560345        32      9/17/2017 17:51      9/17/2017 18:23  34.035679   \n",
       "2  120016336         6  2019-04-22 09:22:00  2019-04-22 09:28:00  34.046070   \n",
       "3  129547190       138      9/22/2019 11:27      9/22/2019 13:45  34.062580   \n",
       "4  136619463        14      1/31/2020 17:11      1/31/2020 17:25  34.026291   \n",
       "\n",
       "    start_lon    end_lat     end_lon bike_id  plan_duration  \\\n",
       "0 -118.275192  33.748920 -118.275192   06530            1.0   \n",
       "1 -118.270813  34.047749 -118.243172    6683            0.0   \n",
       "2 -118.233093  34.047749 -118.243172   06710           30.0   \n",
       "3 -118.290092  34.059689 -118.294662   17068            1.0   \n",
       "4 -118.277687  34.021660 -118.278687   18841           30.0   \n",
       "\n",
       "  trip_route_category passholder_type  start_station  end_station  \n",
       "0          Round Trip         Walk-up           4127         4127  \n",
       "1             One Way         Walk-up           3057         3062  \n",
       "2             One Way    Monthly Pass           3022         3062  \n",
       "3             One Way    One Day Pass           4304         4311  \n",
       "4             One Way    Monthly Pass           4266         4443  "
      ]
     },
     "execution_count": 3,
     "metadata": {},
     "output_type": "execute_result"
    }
   ],
   "source": [
    "train_df.head()"
   ]
  },
  {
   "cell_type": "code",
   "execution_count": 4,
   "id": "991d2f04",
   "metadata": {
    "execution": {
     "iopub.execute_input": "2022-08-21T09:56:25.848627Z",
     "iopub.status.busy": "2022-08-21T09:56:25.848184Z",
     "iopub.status.idle": "2022-08-21T09:56:25.856915Z",
     "shell.execute_reply": "2022-08-21T09:56:25.855713Z"
    },
    "papermill": {
     "duration": 0.033438,
     "end_time": "2022-08-21T09:56:25.859178",
     "exception": false,
     "start_time": "2022-08-21T09:56:25.825740",
     "status": "completed"
    },
    "tags": []
   },
   "outputs": [
    {
     "data": {
      "text/plain": [
       "trip_id                  int64\n",
       "duration                 int64\n",
       "start_time              object\n",
       "end_time                object\n",
       "start_lat              float64\n",
       "start_lon              float64\n",
       "end_lat                float64\n",
       "end_lon                float64\n",
       "bike_id                 object\n",
       "plan_duration          float64\n",
       "trip_route_category     object\n",
       "passholder_type         object\n",
       "start_station            int64\n",
       "end_station              int64\n",
       "dtype: object"
      ]
     },
     "execution_count": 4,
     "metadata": {},
     "output_type": "execute_result"
    }
   ],
   "source": [
    "train_df.dtypes"
   ]
  },
  {
   "cell_type": "code",
   "execution_count": 5,
   "id": "9c478a91",
   "metadata": {
    "execution": {
     "iopub.execute_input": "2022-08-21T09:56:25.904655Z",
     "iopub.status.busy": "2022-08-21T09:56:25.903932Z",
     "iopub.status.idle": "2022-08-21T09:56:25.909923Z",
     "shell.execute_reply": "2022-08-21T09:56:25.908766Z"
    },
    "papermill": {
     "duration": 0.031499,
     "end_time": "2022-08-21T09:56:25.912116",
     "exception": false,
     "start_time": "2022-08-21T09:56:25.880617",
     "status": "completed"
    },
    "tags": []
   },
   "outputs": [
    {
     "data": {
      "text/plain": [
       "700000"
      ]
     },
     "execution_count": 5,
     "metadata": {},
     "output_type": "execute_result"
    }
   ],
   "source": [
    "len(train_df)"
   ]
  },
  {
   "cell_type": "code",
   "execution_count": 6,
   "id": "5c2bd12c",
   "metadata": {
    "execution": {
     "iopub.execute_input": "2022-08-21T09:56:25.955561Z",
     "iopub.status.busy": "2022-08-21T09:56:25.955113Z",
     "iopub.status.idle": "2022-08-21T09:56:25.961733Z",
     "shell.execute_reply": "2022-08-21T09:56:25.960714Z"
    },
    "papermill": {
     "duration": 0.030859,
     "end_time": "2022-08-21T09:56:25.963849",
     "exception": false,
     "start_time": "2022-08-21T09:56:25.932990",
     "status": "completed"
    },
    "tags": []
   },
   "outputs": [
    {
     "data": {
      "text/plain": [
       "569886"
      ]
     },
     "execution_count": 6,
     "metadata": {},
     "output_type": "execute_result"
    }
   ],
   "source": [
    "len(test_df)"
   ]
  },
  {
   "cell_type": "markdown",
   "id": "cb086249",
   "metadata": {
    "papermill": {
     "duration": 0.020877,
     "end_time": "2022-08-21T09:56:26.005906",
     "exception": false,
     "start_time": "2022-08-21T09:56:25.985029",
     "status": "completed"
    },
    "tags": []
   },
   "source": [
    "### trip_id"
   ]
  },
  {
   "cell_type": "code",
   "execution_count": 7,
   "id": "b66fc094",
   "metadata": {
    "execution": {
     "iopub.execute_input": "2022-08-21T09:56:26.049710Z",
     "iopub.status.busy": "2022-08-21T09:56:26.049299Z",
     "iopub.status.idle": "2022-08-21T09:56:26.101742Z",
     "shell.execute_reply": "2022-08-21T09:56:26.100537Z"
    },
    "papermill": {
     "duration": 0.0772,
     "end_time": "2022-08-21T09:56:26.104397",
     "exception": false,
     "start_time": "2022-08-21T09:56:26.027197",
     "status": "completed"
    },
    "tags": []
   },
   "outputs": [
    {
     "data": {
      "text/plain": [
       "700000"
      ]
     },
     "execution_count": 7,
     "metadata": {},
     "output_type": "execute_result"
    }
   ],
   "source": [
    "len(train_df['trip_id'].unique())"
   ]
  },
  {
   "cell_type": "code",
   "execution_count": 8,
   "id": "9973848f",
   "metadata": {
    "execution": {
     "iopub.execute_input": "2022-08-21T09:56:26.149773Z",
     "iopub.status.busy": "2022-08-21T09:56:26.149386Z",
     "iopub.status.idle": "2022-08-21T09:56:26.186121Z",
     "shell.execute_reply": "2022-08-21T09:56:26.184996Z"
    },
    "papermill": {
     "duration": 0.062402,
     "end_time": "2022-08-21T09:56:26.188404",
     "exception": false,
     "start_time": "2022-08-21T09:56:26.126002",
     "status": "completed"
    },
    "tags": []
   },
   "outputs": [
    {
     "data": {
      "text/plain": [
       "569886"
      ]
     },
     "execution_count": 8,
     "metadata": {},
     "output_type": "execute_result"
    }
   ],
   "source": [
    "len(test_df['trip_id'].unique())"
   ]
  },
  {
   "cell_type": "markdown",
   "id": "fb583304",
   "metadata": {
    "papermill": {
     "duration": 0.020714,
     "end_time": "2022-08-21T09:56:26.230378",
     "exception": false,
     "start_time": "2022-08-21T09:56:26.209664",
     "status": "completed"
    },
    "tags": []
   },
   "source": [
    "### bike_id"
   ]
  },
  {
   "cell_type": "code",
   "execution_count": 9,
   "id": "0fc9c1a4",
   "metadata": {
    "execution": {
     "iopub.execute_input": "2022-08-21T09:56:26.274414Z",
     "iopub.status.busy": "2022-08-21T09:56:26.274008Z",
     "iopub.status.idle": "2022-08-21T09:56:26.323987Z",
     "shell.execute_reply": "2022-08-21T09:56:26.323266Z"
    },
    "papermill": {
     "duration": 0.074323,
     "end_time": "2022-08-21T09:56:26.325900",
     "exception": false,
     "start_time": "2022-08-21T09:56:26.251577",
     "status": "completed"
    },
    "tags": []
   },
   "outputs": [
    {
     "data": {
      "text/plain": [
       "7563"
      ]
     },
     "execution_count": 9,
     "metadata": {},
     "output_type": "execute_result"
    }
   ],
   "source": [
    "len(train_df['bike_id'].unique())"
   ]
  },
  {
   "cell_type": "code",
   "execution_count": 10,
   "id": "62192964",
   "metadata": {
    "execution": {
     "iopub.execute_input": "2022-08-21T09:56:26.370850Z",
     "iopub.status.busy": "2022-08-21T09:56:26.369936Z",
     "iopub.status.idle": "2022-08-21T09:56:26.398868Z",
     "shell.execute_reply": "2022-08-21T09:56:26.397760Z"
    },
    "papermill": {
     "duration": 0.053551,
     "end_time": "2022-08-21T09:56:26.401181",
     "exception": false,
     "start_time": "2022-08-21T09:56:26.347630",
     "status": "completed"
    },
    "tags": []
   },
   "outputs": [
    {
     "data": {
      "text/plain": [
       "6893"
      ]
     },
     "execution_count": 10,
     "metadata": {},
     "output_type": "execute_result"
    }
   ],
   "source": [
    "len(test_df['bike_id'].unique())"
   ]
  },
  {
   "cell_type": "markdown",
   "id": "b4bfafee",
   "metadata": {
    "papermill": {
     "duration": 0.021059,
     "end_time": "2022-08-21T09:56:26.443733",
     "exception": false,
     "start_time": "2022-08-21T09:56:26.422674",
     "status": "completed"
    },
    "tags": []
   },
   "source": [
    "### Demanda de estaciones en funcion del horario"
   ]
  },
  {
   "cell_type": "code",
   "execution_count": 11,
   "id": "dc39ba01",
   "metadata": {
    "execution": {
     "iopub.execute_input": "2022-08-21T09:56:26.488122Z",
     "iopub.status.busy": "2022-08-21T09:56:26.487732Z",
     "iopub.status.idle": "2022-08-21T09:56:26.574642Z",
     "shell.execute_reply": "2022-08-21T09:56:26.573517Z"
    },
    "papermill": {
     "duration": 0.112061,
     "end_time": "2022-08-21T09:56:26.577155",
     "exception": false,
     "start_time": "2022-08-21T09:56:26.465094",
     "status": "completed"
    },
    "tags": []
   },
   "outputs": [
    {
     "data": {
      "text/html": [
       "<div>\n",
       "<style scoped>\n",
       "    .dataframe tbody tr th:only-of-type {\n",
       "        vertical-align: middle;\n",
       "    }\n",
       "\n",
       "    .dataframe tbody tr th {\n",
       "        vertical-align: top;\n",
       "    }\n",
       "\n",
       "    .dataframe thead th {\n",
       "        text-align: right;\n",
       "    }\n",
       "</style>\n",
       "<table border=\"1\" class=\"dataframe\">\n",
       "  <thead>\n",
       "    <tr style=\"text-align: right;\">\n",
       "      <th></th>\n",
       "      <th>trip_route_category</th>\n",
       "      <th>Percentage_%</th>\n",
       "    </tr>\n",
       "  </thead>\n",
       "  <tbody>\n",
       "    <tr>\n",
       "      <th>0</th>\n",
       "      <td>One Way</td>\n",
       "      <td>83.114342</td>\n",
       "    </tr>\n",
       "    <tr>\n",
       "      <th>1</th>\n",
       "      <td>Round Trip</td>\n",
       "      <td>16.885658</td>\n",
       "    </tr>\n",
       "  </tbody>\n",
       "</table>\n",
       "</div>"
      ],
      "text/plain": [
       "  trip_route_category  Percentage_%\n",
       "0             One Way     83.114342\n",
       "1          Round Trip     16.885658"
      ]
     },
     "execution_count": 11,
     "metadata": {},
     "output_type": "execute_result"
    }
   ],
   "source": [
    "temp_df = test_df['trip_route_category'].value_counts()/int(test_df['trip_route_category'].value_counts().to_frame().sum())*100\n",
    "temp_df = temp_df.to_frame()\n",
    "temp_df.reset_index(inplace=True)\n",
    "temp_df.columns = ['trip_route_category', 'Percentage_%']\n",
    "temp_df\n",
    "#temp_df.reset_index(inplace=True)"
   ]
  },
  {
   "cell_type": "markdown",
   "id": "66335ec9",
   "metadata": {
    "papermill": {
     "duration": 0.021406,
     "end_time": "2022-08-21T09:56:26.620383",
     "exception": false,
     "start_time": "2022-08-21T09:56:26.598977",
     "status": "completed"
    },
    "tags": []
   },
   "source": [
    "## Distribuciones BOXPLOT O VIOLIN PLOT en función de la duración ['duration'] del viaje"
   ]
  },
  {
   "cell_type": "markdown",
   "id": "49b9135a",
   "metadata": {
    "papermill": {
     "duration": 0.022005,
     "end_time": "2022-08-21T09:56:26.663887",
     "exception": false,
     "start_time": "2022-08-21T09:56:26.641882",
     "status": "completed"
    },
    "tags": []
   },
   "source": [
    "### Por 'trip_route_category'"
   ]
  },
  {
   "cell_type": "code",
   "execution_count": 12,
   "id": "9146ed81",
   "metadata": {
    "execution": {
     "iopub.execute_input": "2022-08-21T09:56:26.709189Z",
     "iopub.status.busy": "2022-08-21T09:56:26.708194Z",
     "iopub.status.idle": "2022-08-21T09:56:27.310909Z",
     "shell.execute_reply": "2022-08-21T09:56:27.309734Z"
    },
    "papermill": {
     "duration": 0.628312,
     "end_time": "2022-08-21T09:56:27.313640",
     "exception": false,
     "start_time": "2022-08-21T09:56:26.685328",
     "status": "completed"
    },
    "tags": []
   },
   "outputs": [
    {
     "data": {
      "text/plain": [
       "<AxesSubplot:xlabel='trip_route_category', ylabel='duration'>"
      ]
     },
     "execution_count": 12,
     "metadata": {},
     "output_type": "execute_result"
    },
    {
     "data": {
      "image/png": "[encoded data removed]",
      "text/plain": [
       "<Figure size 432x288 with 1 Axes>"
      ]
     },
     "metadata": {
      "needs_background": "light"
     },
     "output_type": "display_data"
    }
   ],
   "source": [
    "#sns.set_style(\"whitegrid\")\n",
    "sns.boxplot(x = 'trip_route_category', y = 'duration', data = train_df)"
   ]
  },
  {
   "cell_type": "code",
   "execution_count": 13,
   "id": "bdc0483f",
   "metadata": {
    "execution": {
     "iopub.execute_input": "2022-08-21T09:56:27.363330Z",
     "iopub.status.busy": "2022-08-21T09:56:27.362634Z",
     "iopub.status.idle": "2022-08-21T09:56:28.143327Z",
     "shell.execute_reply": "2022-08-21T09:56:28.142218Z"
    },
    "papermill": {
     "duration": 0.808323,
     "end_time": "2022-08-21T09:56:28.145756",
     "exception": false,
     "start_time": "2022-08-21T09:56:27.337433",
     "status": "completed"
    },
    "tags": []
   },
   "outputs": [
    {
     "data": {
      "text/plain": [
       "<AxesSubplot:xlabel='trip_route_category', ylabel='duration'>"
      ]
     },
     "execution_count": 13,
     "metadata": {},
     "output_type": "execute_result"
    },
    {
     "data": {
      "image/png": "[encoded data removed]",
      "text/plain": [
       "<Figure size 432x288 with 1 Axes>"
      ]
     },
     "metadata": {
      "needs_background": "light"
     },
     "output_type": "display_data"
    }
   ],
   "source": [
    "sns.boxplot(x = 'trip_route_category', y = train_df[train_df[\"duration\"]<90][\"duration\"] , data = train_df)"
   ]
  },
  {
   "cell_type": "code",
   "execution_count": 14,
   "id": "4d670856",
   "metadata": {
    "execution": {
     "iopub.execute_input": "2022-08-21T09:56:28.192988Z",
     "iopub.status.busy": "2022-08-21T09:56:28.192380Z",
     "iopub.status.idle": "2022-08-21T09:56:30.156246Z",
     "shell.execute_reply": "2022-08-21T09:56:30.155118Z"
    },
    "papermill": {
     "duration": 1.990051,
     "end_time": "2022-08-21T09:56:30.158643",
     "exception": false,
     "start_time": "2022-08-21T09:56:28.168592",
     "status": "completed"
    },
    "tags": []
   },
   "outputs": [
    {
     "data": {
      "text/plain": [
       "<AxesSubplot:xlabel='trip_route_category', ylabel='duration'>"
      ]
     },
     "execution_count": 14,
     "metadata": {},
     "output_type": "execute_result"
    },
    {
     "data": {
      "image/png": "[encoded data removed]",
      "text/plain": [
       "<Figure size 432x288 with 1 Axes>"
      ]
     },
     "metadata": {
      "needs_background": "light"
     },
     "output_type": "display_data"
    }
   ],
   "source": [
    "sns.violinplot(x = 'trip_route_category', y = 'duration', data = train_df)"
   ]
  },
  {
   "cell_type": "code",
   "execution_count": 15,
   "id": "258c51ad",
   "metadata": {
    "execution": {
     "iopub.execute_input": "2022-08-21T09:56:30.206574Z",
     "iopub.status.busy": "2022-08-21T09:56:30.205759Z",
     "iopub.status.idle": "2022-08-21T09:56:32.364608Z",
     "shell.execute_reply": "2022-08-21T09:56:32.363507Z"
    },
    "papermill": {
     "duration": 2.18593,
     "end_time": "2022-08-21T09:56:32.367388",
     "exception": false,
     "start_time": "2022-08-21T09:56:30.181458",
     "status": "completed"
    },
    "tags": []
   },
   "outputs": [
    {
     "data": {
      "text/plain": [
       "<AxesSubplot:xlabel='trip_route_category', ylabel='duration'>"
      ]
     },
     "execution_count": 15,
     "metadata": {},
     "output_type": "execute_result"
    },
    {
     "data": {
      "image/png": "[encoded data removed]",
      "text/plain": [
       "<Figure size 432x288 with 1 Axes>"
      ]
     },
     "metadata": {
      "needs_background": "light"
     },
     "output_type": "display_data"
    }
   ],
   "source": [
    "sns.violinplot(x = 'trip_route_category', y = train_df[train_df[\"duration\"]<90][\"duration\"] , data = train_df)"
   ]
  },
  {
   "cell_type": "markdown",
   "id": "b74121c1",
   "metadata": {
    "execution": {
     "iopub.execute_input": "2022-08-15T08:20:55.869798Z",
     "iopub.status.busy": "2022-08-15T08:20:55.869318Z",
     "iopub.status.idle": "2022-08-15T08:20:55.875215Z",
     "shell.execute_reply": "2022-08-15T08:20:55.874033Z",
     "shell.execute_reply.started": "2022-08-15T08:20:55.869761Z"
    },
    "papermill": {
     "duration": 0.02393,
     "end_time": "2022-08-21T09:56:32.416405",
     "exception": false,
     "start_time": "2022-08-21T09:56:32.392475",
     "status": "completed"
    },
    "tags": []
   },
   "source": [
    "### Por 'passholder_type'"
   ]
  },
  {
   "cell_type": "code",
   "execution_count": 16,
   "id": "809328e5",
   "metadata": {
    "execution": {
     "iopub.execute_input": "2022-08-21T09:56:32.468154Z",
     "iopub.status.busy": "2022-08-21T09:56:32.467499Z",
     "iopub.status.idle": "2022-08-21T09:56:33.158369Z",
     "shell.execute_reply": "2022-08-21T09:56:33.157277Z"
    },
    "papermill": {
     "duration": 0.719444,
     "end_time": "2022-08-21T09:56:33.160854",
     "exception": false,
     "start_time": "2022-08-21T09:56:32.441410",
     "status": "completed"
    },
    "tags": []
   },
   "outputs": [
    {
     "data": {
      "text/plain": [
       "<AxesSubplot:xlabel='passholder_type', ylabel='duration'>"
      ]
     },
     "execution_count": 16,
     "metadata": {},
     "output_type": "execute_result"
    },
    {
     "data": {
      "image/png": "[encoded data removed]",
      "text/plain": [
       "<Figure size 432x288 with 1 Axes>"
      ]
     },
     "metadata": {
      "needs_background": "light"
     },
     "output_type": "display_data"
    }
   ],
   "source": [
    "sns.boxplot(x = 'passholder_type', y = 'duration', data = train_df)"
   ]
  },
  {
   "cell_type": "code",
   "execution_count": 17,
   "id": "1d54055f",
   "metadata": {
    "execution": {
     "iopub.execute_input": "2022-08-21T09:56:33.211694Z",
     "iopub.status.busy": "2022-08-21T09:56:33.211310Z",
     "iopub.status.idle": "2022-08-21T09:56:34.080322Z",
     "shell.execute_reply": "2022-08-21T09:56:34.079108Z"
    },
    "papermill": {
     "duration": 0.898139,
     "end_time": "2022-08-21T09:56:34.083036",
     "exception": false,
     "start_time": "2022-08-21T09:56:33.184897",
     "status": "completed"
    },
    "tags": []
   },
   "outputs": [
    {
     "data": {
      "text/plain": [
       "<AxesSubplot:xlabel='passholder_type', ylabel='duration'>"
      ]
     },
     "execution_count": 17,
     "metadata": {},
     "output_type": "execute_result"
    },
    {
     "data": {
      "image/png": "[encoded data removed]",
      "text/plain": [
       "<Figure size 432x288 with 1 Axes>"
      ]
     },
     "metadata": {
      "needs_background": "light"
     },
     "output_type": "display_data"
    }
   ],
   "source": [
    "sns.boxplot(x = 'passholder_type', y = train_df[train_df[\"duration\"]<90][\"duration\"] , data = train_df)"
   ]
  },
  {
   "cell_type": "code",
   "execution_count": 18,
   "id": "f1d3475a",
   "metadata": {
    "execution": {
     "iopub.execute_input": "2022-08-21T09:56:34.137864Z",
     "iopub.status.busy": "2022-08-21T09:56:34.137463Z",
     "iopub.status.idle": "2022-08-21T09:56:36.410958Z",
     "shell.execute_reply": "2022-08-21T09:56:36.409897Z"
    },
    "papermill": {
     "duration": 2.303208,
     "end_time": "2022-08-21T09:56:36.413578",
     "exception": false,
     "start_time": "2022-08-21T09:56:34.110370",
     "status": "completed"
    },
    "tags": []
   },
   "outputs": [
    {
     "data": {
      "text/plain": [
       "<AxesSubplot:xlabel='passholder_type', ylabel='duration'>"
      ]
     },
     "execution_count": 18,
     "metadata": {},
     "output_type": "execute_result"
    },
    {
     "data": {
      "image/png": "[encoded data removed]",
      "text/plain": [
       "<Figure size 432x288 with 1 Axes>"
      ]
     },
     "metadata": {
      "needs_background": "light"
     },
     "output_type": "display_data"
    }
   ],
   "source": [
    "sns.violinplot(x = 'passholder_type', y = \"duration\", data = train_df)"
   ]
  },
  {
   "cell_type": "code",
   "execution_count": 19,
   "id": "eb73fdee",
   "metadata": {
    "execution": {
     "iopub.execute_input": "2022-08-21T09:56:36.465041Z",
     "iopub.status.busy": "2022-08-21T09:56:36.464441Z",
     "iopub.status.idle": "2022-08-21T09:56:38.875400Z",
     "shell.execute_reply": "2022-08-21T09:56:38.874198Z"
    },
    "papermill": {
     "duration": 2.439251,
     "end_time": "2022-08-21T09:56:38.877913",
     "exception": false,
     "start_time": "2022-08-21T09:56:36.438662",
     "status": "completed"
    },
    "tags": []
   },
   "outputs": [
    {
     "data": {
      "text/plain": [
       "<AxesSubplot:xlabel='passholder_type', ylabel='duration'>"
      ]
     },
     "execution_count": 19,
     "metadata": {},
     "output_type": "execute_result"
    },
    {
     "data": {
      "image/png": "[encoded data removed]",
      "text/plain": [
       "<Figure size 432x288 with 1 Axes>"
      ]
     },
     "metadata": {
      "needs_background": "light"
     },
     "output_type": "display_data"
    }
   ],
   "source": [
    "sns.violinplot(x = 'passholder_type', y = train_df[train_df[\"duration\"]<90][\"duration\"] , data = train_df)"
   ]
  },
  {
   "cell_type": "markdown",
   "id": "1c66b20d",
   "metadata": {
    "papermill": {
     "duration": 0.026177,
     "end_time": "2022-08-21T09:56:38.929598",
     "exception": false,
     "start_time": "2022-08-21T09:56:38.903421",
     "status": "completed"
    },
    "tags": []
   },
   "source": [
    "## Estaciones"
   ]
  },
  {
   "cell_type": "markdown",
   "id": "3c446e18",
   "metadata": {
    "papermill": {
     "duration": 0.0248,
     "end_time": "2022-08-21T09:56:38.980488",
     "exception": false,
     "start_time": "2022-08-21T09:56:38.955688",
     "status": "completed"
    },
    "tags": []
   },
   "source": [
    "### start_station"
   ]
  },
  {
   "cell_type": "code",
   "execution_count": 20,
   "id": "4d216e37",
   "metadata": {
    "execution": {
     "iopub.execute_input": "2022-08-21T09:56:39.032963Z",
     "iopub.status.busy": "2022-08-21T09:56:39.032259Z",
     "iopub.status.idle": "2022-08-21T09:56:43.159409Z",
     "shell.execute_reply": "2022-08-21T09:56:43.158277Z"
    },
    "papermill": {
     "duration": 4.15652,
     "end_time": "2022-08-21T09:56:43.162158",
     "exception": false,
     "start_time": "2022-08-21T09:56:39.005638",
     "status": "completed"
    },
    "tags": []
   },
   "outputs": [
    {
     "data": {
      "text/plain": [
       "<AxesSubplot:xlabel='start_station', ylabel='Count_trips'>"
      ]
     },
     "execution_count": 20,
     "metadata": {},
     "output_type": "execute_result"
    },
    {
     "data": {
      "image/png": "[encoded data removed]",
      "text/plain": [
       "<Figure size 432x288 with 1 Axes>"
      ]
     },
     "metadata": {
      "needs_background": "light"
     },
     "output_type": "display_data"
    }
   ],
   "source": [
    "temp_df0 = train_df[['start_station', 'trip_id']].groupby('start_station').count()\n",
    "temp_df0.reset_index(inplace=True)\n",
    "temp_df0.columns = ['start_station', 'Count_trips']\n",
    "sns.barplot(x = 'start_station', y = \"Count_trips\" , data = temp_df0)"
   ]
  },
  {
   "cell_type": "markdown",
   "id": "c84e46f4",
   "metadata": {
    "papermill": {
     "duration": 0.024967,
     "end_time": "2022-08-21T09:56:43.212635",
     "exception": false,
     "start_time": "2022-08-21T09:56:43.187668",
     "status": "completed"
    },
    "tags": []
   },
   "source": [
    "### end_station"
   ]
  },
  {
   "cell_type": "code",
   "execution_count": 21,
   "id": "fe528834",
   "metadata": {
    "execution": {
     "iopub.execute_input": "2022-08-21T09:56:43.266065Z",
     "iopub.status.busy": "2022-08-21T09:56:43.265289Z",
     "iopub.status.idle": "2022-08-21T09:56:47.519160Z",
     "shell.execute_reply": "2022-08-21T09:56:47.518012Z"
    },
    "papermill": {
     "duration": 4.283685,
     "end_time": "2022-08-21T09:56:47.521641",
     "exception": false,
     "start_time": "2022-08-21T09:56:43.237956",
     "status": "completed"
    },
    "tags": []
   },
   "outputs": [
    {
     "data": {
      "text/plain": [
       "<AxesSubplot:xlabel='end_station', ylabel='Count_trips'>"
      ]
     },
     "execution_count": 21,
     "metadata": {},
     "output_type": "execute_result"
    },
    {
     "data": {
      "image/png": "[encoded data removed]",
      "text/plain": [
       "<Figure size 432x288 with 1 Axes>"
      ]
     },
     "metadata": {
      "needs_background": "light"
     },
     "output_type": "display_data"
    }
   ],
   "source": [
    "temp_df1 = train_df[['end_station', 'trip_id']].groupby('end_station').count()\n",
    "temp_df1.reset_index(inplace=True)\n",
    "temp_df1.columns = ['end_station', 'Count_trips']\n",
    "sns.barplot(x = 'end_station', y = \"Count_trips\" , data = temp_df1, label = 'end_station')"
   ]
  },
  {
   "cell_type": "code",
   "execution_count": 22,
   "id": "e13b5830",
   "metadata": {
    "execution": {
     "iopub.execute_input": "2022-08-21T09:56:47.575748Z",
     "iopub.status.busy": "2022-08-21T09:56:47.574933Z",
     "iopub.status.idle": "2022-08-21T09:56:47.582435Z",
     "shell.execute_reply": "2022-08-21T09:56:47.581288Z"
    },
    "papermill": {
     "duration": 0.037075,
     "end_time": "2022-08-21T09:56:47.584717",
     "exception": false,
     "start_time": "2022-08-21T09:56:47.547642",
     "status": "completed"
    },
    "tags": []
   },
   "outputs": [
    {
     "data": {
      "text/plain": [
       "Index(['end_station', 'Count_trips'], dtype='object')"
      ]
     },
     "execution_count": 22,
     "metadata": {},
     "output_type": "execute_result"
    }
   ],
   "source": [
    "temp_df1.columns"
   ]
  },
  {
   "cell_type": "code",
   "execution_count": 23,
   "id": "023c2e7c",
   "metadata": {
    "execution": {
     "iopub.execute_input": "2022-08-21T09:56:47.638108Z",
     "iopub.status.busy": "2022-08-21T09:56:47.637739Z",
     "iopub.status.idle": "2022-08-21T09:56:47.642119Z",
     "shell.execute_reply": "2022-08-21T09:56:47.641398Z"
    },
    "papermill": {
     "duration": 0.03425,
     "end_time": "2022-08-21T09:56:47.644780",
     "exception": false,
     "start_time": "2022-08-21T09:56:47.610530",
     "status": "completed"
    },
    "tags": []
   },
   "outputs": [],
   "source": [
    "temp_df0.columns = ['station', 'Count_start']\n",
    "temp_df1.columns = ['station', 'Count_end']"
   ]
  },
  {
   "cell_type": "code",
   "execution_count": 24,
   "id": "2ca5e120",
   "metadata": {
    "execution": {
     "iopub.execute_input": "2022-08-21T09:56:47.704555Z",
     "iopub.status.busy": "2022-08-21T09:56:47.702947Z",
     "iopub.status.idle": "2022-08-21T09:56:47.717988Z",
     "shell.execute_reply": "2022-08-21T09:56:47.717076Z"
    },
    "papermill": {
     "duration": 0.04563,
     "end_time": "2022-08-21T09:56:47.721052",
     "exception": false,
     "start_time": "2022-08-21T09:56:47.675422",
     "status": "completed"
    },
    "tags": []
   },
   "outputs": [],
   "source": [
    "temp = pd.merge(temp_df0, temp_df1, on = \"station\")\n",
    "temp['(Count_end - Count_start)'] = temp['Count_end'] - temp['Count_start']"
   ]
  },
  {
   "cell_type": "code",
   "execution_count": 25,
   "id": "490709d7",
   "metadata": {
    "execution": {
     "iopub.execute_input": "2022-08-21T09:56:47.776197Z",
     "iopub.status.busy": "2022-08-21T09:56:47.775389Z",
     "iopub.status.idle": "2022-08-21T09:56:47.786692Z",
     "shell.execute_reply": "2022-08-21T09:56:47.785570Z"
    },
    "papermill": {
     "duration": 0.041432,
     "end_time": "2022-08-21T09:56:47.789184",
     "exception": false,
     "start_time": "2022-08-21T09:56:47.747752",
     "status": "completed"
    },
    "tags": []
   },
   "outputs": [
    {
     "data": {
      "text/html": [
       "<div>\n",
       "<style scoped>\n",
       "    .dataframe tbody tr th:only-of-type {\n",
       "        vertical-align: middle;\n",
       "    }\n",
       "\n",
       "    .dataframe tbody tr th {\n",
       "        vertical-align: top;\n",
       "    }\n",
       "\n",
       "    .dataframe thead th {\n",
       "        text-align: right;\n",
       "    }\n",
       "</style>\n",
       "<table border=\"1\" class=\"dataframe\">\n",
       "  <thead>\n",
       "    <tr style=\"text-align: right;\">\n",
       "      <th></th>\n",
       "      <th>station</th>\n",
       "      <th>Count_start</th>\n",
       "      <th>Count_end</th>\n",
       "      <th>(Count_end - Count_start)</th>\n",
       "    </tr>\n",
       "  </thead>\n",
       "  <tbody>\n",
       "    <tr>\n",
       "      <th>0</th>\n",
       "      <td>3000</td>\n",
       "      <td>1138</td>\n",
       "      <td>12347</td>\n",
       "      <td>11209</td>\n",
       "    </tr>\n",
       "    <tr>\n",
       "      <th>1</th>\n",
       "      <td>3005</td>\n",
       "      <td>28490</td>\n",
       "      <td>30576</td>\n",
       "      <td>2086</td>\n",
       "    </tr>\n",
       "    <tr>\n",
       "      <th>2</th>\n",
       "      <td>3006</td>\n",
       "      <td>12645</td>\n",
       "      <td>12807</td>\n",
       "      <td>162</td>\n",
       "    </tr>\n",
       "    <tr>\n",
       "      <th>3</th>\n",
       "      <td>3007</td>\n",
       "      <td>10774</td>\n",
       "      <td>8681</td>\n",
       "      <td>-2093</td>\n",
       "    </tr>\n",
       "    <tr>\n",
       "      <th>4</th>\n",
       "      <td>3008</td>\n",
       "      <td>9051</td>\n",
       "      <td>9341</td>\n",
       "      <td>290</td>\n",
       "    </tr>\n",
       "  </tbody>\n",
       "</table>\n",
       "</div>"
      ],
      "text/plain": [
       "   station  Count_start  Count_end  (Count_end - Count_start)\n",
       "0     3000         1138      12347                      11209\n",
       "1     3005        28490      30576                       2086\n",
       "2     3006        12645      12807                        162\n",
       "3     3007        10774       8681                      -2093\n",
       "4     3008         9051       9341                        290"
      ]
     },
     "execution_count": 25,
     "metadata": {},
     "output_type": "execute_result"
    }
   ],
   "source": [
    "temp.head()"
   ]
  },
  {
   "cell_type": "code",
   "execution_count": 26,
   "id": "4d879ce7",
   "metadata": {
    "execution": {
     "iopub.execute_input": "2022-08-21T09:56:47.843464Z",
     "iopub.status.busy": "2022-08-21T09:56:47.842675Z",
     "iopub.status.idle": "2022-08-21T09:56:47.849283Z",
     "shell.execute_reply": "2022-08-21T09:56:47.847813Z"
    },
    "papermill": {
     "duration": 0.036526,
     "end_time": "2022-08-21T09:56:47.851542",
     "exception": false,
     "start_time": "2022-08-21T09:56:47.815016",
     "status": "completed"
    },
    "tags": []
   },
   "outputs": [
    {
     "name": "stdout",
     "output_type": "stream",
     "text": [
      "364\n"
     ]
    }
   ],
   "source": [
    "total_stations = len(temp)\n",
    "print(total_stations)"
   ]
  },
  {
   "cell_type": "code",
   "execution_count": 27,
   "id": "cebc9790",
   "metadata": {
    "execution": {
     "iopub.execute_input": "2022-08-21T09:56:47.907051Z",
     "iopub.status.busy": "2022-08-21T09:56:47.906314Z",
     "iopub.status.idle": "2022-08-21T09:56:47.924114Z",
     "shell.execute_reply": "2022-08-21T09:56:47.923037Z"
    },
    "papermill": {
     "duration": 0.048871,
     "end_time": "2022-08-21T09:56:47.926707",
     "exception": false,
     "start_time": "2022-08-21T09:56:47.877836",
     "status": "completed"
    },
    "tags": []
   },
   "outputs": [
    {
     "name": "stdout",
     "output_type": "stream",
     "text": [
      "MAS_SALIDAS_QUE_LLEGADAS: 209\n",
      "MAS_SALIDAS_QUE_LLEGADAS [%]: 57.42\n"
     ]
    }
   ],
   "source": [
    "print('MAS_SALIDAS_QUE_LLEGADAS:', len(temp.where(temp['(Count_end - Count_start)'] < 0).dropna()))\n",
    "print('MAS_SALIDAS_QUE_LLEGADAS [%]:', \"{:.2f}\".format(len(temp.where(temp['(Count_end - Count_start)'] < 0).dropna())/total_stations*100))"
   ]
  },
  {
   "cell_type": "code",
   "execution_count": 28,
   "id": "59dff469",
   "metadata": {
    "execution": {
     "iopub.execute_input": "2022-08-21T09:56:47.981560Z",
     "iopub.status.busy": "2022-08-21T09:56:47.980875Z",
     "iopub.status.idle": "2022-08-21T09:56:47.997944Z",
     "shell.execute_reply": "2022-08-21T09:56:47.996874Z"
    },
    "papermill": {
     "duration": 0.047186,
     "end_time": "2022-08-21T09:56:48.000244",
     "exception": false,
     "start_time": "2022-08-21T09:56:47.953058",
     "status": "completed"
    },
    "tags": []
   },
   "outputs": [
    {
     "name": "stdout",
     "output_type": "stream",
     "text": [
      "BIEN 155\n",
      "BIEN [%]: 42.58\n"
     ]
    }
   ],
   "source": [
    "print('BIEN', len(temp.where(temp['(Count_end - Count_start)'] >= 0).dropna()))\n",
    "print('BIEN [%]:', \"{:.2f}\".format(len(temp.where(temp['(Count_end - Count_start)'] >= 0).dropna())/total_stations*100))"
   ]
  },
  {
   "cell_type": "code",
   "execution_count": 29,
   "id": "03fffcf3",
   "metadata": {
    "execution": {
     "iopub.execute_input": "2022-08-21T09:56:48.056341Z",
     "iopub.status.busy": "2022-08-21T09:56:48.055635Z",
     "iopub.status.idle": "2022-08-21T09:56:48.328344Z",
     "shell.execute_reply": "2022-08-21T09:56:48.327488Z"
    },
    "papermill": {
     "duration": 0.302931,
     "end_time": "2022-08-21T09:56:48.330664",
     "exception": false,
     "start_time": "2022-08-21T09:56:48.027733",
     "status": "completed"
    },
    "tags": []
   },
   "outputs": [
    {
     "data": {
      "text/plain": [
       "<AxesSubplot:xlabel='station', ylabel='(Count_end - Count_start)'>"
      ]
     },
     "execution_count": 29,
     "metadata": {},
     "output_type": "execute_result"
    },
    {
     "data": {
      "image/png": "[encoded data removed]",
      "text/plain": [
       "<Figure size 432x288 with 1 Axes>"
      ]
     },
     "metadata": {},
     "output_type": "display_data"
    }
   ],
   "source": [
    "sns.set_style(\"whitegrid\")\n",
    "sns.scatterplot(x = 'station', y = '(Count_end - Count_start)', data = temp)"
   ]
  },
  {
   "cell_type": "markdown",
   "id": "39814a9c",
   "metadata": {
    "papermill": {
     "duration": 0.026931,
     "end_time": "2022-08-21T09:56:48.384470",
     "exception": false,
     "start_time": "2022-08-21T09:56:48.357539",
     "status": "completed"
    },
    "tags": []
   },
   "source": [
    "## Suscripciones"
   ]
  },
  {
   "cell_type": "code",
   "execution_count": 30,
   "id": "443b8d2e",
   "metadata": {
    "execution": {
     "iopub.execute_input": "2022-08-21T09:56:48.440398Z",
     "iopub.status.busy": "2022-08-21T09:56:48.439710Z",
     "iopub.status.idle": "2022-08-21T09:56:48.705342Z",
     "shell.execute_reply": "2022-08-21T09:56:48.704189Z"
    },
    "papermill": {
     "duration": 0.296511,
     "end_time": "2022-08-21T09:56:48.707774",
     "exception": false,
     "start_time": "2022-08-21T09:56:48.411263",
     "status": "completed"
    },
    "tags": []
   },
   "outputs": [
    {
     "data": {
      "text/plain": [
       "Text(0.5, 1.0, '')"
      ]
     },
     "execution_count": 30,
     "metadata": {},
     "output_type": "execute_result"
    },
    {
     "data": {
      "image/png": "[encoded data removed]",
      "text/plain": [
       "<Figure size 432x288 with 1 Axes>"
      ]
     },
     "metadata": {},
     "output_type": "display_data"
    }
   ],
   "source": [
    "temp_df = train_df[['passholder_type', 'trip_id']].groupby('passholder_type').count()\n",
    "temp_df.reset_index(inplace=True)\n",
    "temp_df.rename(columns = {'trip_id':'trip_id_count'}, inplace = True)\n",
    "temp_df.insert(loc = 2, column = 'trip_id_%', value = 100*temp_df[['trip_id_count']]/temp_df['trip_id_count'].sum())\n",
    "temp_df.head()\n",
    "sns.barplot(x = 'passholder_type', y = \"trip_id_%\" , data = temp_df)\n",
    "plt.title('Viajes por suscripción [%]')\n",
    "plt.xticks(rotation=-45)\n",
    "plt.title(\"\")"
   ]
  },
  {
   "cell_type": "code",
   "execution_count": 31,
   "id": "7cdfc7b3",
   "metadata": {
    "execution": {
     "iopub.execute_input": "2022-08-21T09:56:48.766088Z",
     "iopub.status.busy": "2022-08-21T09:56:48.765662Z",
     "iopub.status.idle": "2022-08-21T09:56:48.777065Z",
     "shell.execute_reply": "2022-08-21T09:56:48.776127Z"
    },
    "papermill": {
     "duration": 0.043998,
     "end_time": "2022-08-21T09:56:48.779360",
     "exception": false,
     "start_time": "2022-08-21T09:56:48.735362",
     "status": "completed"
    },
    "tags": []
   },
   "outputs": [
    {
     "data": {
      "text/html": [
       "<div>\n",
       "<style scoped>\n",
       "    .dataframe tbody tr th:only-of-type {\n",
       "        vertical-align: middle;\n",
       "    }\n",
       "\n",
       "    .dataframe tbody tr th {\n",
       "        vertical-align: top;\n",
       "    }\n",
       "\n",
       "    .dataframe thead th {\n",
       "        text-align: right;\n",
       "    }\n",
       "</style>\n",
       "<table border=\"1\" class=\"dataframe\">\n",
       "  <thead>\n",
       "    <tr style=\"text-align: right;\">\n",
       "      <th></th>\n",
       "      <th>passholder_type</th>\n",
       "      <th>trip_id_count</th>\n",
       "      <th>trip_id_%</th>\n",
       "    </tr>\n",
       "  </thead>\n",
       "  <tbody>\n",
       "    <tr>\n",
       "      <th>0</th>\n",
       "      <td>Annual Pass</td>\n",
       "      <td>34092</td>\n",
       "      <td>4.888275</td>\n",
       "    </tr>\n",
       "    <tr>\n",
       "      <th>1</th>\n",
       "      <td>Flex Pass</td>\n",
       "      <td>11604</td>\n",
       "      <td>1.663837</td>\n",
       "    </tr>\n",
       "    <tr>\n",
       "      <th>2</th>\n",
       "      <td>Monthly Pass</td>\n",
       "      <td>394769</td>\n",
       "      <td>56.603874</td>\n",
       "    </tr>\n",
       "    <tr>\n",
       "      <th>3</th>\n",
       "      <td>One Day Pass</td>\n",
       "      <td>44455</td>\n",
       "      <td>6.374171</td>\n",
       "    </tr>\n",
       "    <tr>\n",
       "      <th>4</th>\n",
       "      <td>Testing</td>\n",
       "      <td>78</td>\n",
       "      <td>0.011184</td>\n",
       "    </tr>\n",
       "    <tr>\n",
       "      <th>5</th>\n",
       "      <td>Walk-up</td>\n",
       "      <td>212426</td>\n",
       "      <td>30.458659</td>\n",
       "    </tr>\n",
       "  </tbody>\n",
       "</table>\n",
       "</div>"
      ],
      "text/plain": [
       "  passholder_type  trip_id_count  trip_id_%\n",
       "0     Annual Pass          34092   4.888275\n",
       "1       Flex Pass          11604   1.663837\n",
       "2    Monthly Pass         394769  56.603874\n",
       "3    One Day Pass          44455   6.374171\n",
       "4         Testing             78   0.011184\n",
       "5         Walk-up         212426  30.458659"
      ]
     },
     "execution_count": 31,
     "metadata": {},
     "output_type": "execute_result"
    }
   ],
   "source": [
    "temp_df"
   ]
  },
  {
   "cell_type": "markdown",
   "id": "a2708078",
   "metadata": {
    "papermill": {
     "duration": 0.027008,
     "end_time": "2022-08-21T09:56:48.833709",
     "exception": false,
     "start_time": "2022-08-21T09:56:48.806701",
     "status": "completed"
    },
    "tags": []
   },
   "source": [
    "## Visualizando los viajes en función del tipo de suscripción (\"passholder_type\") y tipo de viaje (\"trip_toute_category\")"
   ]
  },
  {
   "cell_type": "markdown",
   "id": "b6c93481",
   "metadata": {
    "papermill": {
     "duration": 0.026945,
     "end_time": "2022-08-21T09:56:48.887782",
     "exception": false,
     "start_time": "2022-08-21T09:56:48.860837",
     "status": "completed"
    },
    "tags": []
   },
   "source": [
    "### start_station"
   ]
  },
  {
   "cell_type": "code",
   "execution_count": 32,
   "id": "8bc996af",
   "metadata": {
    "execution": {
     "iopub.execute_input": "2022-08-21T09:56:48.947891Z",
     "iopub.status.busy": "2022-08-21T09:56:48.946842Z",
     "iopub.status.idle": "2022-08-21T09:56:48.984519Z",
     "shell.execute_reply": "2022-08-21T09:56:48.983134Z"
    },
    "papermill": {
     "duration": 0.071654,
     "end_time": "2022-08-21T09:56:48.986838",
     "exception": false,
     "start_time": "2022-08-21T09:56:48.915184",
     "status": "completed"
    },
    "tags": []
   },
   "outputs": [
    {
     "name": "stdout",
     "output_type": "stream",
     "text": [
      "Total \"start_station\": 364\n",
      "\n"
     ]
    },
    {
     "data": {
      "text/html": [
       "<div>\n",
       "<style scoped>\n",
       "    .dataframe tbody tr th:only-of-type {\n",
       "        vertical-align: middle;\n",
       "    }\n",
       "\n",
       "    .dataframe tbody tr th {\n",
       "        vertical-align: top;\n",
       "    }\n",
       "\n",
       "    .dataframe thead th {\n",
       "        text-align: right;\n",
       "    }\n",
       "</style>\n",
       "<table border=\"1\" class=\"dataframe\">\n",
       "  <thead>\n",
       "    <tr style=\"text-align: right;\">\n",
       "      <th></th>\n",
       "      <th>start_station</th>\n",
       "      <th>trip_id_count</th>\n",
       "      <th>trip_id_%</th>\n",
       "    </tr>\n",
       "  </thead>\n",
       "  <tbody>\n",
       "    <tr>\n",
       "      <th>0</th>\n",
       "      <td>3000</td>\n",
       "      <td>1138</td>\n",
       "      <td>0.001626</td>\n",
       "    </tr>\n",
       "    <tr>\n",
       "      <th>1</th>\n",
       "      <td>3005</td>\n",
       "      <td>28490</td>\n",
       "      <td>0.040700</td>\n",
       "    </tr>\n",
       "    <tr>\n",
       "      <th>2</th>\n",
       "      <td>3006</td>\n",
       "      <td>12645</td>\n",
       "      <td>0.018064</td>\n",
       "    </tr>\n",
       "    <tr>\n",
       "      <th>3</th>\n",
       "      <td>3007</td>\n",
       "      <td>10774</td>\n",
       "      <td>0.015391</td>\n",
       "    </tr>\n",
       "    <tr>\n",
       "      <th>4</th>\n",
       "      <td>3008</td>\n",
       "      <td>9051</td>\n",
       "      <td>0.012930</td>\n",
       "    </tr>\n",
       "  </tbody>\n",
       "</table>\n",
       "</div>"
      ],
      "text/plain": [
       "   start_station  trip_id_count  trip_id_%\n",
       "0           3000           1138   0.001626\n",
       "1           3005          28490   0.040700\n",
       "2           3006          12645   0.018064\n",
       "3           3007          10774   0.015391\n",
       "4           3008           9051   0.012930"
      ]
     },
     "execution_count": 32,
     "metadata": {},
     "output_type": "execute_result"
    }
   ],
   "source": [
    "start_station_df = train_df[['start_station', 'trip_id']].groupby('start_station').count()\n",
    "start_station_df.reset_index(inplace=True)\n",
    "start_station_df.rename(columns = {'trip_id':'trip_id_count'}, inplace = True)\n",
    "start_station_df.insert(loc = 2, column = 'trip_id_%', value = start_station_df[['trip_id_count']]/start_station_df['trip_id_count'].sum())\n",
    "print('Total \"start_station\": '+str(len(start_station_df['start_station'])))\n",
    "print()\n",
    "start_station_df.head()"
   ]
  },
  {
   "cell_type": "code",
   "execution_count": 33,
   "id": "d93372a1",
   "metadata": {
    "execution": {
     "iopub.execute_input": "2022-08-21T09:56:49.044397Z",
     "iopub.status.busy": "2022-08-21T09:56:49.043742Z",
     "iopub.status.idle": "2022-08-21T09:56:49.056390Z",
     "shell.execute_reply": "2022-08-21T09:56:49.055245Z"
    },
    "papermill": {
     "duration": 0.043766,
     "end_time": "2022-08-21T09:56:49.058658",
     "exception": false,
     "start_time": "2022-08-21T09:56:49.014892",
     "status": "completed"
    },
    "tags": []
   },
   "outputs": [
    {
     "data": {
      "text/plain": [
       "0.5196314285714286"
      ]
     },
     "execution_count": 33,
     "metadata": {},
     "output_type": "execute_result"
    }
   ],
   "source": [
    "start_station_df.where(start_station_df['trip_id_%'] > 0.01).dropna()['trip_id_%'].sum()"
   ]
  },
  {
   "cell_type": "code",
   "execution_count": 34,
   "id": "33af5fff",
   "metadata": {
    "execution": {
     "iopub.execute_input": "2022-08-21T09:56:49.115893Z",
     "iopub.status.busy": "2022-08-21T09:56:49.115527Z",
     "iopub.status.idle": "2022-08-21T09:56:49.128001Z",
     "shell.execute_reply": "2022-08-21T09:56:49.126721Z"
    },
    "papermill": {
     "duration": 0.043621,
     "end_time": "2022-08-21T09:56:49.130187",
     "exception": false,
     "start_time": "2022-08-21T09:56:49.086566",
     "status": "completed"
    },
    "tags": []
   },
   "outputs": [
    {
     "data": {
      "text/plain": [
       "30"
      ]
     },
     "execution_count": 34,
     "metadata": {},
     "output_type": "execute_result"
    }
   ],
   "source": [
    "start_station_df.where(start_station_df['trip_id_%'] > 0.01).dropna()['trip_id_%'].count()"
   ]
  },
  {
   "cell_type": "code",
   "execution_count": 35,
   "id": "bd4d20bb",
   "metadata": {
    "execution": {
     "iopub.execute_input": "2022-08-21T09:56:49.188670Z",
     "iopub.status.busy": "2022-08-21T09:56:49.188020Z",
     "iopub.status.idle": "2022-08-21T09:56:49.200142Z",
     "shell.execute_reply": "2022-08-21T09:56:49.199049Z"
    },
    "papermill": {
     "duration": 0.04464,
     "end_time": "2022-08-21T09:56:49.202372",
     "exception": false,
     "start_time": "2022-08-21T09:56:49.157732",
     "status": "completed"
    },
    "tags": []
   },
   "outputs": [
    {
     "data": {
      "text/plain": [
       "0.08241758241758242"
      ]
     },
     "execution_count": 35,
     "metadata": {},
     "output_type": "execute_result"
    }
   ],
   "source": [
    "start_station_df.where(start_station_df['trip_id_%'] > 0.01).dropna()['trip_id_%'].count()/len(start_station_df)"
   ]
  },
  {
   "cell_type": "markdown",
   "id": "0b5b29c3",
   "metadata": {
    "papermill": {
     "duration": 0.027443,
     "end_time": "2022-08-21T09:56:49.257381",
     "exception": false,
     "start_time": "2022-08-21T09:56:49.229938",
     "status": "completed"
    },
    "tags": []
   },
   "source": [
    "30 estaciones (~8.24%) son el ORIGEN de ~52% de los viajes. "
   ]
  },
  {
   "cell_type": "code",
   "execution_count": 36,
   "id": "7fb4b701",
   "metadata": {
    "execution": {
     "iopub.execute_input": "2022-08-21T09:56:49.314732Z",
     "iopub.status.busy": "2022-08-21T09:56:49.314080Z",
     "iopub.status.idle": "2022-08-21T09:56:49.527324Z",
     "shell.execute_reply": "2022-08-21T09:56:49.526160Z"
    },
    "papermill": {
     "duration": 0.245095,
     "end_time": "2022-08-21T09:56:49.530007",
     "exception": false,
     "start_time": "2022-08-21T09:56:49.284912",
     "status": "completed"
    },
    "tags": []
   },
   "outputs": [],
   "source": [
    "# Obtenemos las estaciones de este conjunto start_station_df['trip_id_%'] > 0.01\n",
    "start_station_list1 = start_station_df.where(start_station_df['trip_id_%'] > 0.01).dropna()['start_station'].values\n",
    "temp_df0 = train_df[train_df['start_station'].isin(start_station_list1)][['trip_route_category', 'passholder_type']].dropna().groupby(['passholder_type', 'trip_route_category']).size().to_frame()\n",
    "temp_df0.reset_index(inplace=True)\n",
    "temp_df0.rename(columns = { 0:'Count'}, inplace = True)\n",
    "temp_df0.insert(loc = 3, column = 'Percentage_%', value = temp_df0[['Count']]/temp_df0['Count'].sum()*100)\n",
    "#temp_df0\n",
    "#ax = sns.barplot(x=\"passholder_type\", y=\"Count\", hue=\"trip_route_category\", data=temp_df0)\n"
   ]
  },
  {
   "cell_type": "code",
   "execution_count": 37,
   "id": "0db54bd3",
   "metadata": {
    "execution": {
     "iopub.execute_input": "2022-08-21T09:56:49.587808Z",
     "iopub.status.busy": "2022-08-21T09:56:49.587409Z",
     "iopub.status.idle": "2022-08-21T09:56:49.790507Z",
     "shell.execute_reply": "2022-08-21T09:56:49.789694Z"
    },
    "papermill": {
     "duration": 0.234822,
     "end_time": "2022-08-21T09:56:49.792965",
     "exception": false,
     "start_time": "2022-08-21T09:56:49.558143",
     "status": "completed"
    },
    "tags": []
   },
   "outputs": [],
   "source": [
    "# Obtenemos las estaciones de este conjunto start_station_df['trip_id_%'] <= 0.01\n",
    "start_station_list1 = start_station_df.where(start_station_df['trip_id_%'] <= 0.01).dropna()['start_station'].values\n",
    "temp_df1 = train_df[train_df['start_station'].isin(start_station_list1)][['trip_route_category', 'passholder_type']].dropna().groupby(['passholder_type', 'trip_route_category']).size().to_frame()\n",
    "temp_df1.reset_index(inplace=True)\n",
    "temp_df1.rename(columns = { 0:'Count'}, inplace = True)\n",
    "temp_df1.insert(loc = 3, column = 'Percentage_%', value = temp_df1[['Count']]/temp_df1['Count'].sum()*100)\n",
    "#temp_df1\n",
    "#ax = sns.barplot(x=\"passholder_type\", y=\"Count\", hue=\"trip_route_category\", data=temp_df1)"
   ]
  },
  {
   "cell_type": "code",
   "execution_count": 38,
   "id": "0722a881",
   "metadata": {
    "execution": {
     "iopub.execute_input": "2022-08-21T09:56:49.851296Z",
     "iopub.status.busy": "2022-08-21T09:56:49.850461Z",
     "iopub.status.idle": "2022-08-21T09:56:50.502218Z",
     "shell.execute_reply": "2022-08-21T09:56:50.500986Z"
    },
    "papermill": {
     "duration": 0.683612,
     "end_time": "2022-08-21T09:56:50.504568",
     "exception": false,
     "start_time": "2022-08-21T09:56:49.820956",
     "status": "completed"
    },
    "tags": []
   },
   "outputs": [
    {
     "data": {
      "image/png": "[encoded data removed]",
      "text/plain": [
       "<Figure size 432x288 with 2 Axes>"
      ]
     },
     "metadata": {},
     "output_type": "display_data"
    }
   ],
   "source": [
    "figure, axis = plt.subplots(1, 2)\n",
    "figure.suptitle('Viajes desde \"start_station\"')\n",
    "sns.barplot(ax = axis[0], x=\"passholder_type\", y=\"Percentage_%\", hue=\"trip_route_category\", data=temp_df0)\n",
    "axis[0].set_title(\"~8.24% de las estaciones\")\n",
    "axis[0].set_xticks(ticks = range(1, len(temp_df0['passholder_type'].unique()) + 1), labels = temp_df0['passholder_type'].unique(), rotation=-45)\n",
    "sns.barplot(ax = axis[1], x=\"passholder_type\", y=\"Percentage_%\", hue=\"trip_route_category\", data=temp_df1)\n",
    "axis[1].set_title(\"~91.76% de las estaciones\")\n",
    "axis[1].set_xticks(ticks = range(1, len(temp_df0['passholder_type'].unique()) + 1), labels = temp_df0['passholder_type'].unique(), rotation=-45)\n",
    "plt.ylim([0, 55])\n",
    "plt.savefig('imagen_1.jpg')"
   ]
  },
  {
   "cell_type": "code",
   "execution_count": 39,
   "id": "f00a28a6",
   "metadata": {
    "execution": {
     "iopub.execute_input": "2022-08-21T09:56:50.563353Z",
     "iopub.status.busy": "2022-08-21T09:56:50.562913Z",
     "iopub.status.idle": "2022-08-21T09:56:51.001178Z",
     "shell.execute_reply": "2022-08-21T09:56:51.000059Z"
    },
    "papermill": {
     "duration": 0.47038,
     "end_time": "2022-08-21T09:56:51.003492",
     "exception": false,
     "start_time": "2022-08-21T09:56:50.533112",
     "status": "completed"
    },
    "tags": []
   },
   "outputs": [
    {
     "data": {
      "image/png": "[encoded data removed]",
      "text/plain": [
       "<Figure size 432x288 with 1 Axes>"
      ]
     },
     "metadata": {},
     "output_type": "display_data"
    }
   ],
   "source": [
    "temp_df = train_df[['trip_route_category', 'passholder_type']].groupby(['passholder_type', 'trip_route_category']).size().to_frame()\n",
    "temp_df.reset_index(inplace=True)\n",
    "temp_df.rename(columns = { 0:'Count'}, inplace = True)\n",
    "temp_df.insert(loc = 3, column = 'Percentage_%', value = temp_df[['Count']]/temp_df['Count'].sum()*100)\n",
    "ax = sns.barplot(x=\"passholder_type\", y=\"Percentage_%\", hue=\"trip_route_category\", data=temp_df)\n",
    "plt.title('Viajes desde \"start_station\" (TODAS)')\n",
    "plt.xticks(rotation=-45)\n",
    "plt.savefig('imagen_2.jpg')"
   ]
  },
  {
   "cell_type": "markdown",
   "id": "e6382b9f",
   "metadata": {
    "papermill": {
     "duration": 0.028862,
     "end_time": "2022-08-21T09:56:51.061474",
     "exception": false,
     "start_time": "2022-08-21T09:56:51.032612",
     "status": "completed"
    },
    "tags": []
   },
   "source": [
    "### end_station"
   ]
  },
  {
   "cell_type": "code",
   "execution_count": 40,
   "id": "921098a7",
   "metadata": {
    "execution": {
     "iopub.execute_input": "2022-08-21T09:56:51.120970Z",
     "iopub.status.busy": "2022-08-21T09:56:51.120571Z",
     "iopub.status.idle": "2022-08-21T09:56:51.154388Z",
     "shell.execute_reply": "2022-08-21T09:56:51.153250Z"
    },
    "papermill": {
     "duration": 0.06636,
     "end_time": "2022-08-21T09:56:51.156816",
     "exception": false,
     "start_time": "2022-08-21T09:56:51.090456",
     "status": "completed"
    },
    "tags": []
   },
   "outputs": [
    {
     "name": "stdout",
     "output_type": "stream",
     "text": [
      "Total \"end_station\": 369\n",
      "\n"
     ]
    },
    {
     "data": {
      "text/html": [
       "<div>\n",
       "<style scoped>\n",
       "    .dataframe tbody tr th:only-of-type {\n",
       "        vertical-align: middle;\n",
       "    }\n",
       "\n",
       "    .dataframe tbody tr th {\n",
       "        vertical-align: top;\n",
       "    }\n",
       "\n",
       "    .dataframe thead th {\n",
       "        text-align: right;\n",
       "    }\n",
       "</style>\n",
       "<table border=\"1\" class=\"dataframe\">\n",
       "  <thead>\n",
       "    <tr style=\"text-align: right;\">\n",
       "      <th></th>\n",
       "      <th>end_station</th>\n",
       "      <th>trip_id_count</th>\n",
       "      <th>trip_id_%</th>\n",
       "    </tr>\n",
       "  </thead>\n",
       "  <tbody>\n",
       "    <tr>\n",
       "      <th>0</th>\n",
       "      <td>3000</td>\n",
       "      <td>12347</td>\n",
       "      <td>0.017639</td>\n",
       "    </tr>\n",
       "    <tr>\n",
       "      <th>1</th>\n",
       "      <td>3005</td>\n",
       "      <td>30576</td>\n",
       "      <td>0.043680</td>\n",
       "    </tr>\n",
       "    <tr>\n",
       "      <th>2</th>\n",
       "      <td>3006</td>\n",
       "      <td>12807</td>\n",
       "      <td>0.018296</td>\n",
       "    </tr>\n",
       "    <tr>\n",
       "      <th>3</th>\n",
       "      <td>3007</td>\n",
       "      <td>8681</td>\n",
       "      <td>0.012401</td>\n",
       "    </tr>\n",
       "    <tr>\n",
       "      <th>4</th>\n",
       "      <td>3008</td>\n",
       "      <td>9341</td>\n",
       "      <td>0.013344</td>\n",
       "    </tr>\n",
       "  </tbody>\n",
       "</table>\n",
       "</div>"
      ],
      "text/plain": [
       "   end_station  trip_id_count  trip_id_%\n",
       "0         3000          12347   0.017639\n",
       "1         3005          30576   0.043680\n",
       "2         3006          12807   0.018296\n",
       "3         3007           8681   0.012401\n",
       "4         3008           9341   0.013344"
      ]
     },
     "execution_count": 40,
     "metadata": {},
     "output_type": "execute_result"
    }
   ],
   "source": [
    "end_station_df = train_df[['end_station', 'trip_id']].groupby('end_station').count()\n",
    "end_station_df.reset_index(inplace=True)\n",
    "end_station_df.rename(columns = {'trip_id':'trip_id_count'}, inplace = True)\n",
    "end_station_df.insert(loc = 2, column = 'trip_id_%', value = end_station_df[['trip_id_count']]/end_station_df['trip_id_count'].sum())\n",
    "print('Total \"end_station\": '+str(len(end_station_df['end_station'])))\n",
    "print()\n",
    "end_station_df.head()"
   ]
  },
  {
   "cell_type": "code",
   "execution_count": 41,
   "id": "13c77b8e",
   "metadata": {
    "execution": {
     "iopub.execute_input": "2022-08-21T09:56:51.217575Z",
     "iopub.status.busy": "2022-08-21T09:56:51.217171Z",
     "iopub.status.idle": "2022-08-21T09:56:51.229283Z",
     "shell.execute_reply": "2022-08-21T09:56:51.228136Z"
    },
    "papermill": {
     "duration": 0.044817,
     "end_time": "2022-08-21T09:56:51.231431",
     "exception": false,
     "start_time": "2022-08-21T09:56:51.186614",
     "status": "completed"
    },
    "tags": []
   },
   "outputs": [
    {
     "data": {
      "text/plain": [
       "0.5121228571428572"
      ]
     },
     "execution_count": 41,
     "metadata": {},
     "output_type": "execute_result"
    }
   ],
   "source": [
    "end_station_df.where(end_station_df['trip_id_%'] > 0.01).dropna()['trip_id_%'].sum()"
   ]
  },
  {
   "cell_type": "code",
   "execution_count": 42,
   "id": "675fb1a1",
   "metadata": {
    "execution": {
     "iopub.execute_input": "2022-08-21T09:56:51.292402Z",
     "iopub.status.busy": "2022-08-21T09:56:51.292013Z",
     "iopub.status.idle": "2022-08-21T09:56:51.303634Z",
     "shell.execute_reply": "2022-08-21T09:56:51.302582Z"
    },
    "papermill": {
     "duration": 0.044938,
     "end_time": "2022-08-21T09:56:51.305874",
     "exception": false,
     "start_time": "2022-08-21T09:56:51.260936",
     "status": "completed"
    },
    "tags": []
   },
   "outputs": [
    {
     "data": {
      "text/plain": [
       "28"
      ]
     },
     "execution_count": 42,
     "metadata": {},
     "output_type": "execute_result"
    }
   ],
   "source": [
    "end_station_df.where(end_station_df['trip_id_%'] > 0.01).dropna()['trip_id_%'].count()"
   ]
  },
  {
   "cell_type": "code",
   "execution_count": 43,
   "id": "d41e2c2b",
   "metadata": {
    "execution": {
     "iopub.execute_input": "2022-08-21T09:56:51.366472Z",
     "iopub.status.busy": "2022-08-21T09:56:51.366071Z",
     "iopub.status.idle": "2022-08-21T09:56:51.377804Z",
     "shell.execute_reply": "2022-08-21T09:56:51.377009Z"
    },
    "papermill": {
     "duration": 0.044638,
     "end_time": "2022-08-21T09:56:51.379988",
     "exception": false,
     "start_time": "2022-08-21T09:56:51.335350",
     "status": "completed"
    },
    "tags": []
   },
   "outputs": [
    {
     "data": {
      "text/plain": [
       "0.07588075880758807"
      ]
     },
     "execution_count": 43,
     "metadata": {},
     "output_type": "execute_result"
    }
   ],
   "source": [
    "end_station_df.where(end_station_df['trip_id_%'] > 0.01).dropna()['trip_id_%'].count()/len(end_station_df)"
   ]
  },
  {
   "cell_type": "markdown",
   "id": "dd8f717f",
   "metadata": {
    "execution": {
     "iopub.execute_input": "2022-08-15T03:38:43.861599Z",
     "iopub.status.busy": "2022-08-15T03:38:43.860869Z",
     "iopub.status.idle": "2022-08-15T03:38:43.869051Z",
     "shell.execute_reply": "2022-08-15T03:38:43.867349Z",
     "shell.execute_reply.started": "2022-08-15T03:38:43.861560Z"
    },
    "papermill": {
     "duration": 0.029048,
     "end_time": "2022-08-21T09:56:51.438910",
     "exception": false,
     "start_time": "2022-08-21T09:56:51.409862",
     "status": "completed"
    },
    "tags": []
   },
   "source": [
    "Los valores son \"razonablemente\" similares con el conjunto previo."
   ]
  },
  {
   "cell_type": "code",
   "execution_count": 44,
   "id": "5973458f",
   "metadata": {
    "execution": {
     "iopub.execute_input": "2022-08-21T09:56:51.499918Z",
     "iopub.status.busy": "2022-08-21T09:56:51.499293Z",
     "iopub.status.idle": "2022-08-21T09:56:51.710569Z",
     "shell.execute_reply": "2022-08-21T09:56:51.709608Z"
    },
    "papermill": {
     "duration": 0.24482,
     "end_time": "2022-08-21T09:56:51.713228",
     "exception": false,
     "start_time": "2022-08-21T09:56:51.468408",
     "status": "completed"
    },
    "tags": []
   },
   "outputs": [],
   "source": [
    "# Obtenemos las estaciones de este conjunto start_station_df['trip_id_%'] > 0.01\n",
    "end_station_list1 = end_station_df.where(end_station_df['trip_id_%'] > 0.01).dropna()['end_station'].values\n",
    "temp_df0 = train_df[train_df['end_station'].isin(end_station_list1)][['trip_route_category', 'passholder_type']].dropna().groupby(['passholder_type', 'trip_route_category']).size().to_frame()\n",
    "temp_df0.reset_index(inplace=True)\n",
    "temp_df0.rename(columns = { 0:'Count'}, inplace = True)\n",
    "temp_df0.insert(loc = 3, column = 'Percentage_%', value = temp_df0[['Count']]/temp_df0['Count'].sum()*100)\n",
    "#ax = sns.barplot(x=\"passholder_type\", y=\"Count\", hue=\"trip_route_category\", data=temp_df0)"
   ]
  },
  {
   "cell_type": "code",
   "execution_count": 45,
   "id": "9cd4e421",
   "metadata": {
    "execution": {
     "iopub.execute_input": "2022-08-21T09:56:51.775703Z",
     "iopub.status.busy": "2022-08-21T09:56:51.774863Z",
     "iopub.status.idle": "2022-08-21T09:56:52.435244Z",
     "shell.execute_reply": "2022-08-21T09:56:52.434004Z"
    },
    "papermill": {
     "duration": 0.694467,
     "end_time": "2022-08-21T09:56:52.437834",
     "exception": false,
     "start_time": "2022-08-21T09:56:51.743367",
     "status": "completed"
    },
    "tags": []
   },
   "outputs": [
    {
     "data": {
      "image/png": "[encoded data removed]",
      "text/plain": [
       "<Figure size 432x288 with 2 Axes>"
      ]
     },
     "metadata": {},
     "output_type": "display_data"
    }
   ],
   "source": [
    "figure, axis = plt.subplots(1, 2)\n",
    "figure.suptitle('Viajes hasta \"end_station\"')\n",
    "sns.barplot(ax = axis[0], x=\"passholder_type\", y=\"Percentage_%\", hue=\"trip_route_category\", data=temp_df0)\n",
    "axis[0].set_title(\"~7.58% de las estaciones\")\n",
    "axis[0].set_xticks(ticks = range(1, len(temp_df0['passholder_type'].unique()) + 1), labels = temp_df0['passholder_type'].unique(), rotation=-45)\n",
    "sns.barplot(ax = axis[1], x=\"passholder_type\", y=\"Percentage_%\", hue=\"trip_route_category\", data=temp_df1)\n",
    "axis[1].set_title(\"~92.44% de las estaciones\")\n",
    "axis[1].set_xticks(ticks = range(1, len(temp_df0['passholder_type'].unique()) + 1), labels = temp_df0['passholder_type'].unique(), rotation=-45)\n",
    "plt.ylim([0, 55])\n",
    "plt.savefig('imagen_3.jpg')"
   ]
  },
  {
   "cell_type": "code",
   "execution_count": 46,
   "id": "9b74f445",
   "metadata": {
    "execution": {
     "iopub.execute_input": "2022-08-21T09:56:52.500143Z",
     "iopub.status.busy": "2022-08-21T09:56:52.499314Z",
     "iopub.status.idle": "2022-08-21T09:56:53.174464Z",
     "shell.execute_reply": "2022-08-21T09:56:53.173385Z"
    },
    "papermill": {
     "duration": 0.709369,
     "end_time": "2022-08-21T09:56:53.177437",
     "exception": false,
     "start_time": "2022-08-21T09:56:52.468068",
     "status": "completed"
    },
    "tags": []
   },
   "outputs": [
    {
     "data": {
      "image/png": "[encoded data removed]",
      "text/plain": [
       "<Figure size 432x288 with 1 Axes>"
      ]
     },
     "metadata": {},
     "output_type": "display_data"
    }
   ],
   "source": [
    "temp_df = train_df[['trip_route_category', 'passholder_type']].groupby(['passholder_type', 'trip_route_category']).size().to_frame()\n",
    "temp_df.reset_index(inplace=True)\n",
    "temp_df.rename(columns = { 0:'Count'}, inplace = True)\n",
    "temp_df.insert(loc = 3, column = 'Percentage_%', value = temp_df[['Count']]/temp_df['Count'].sum()*100)\n",
    "ax = sns.barplot(x=\"passholder_type\", y=\"Percentage_%\", hue=\"trip_route_category\", data=temp_df)\n",
    "plt.title('Viajes hasta \"end_station\" (TODAS)')\n",
    "plt.xticks(rotation=-45)\n",
    "plt.savefig('imagen_4.jpg')"
   ]
  },
  {
   "cell_type": "markdown",
   "id": "920f02e8",
   "metadata": {
    "papermill": {
     "duration": 0.030325,
     "end_time": "2022-08-21T09:56:53.239753",
     "exception": false,
     "start_time": "2022-08-21T09:56:53.209428",
     "status": "completed"
    },
    "tags": []
   },
   "source": [
    "### Data Wrangling (data time)"
   ]
  },
  {
   "cell_type": "code",
   "execution_count": 47,
   "id": "e9ff816f",
   "metadata": {
    "execution": {
     "iopub.execute_input": "2022-08-21T09:56:53.302760Z",
     "iopub.status.busy": "2022-08-21T09:56:53.302379Z",
     "iopub.status.idle": "2022-08-21T09:56:53.310717Z",
     "shell.execute_reply": "2022-08-21T09:56:53.309559Z"
    },
    "papermill": {
     "duration": 0.042751,
     "end_time": "2022-08-21T09:56:53.313250",
     "exception": false,
     "start_time": "2022-08-21T09:56:53.270499",
     "status": "completed"
    },
    "tags": []
   },
   "outputs": [
    {
     "data": {
      "text/plain": [
       "0         2018-08-07 11:20:00\n",
       "1             9/17/2017 17:51\n",
       "2         2019-04-22 09:22:00\n",
       "3             9/22/2019 11:27\n",
       "4             1/31/2020 17:11\n",
       "                 ...         \n",
       "699995    2018-04-25 18:32:00\n",
       "699996    2019-11-12 16:49:10\n",
       "699997    2018-01-13 15:49:00\n",
       "699998    2019-02-04 14:16:00\n",
       "699999         8/1/2021 20:26\n",
       "Name: start_time, Length: 700000, dtype: object"
      ]
     },
     "execution_count": 47,
     "metadata": {},
     "output_type": "execute_result"
    }
   ],
   "source": [
    "train_df['start_time']"
   ]
  },
  {
   "cell_type": "code",
   "execution_count": 48,
   "id": "f0115c98",
   "metadata": {
    "execution": {
     "iopub.execute_input": "2022-08-21T09:56:53.376820Z",
     "iopub.status.busy": "2022-08-21T09:56:53.375818Z",
     "iopub.status.idle": "2022-08-21T09:56:53.414795Z",
     "shell.execute_reply": "2022-08-21T09:56:53.413519Z"
    },
    "papermill": {
     "duration": 0.073407,
     "end_time": "2022-08-21T09:56:53.417264",
     "exception": false,
     "start_time": "2022-08-21T09:56:53.343857",
     "status": "completed"
    },
    "tags": []
   },
   "outputs": [
    {
     "data": {
      "text/plain": [
       "0"
      ]
     },
     "execution_count": 48,
     "metadata": {},
     "output_type": "execute_result"
    }
   ],
   "source": [
    "train_df['start_time'].isnull().sum()"
   ]
  },
  {
   "cell_type": "code",
   "execution_count": 49,
   "id": "c09da23c",
   "metadata": {
    "execution": {
     "iopub.execute_input": "2022-08-21T09:56:53.480748Z",
     "iopub.status.busy": "2022-08-21T09:56:53.480376Z",
     "iopub.status.idle": "2022-08-21T09:56:53.519138Z",
     "shell.execute_reply": "2022-08-21T09:56:53.518056Z"
    },
    "papermill": {
     "duration": 0.073173,
     "end_time": "2022-08-21T09:56:53.521405",
     "exception": false,
     "start_time": "2022-08-21T09:56:53.448232",
     "status": "completed"
    },
    "tags": []
   },
   "outputs": [
    {
     "data": {
      "text/plain": [
       "0"
      ]
     },
     "execution_count": 49,
     "metadata": {},
     "output_type": "execute_result"
    }
   ],
   "source": [
    "train_df['end_time'].isnull().sum()"
   ]
  },
  {
   "cell_type": "code",
   "execution_count": 50,
   "id": "16d6551a",
   "metadata": {
    "execution": {
     "iopub.execute_input": "2022-08-21T09:56:53.585160Z",
     "iopub.status.busy": "2022-08-21T09:56:53.584460Z",
     "iopub.status.idle": "2022-08-21T09:56:53.650598Z",
     "shell.execute_reply": "2022-08-21T09:56:53.649337Z"
    },
    "papermill": {
     "duration": 0.101434,
     "end_time": "2022-08-21T09:56:53.653741",
     "exception": false,
     "start_time": "2022-08-21T09:56:53.552307",
     "status": "completed"
    },
    "tags": []
   },
   "outputs": [
    {
     "name": "stdout",
     "output_type": "stream",
     "text": [
      "0\n",
      "0\n"
     ]
    }
   ],
   "source": [
    "#Para el test_df\n",
    "print(test_df['start_time'].isnull().sum())\n",
    "print(test_df['end_time'].isnull().sum())"
   ]
  },
  {
   "cell_type": "markdown",
   "id": "babbec71",
   "metadata": {
    "execution": {
     "iopub.execute_input": "2022-08-12T05:40:50.958317Z",
     "iopub.status.busy": "2022-08-12T05:40:50.957866Z",
     "iopub.status.idle": "2022-08-12T05:40:50.964145Z",
     "shell.execute_reply": "2022-08-12T05:40:50.962951Z",
     "shell.execute_reply.started": "2022-08-12T05:40:50.958282Z"
    },
    "papermill": {
     "duration": 0.037296,
     "end_time": "2022-08-21T09:56:53.730742",
     "exception": false,
     "start_time": "2022-08-21T09:56:53.693446",
     "status": "completed"
    },
    "tags": []
   },
   "source": [
    "Convertimos el tipo de datos string (object) a tipo datetime en ambos conjuntos de datos (train_set y test_set) para las columnas start_time and end_time"
   ]
  },
  {
   "cell_type": "code",
   "execution_count": 51,
   "id": "ee66e5f2",
   "metadata": {
    "execution": {
     "iopub.execute_input": "2022-08-21T09:56:53.797977Z",
     "iopub.status.busy": "2022-08-21T09:56:53.797184Z",
     "iopub.status.idle": "2022-08-21T09:58:51.310511Z",
     "shell.execute_reply": "2022-08-21T09:58:51.309619Z"
    },
    "papermill": {
     "duration": 117.549968,
     "end_time": "2022-08-21T09:58:51.313371",
     "exception": false,
     "start_time": "2022-08-21T09:56:53.763403",
     "status": "completed"
    },
    "tags": []
   },
   "outputs": [],
   "source": [
    "columns = ['start_time', 'end_time']\n",
    "for column in columns:\n",
    "    train_df[column] = pd.to_datetime(train_df[column])\n",
    "    test_df[column] = pd.to_datetime(test_df[column])"
   ]
  },
  {
   "cell_type": "code",
   "execution_count": 52,
   "id": "96756aaf",
   "metadata": {
    "execution": {
     "iopub.execute_input": "2022-08-21T09:58:51.378602Z",
     "iopub.status.busy": "2022-08-21T09:58:51.377888Z",
     "iopub.status.idle": "2022-08-21T09:58:51.387174Z",
     "shell.execute_reply": "2022-08-21T09:58:51.385960Z"
    },
    "papermill": {
     "duration": 0.04448,
     "end_time": "2022-08-21T09:58:51.389631",
     "exception": false,
     "start_time": "2022-08-21T09:58:51.345151",
     "status": "completed"
    },
    "tags": []
   },
   "outputs": [
    {
     "data": {
      "text/plain": [
       "0        2018-08-07 11:20:00\n",
       "1        2017-09-17 17:51:00\n",
       "2        2019-04-22 09:22:00\n",
       "3        2019-09-22 11:27:00\n",
       "4        2020-01-31 17:11:00\n",
       "                 ...        \n",
       "699995   2018-04-25 18:32:00\n",
       "699996   2019-11-12 16:49:10\n",
       "699997   2018-01-13 15:49:00\n",
       "699998   2019-02-04 14:16:00\n",
       "699999   2021-08-01 20:26:00\n",
       "Name: start_time, Length: 700000, dtype: datetime64[ns]"
      ]
     },
     "execution_count": 52,
     "metadata": {},
     "output_type": "execute_result"
    }
   ],
   "source": [
    "train_df['start_time']"
   ]
  },
  {
   "cell_type": "code",
   "execution_count": 53,
   "id": "e006e880",
   "metadata": {
    "execution": {
     "iopub.execute_input": "2022-08-21T09:58:51.455036Z",
     "iopub.status.busy": "2022-08-21T09:58:51.454656Z",
     "iopub.status.idle": "2022-08-21T10:00:46.786110Z",
     "shell.execute_reply": "2022-08-21T10:00:46.785087Z"
    },
    "papermill": {
     "duration": 115.367183,
     "end_time": "2022-08-21T10:00:46.788720",
     "exception": false,
     "start_time": "2022-08-21T09:58:51.421537",
     "status": "completed"
    },
    "tags": []
   },
   "outputs": [
    {
     "name": "stdout",
     "output_type": "stream",
     "text": [
      "Exit! Inserted hours_start column\n",
      "Exit! Inserted minutes_start column\n",
      "Exit! Inserted seconds_start column\n",
      "Exit! Inserted weekDay_start column\n",
      "Exit! Inserted month_start column\n",
      "Exit! Inserted year_start column\n",
      "Exit! Inserted date_start column\n",
      "Exit! Inserted hours_end column\n",
      "Exit! Inserted minutes_end column\n",
      "Exit! Inserted seconds_end column\n",
      "Exit! Inserted weekDay_end column\n",
      "Exit! Inserted month_end column\n",
      "Exit! Inserted year_end column\n",
      "Exit! Inserted date_end column\n"
     ]
    }
   ],
   "source": [
    "time_dict = {}\n",
    "time_list = [('hours_', 'hour'), ('minutes_', 'minute'), ('seconds_', 'second'), ('weekDay_', 'day_of_week'), ('month_', 'month'), ('year_', 'year'), ('date_', 'date()')]\n",
    "for item in ['start', 'end']:\n",
    "    for row in train_df[item + '_time']:\n",
    "        for item1, item2 in time_list:\n",
    "            if item1 + item in time_dict.keys():\n",
    "                eval(\"time_dict['\" + item1 + item + \"'].append(row.\" + item2 + \")\")\n",
    "            else:\n",
    "                time_dict[item1 + item] = []\n",
    "                eval(\"time_dict['\" + item1 + item + \"'].append(row.\" + item2 + \")\")\n",
    "for key, value in time_dict.items():\n",
    "    train_df.insert(loc = len(train_df.columns), column = key, value = value)\n",
    "    print('Exit! Inserted ' + key + ' column')"
   ]
  },
  {
   "cell_type": "code",
   "execution_count": 54,
   "id": "d4499266",
   "metadata": {
    "execution": {
     "iopub.execute_input": "2022-08-21T10:00:46.854727Z",
     "iopub.status.busy": "2022-08-21T10:00:46.853786Z",
     "iopub.status.idle": "2022-08-21T10:00:46.860381Z",
     "shell.execute_reply": "2022-08-21T10:00:46.859503Z"
    },
    "papermill": {
     "duration": 0.042339,
     "end_time": "2022-08-21T10:00:46.863061",
     "exception": false,
     "start_time": "2022-08-21T10:00:46.820722",
     "status": "completed"
    },
    "tags": []
   },
   "outputs": [
    {
     "data": {
      "text/plain": [
       "14"
      ]
     },
     "execution_count": 54,
     "metadata": {},
     "output_type": "execute_result"
    }
   ],
   "source": [
    "len(time_dict.keys())"
   ]
  },
  {
   "cell_type": "code",
   "execution_count": 55,
   "id": "123c1216",
   "metadata": {
    "execution": {
     "iopub.execute_input": "2022-08-21T10:00:46.929751Z",
     "iopub.status.busy": "2022-08-21T10:00:46.929137Z",
     "iopub.status.idle": "2022-08-21T10:00:46.936630Z",
     "shell.execute_reply": "2022-08-21T10:00:46.935763Z"
    },
    "papermill": {
     "duration": 0.043034,
     "end_time": "2022-08-21T10:00:46.938653",
     "exception": false,
     "start_time": "2022-08-21T10:00:46.895619",
     "status": "completed"
    },
    "tags": []
   },
   "outputs": [
    {
     "data": {
      "text/plain": [
       "0        2018-08-07 11:20:00\n",
       "1        2017-09-17 17:51:00\n",
       "2        2019-04-22 09:22:00\n",
       "3        2019-09-22 11:27:00\n",
       "4        2020-01-31 17:11:00\n",
       "                 ...        \n",
       "699995   2018-04-25 18:32:00\n",
       "699996   2019-11-12 16:49:10\n",
       "699997   2018-01-13 15:49:00\n",
       "699998   2019-02-04 14:16:00\n",
       "699999   2021-08-01 20:26:00\n",
       "Name: start_time, Length: 700000, dtype: datetime64[ns]"
      ]
     },
     "execution_count": 55,
     "metadata": {},
     "output_type": "execute_result"
    }
   ],
   "source": [
    "train_df['start_time']"
   ]
  },
  {
   "cell_type": "code",
   "execution_count": 56,
   "id": "1ede487b",
   "metadata": {
    "execution": {
     "iopub.execute_input": "2022-08-21T10:00:47.004996Z",
     "iopub.status.busy": "2022-08-21T10:00:47.003853Z",
     "iopub.status.idle": "2022-08-21T10:00:47.027596Z",
     "shell.execute_reply": "2022-08-21T10:00:47.026694Z"
    },
    "papermill": {
     "duration": 0.058923,
     "end_time": "2022-08-21T10:00:47.029618",
     "exception": false,
     "start_time": "2022-08-21T10:00:46.970695",
     "status": "completed"
    },
    "tags": []
   },
   "outputs": [
    {
     "data": {
      "text/html": [
       "<div>\n",
       "<style scoped>\n",
       "    .dataframe tbody tr th:only-of-type {\n",
       "        vertical-align: middle;\n",
       "    }\n",
       "\n",
       "    .dataframe tbody tr th {\n",
       "        vertical-align: top;\n",
       "    }\n",
       "\n",
       "    .dataframe thead th {\n",
       "        text-align: right;\n",
       "    }\n",
       "</style>\n",
       "<table border=\"1\" class=\"dataframe\">\n",
       "  <thead>\n",
       "    <tr style=\"text-align: right;\">\n",
       "      <th></th>\n",
       "      <th>trip_id</th>\n",
       "      <th>duration</th>\n",
       "      <th>start_time</th>\n",
       "      <th>end_time</th>\n",
       "      <th>start_lat</th>\n",
       "      <th>start_lon</th>\n",
       "      <th>end_lat</th>\n",
       "      <th>end_lon</th>\n",
       "      <th>bike_id</th>\n",
       "      <th>plan_duration</th>\n",
       "      <th>...</th>\n",
       "      <th>month_start</th>\n",
       "      <th>year_start</th>\n",
       "      <th>date_start</th>\n",
       "      <th>hours_end</th>\n",
       "      <th>minutes_end</th>\n",
       "      <th>seconds_end</th>\n",
       "      <th>weekDay_end</th>\n",
       "      <th>month_end</th>\n",
       "      <th>year_end</th>\n",
       "      <th>date_end</th>\n",
       "    </tr>\n",
       "  </thead>\n",
       "  <tbody>\n",
       "    <tr>\n",
       "      <th>0</th>\n",
       "      <td>101750280</td>\n",
       "      <td>35</td>\n",
       "      <td>2018-08-07 11:20:00</td>\n",
       "      <td>2018-08-07 11:55:00</td>\n",
       "      <td>33.748920</td>\n",
       "      <td>-118.275192</td>\n",
       "      <td>33.748920</td>\n",
       "      <td>-118.275192</td>\n",
       "      <td>06530</td>\n",
       "      <td>1.0</td>\n",
       "      <td>...</td>\n",
       "      <td>8</td>\n",
       "      <td>2018</td>\n",
       "      <td>2018-08-07</td>\n",
       "      <td>11</td>\n",
       "      <td>55</td>\n",
       "      <td>0</td>\n",
       "      <td>1</td>\n",
       "      <td>8</td>\n",
       "      <td>2018</td>\n",
       "      <td>2018-08-07</td>\n",
       "    </tr>\n",
       "    <tr>\n",
       "      <th>1</th>\n",
       "      <td>46560345</td>\n",
       "      <td>32</td>\n",
       "      <td>2017-09-17 17:51:00</td>\n",
       "      <td>2017-09-17 18:23:00</td>\n",
       "      <td>34.035679</td>\n",
       "      <td>-118.270813</td>\n",
       "      <td>34.047749</td>\n",
       "      <td>-118.243172</td>\n",
       "      <td>6683</td>\n",
       "      <td>0.0</td>\n",
       "      <td>...</td>\n",
       "      <td>9</td>\n",
       "      <td>2017</td>\n",
       "      <td>2017-09-17</td>\n",
       "      <td>18</td>\n",
       "      <td>23</td>\n",
       "      <td>0</td>\n",
       "      <td>6</td>\n",
       "      <td>9</td>\n",
       "      <td>2017</td>\n",
       "      <td>2017-09-17</td>\n",
       "    </tr>\n",
       "    <tr>\n",
       "      <th>2</th>\n",
       "      <td>120016336</td>\n",
       "      <td>6</td>\n",
       "      <td>2019-04-22 09:22:00</td>\n",
       "      <td>2019-04-22 09:28:00</td>\n",
       "      <td>34.046070</td>\n",
       "      <td>-118.233093</td>\n",
       "      <td>34.047749</td>\n",
       "      <td>-118.243172</td>\n",
       "      <td>06710</td>\n",
       "      <td>30.0</td>\n",
       "      <td>...</td>\n",
       "      <td>4</td>\n",
       "      <td>2019</td>\n",
       "      <td>2019-04-22</td>\n",
       "      <td>9</td>\n",
       "      <td>28</td>\n",
       "      <td>0</td>\n",
       "      <td>0</td>\n",
       "      <td>4</td>\n",
       "      <td>2019</td>\n",
       "      <td>2019-04-22</td>\n",
       "    </tr>\n",
       "    <tr>\n",
       "      <th>3</th>\n",
       "      <td>129547190</td>\n",
       "      <td>138</td>\n",
       "      <td>2019-09-22 11:27:00</td>\n",
       "      <td>2019-09-22 13:45:00</td>\n",
       "      <td>34.062580</td>\n",
       "      <td>-118.290092</td>\n",
       "      <td>34.059689</td>\n",
       "      <td>-118.294662</td>\n",
       "      <td>17068</td>\n",
       "      <td>1.0</td>\n",
       "      <td>...</td>\n",
       "      <td>9</td>\n",
       "      <td>2019</td>\n",
       "      <td>2019-09-22</td>\n",
       "      <td>13</td>\n",
       "      <td>45</td>\n",
       "      <td>0</td>\n",
       "      <td>6</td>\n",
       "      <td>9</td>\n",
       "      <td>2019</td>\n",
       "      <td>2019-09-22</td>\n",
       "    </tr>\n",
       "    <tr>\n",
       "      <th>4</th>\n",
       "      <td>136619463</td>\n",
       "      <td>14</td>\n",
       "      <td>2020-01-31 17:11:00</td>\n",
       "      <td>2020-01-31 17:25:00</td>\n",
       "      <td>34.026291</td>\n",
       "      <td>-118.277687</td>\n",
       "      <td>34.021660</td>\n",
       "      <td>-118.278687</td>\n",
       "      <td>18841</td>\n",
       "      <td>30.0</td>\n",
       "      <td>...</td>\n",
       "      <td>1</td>\n",
       "      <td>2020</td>\n",
       "      <td>2020-01-31</td>\n",
       "      <td>17</td>\n",
       "      <td>25</td>\n",
       "      <td>0</td>\n",
       "      <td>4</td>\n",
       "      <td>1</td>\n",
       "      <td>2020</td>\n",
       "      <td>2020-01-31</td>\n",
       "    </tr>\n",
       "  </tbody>\n",
       "</table>\n",
       "<p>5 rows × 28 columns</p>\n",
       "</div>"
      ],
      "text/plain": [
       "     trip_id  duration          start_time            end_time  start_lat  \\\n",
       "0  101750280        35 2018-08-07 11:20:00 2018-08-07 11:55:00  33.748920   \n",
       "1   46560345        32 2017-09-17 17:51:00 2017-09-17 18:23:00  34.035679   \n",
       "2  120016336         6 2019-04-22 09:22:00 2019-04-22 09:28:00  34.046070   \n",
       "3  129547190       138 2019-09-22 11:27:00 2019-09-22 13:45:00  34.062580   \n",
       "4  136619463        14 2020-01-31 17:11:00 2020-01-31 17:25:00  34.026291   \n",
       "\n",
       "    start_lon    end_lat     end_lon bike_id  plan_duration  ... month_start  \\\n",
       "0 -118.275192  33.748920 -118.275192   06530            1.0  ...           8   \n",
       "1 -118.270813  34.047749 -118.243172    6683            0.0  ...           9   \n",
       "2 -118.233093  34.047749 -118.243172   06710           30.0  ...           4   \n",
       "3 -118.290092  34.059689 -118.294662   17068            1.0  ...           9   \n",
       "4 -118.277687  34.021660 -118.278687   18841           30.0  ...           1   \n",
       "\n",
       "  year_start  date_start  hours_end  minutes_end  seconds_end  weekDay_end  \\\n",
       "0       2018  2018-08-07         11           55            0            1   \n",
       "1       2017  2017-09-17         18           23            0            6   \n",
       "2       2019  2019-04-22          9           28            0            0   \n",
       "3       2019  2019-09-22         13           45            0            6   \n",
       "4       2020  2020-01-31         17           25            0            4   \n",
       "\n",
       "   month_end  year_end    date_end  \n",
       "0          8      2018  2018-08-07  \n",
       "1          9      2017  2017-09-17  \n",
       "2          4      2019  2019-04-22  \n",
       "3          9      2019  2019-09-22  \n",
       "4          1      2020  2020-01-31  \n",
       "\n",
       "[5 rows x 28 columns]"
      ]
     },
     "execution_count": 56,
     "metadata": {},
     "output_type": "execute_result"
    }
   ],
   "source": [
    "train_df.head()"
   ]
  },
  {
   "cell_type": "markdown",
   "id": "7db9a558",
   "metadata": {
    "papermill": {
     "duration": 0.031945,
     "end_time": "2022-08-21T10:00:47.093843",
     "exception": false,
     "start_time": "2022-08-21T10:00:47.061898",
     "status": "completed"
    },
    "tags": []
   },
   "source": [
    "## Viajes por hora del día"
   ]
  },
  {
   "cell_type": "code",
   "execution_count": 57,
   "id": "46def7b0",
   "metadata": {
    "execution": {
     "iopub.execute_input": "2022-08-21T10:00:47.160452Z",
     "iopub.status.busy": "2022-08-21T10:00:47.160055Z",
     "iopub.status.idle": "2022-08-21T10:00:49.035682Z",
     "shell.execute_reply": "2022-08-21T10:00:49.034576Z"
    },
    "papermill": {
     "duration": 1.91216,
     "end_time": "2022-08-21T10:00:49.038269",
     "exception": false,
     "start_time": "2022-08-21T10:00:47.126109",
     "status": "completed"
    },
    "tags": []
   },
   "outputs": [
    {
     "data": {
      "text/plain": [
       "[<matplotlib.axis.XTick at 0x7f7a2c9d5210>,\n",
       " <matplotlib.axis.XTick at 0x7f7a2c9d5bd0>,\n",
       " <matplotlib.axis.XTick at 0x7f7a2c80e110>,\n",
       " <matplotlib.axis.XTick at 0x7f7a2c83bc10>,\n",
       " <matplotlib.axis.XTick at 0x7f7a2c7fb410>,\n",
       " <matplotlib.axis.XTick at 0x7f7a2c809c50>,\n",
       " <matplotlib.axis.XTick at 0x7f7a2c7fb190>,\n",
       " <matplotlib.axis.XTick at 0x7f7a2c809c10>,\n",
       " <matplotlib.axis.XTick at 0x7f7a2c909e90>,\n",
       " <matplotlib.axis.XTick at 0x7f7a2c909750>,\n",
       " <matplotlib.axis.XTick at 0x7f7a2c88f3d0>,\n",
       " <matplotlib.axis.XTick at 0x7f7a2c88f350>,\n",
       " <matplotlib.axis.XTick at 0x7f7a2c88fb50>,\n",
       " <matplotlib.axis.XTick at 0x7f7a2c88fdd0>,\n",
       " <matplotlib.axis.XTick at 0x7f7a2c88f890>,\n",
       " <matplotlib.axis.XTick at 0x7f7a2c85b710>,\n",
       " <matplotlib.axis.XTick at 0x7f7a2c85b290>,\n",
       " <matplotlib.axis.XTick at 0x7f7a2c8547d0>,\n",
       " <matplotlib.axis.XTick at 0x7f7a2c8543d0>,\n",
       " <matplotlib.axis.XTick at 0x7f7a2c7f27d0>,\n",
       " <matplotlib.axis.XTick at 0x7f7a2c85b550>,\n",
       " <matplotlib.axis.XTick at 0x7f7a2c85bb90>,\n",
       " <matplotlib.axis.XTick at 0x7f7a2c88fe90>,\n",
       " <matplotlib.axis.XTick at 0x7f7a2c84a410>]"
      ]
     },
     "execution_count": 57,
     "metadata": {},
     "output_type": "execute_result"
    },
    {
     "data": {
      "image/png": "[encoded data removed]",
      "text/plain": [
       "<Figure size 432x288 with 2 Axes>"
      ]
     },
     "metadata": {},
     "output_type": "display_data"
    }
   ],
   "source": [
    "temp_df = {'_start':'', '_end':''}\n",
    "for item in temp_df.keys():\n",
    "    temp_df[item] = train_df[['trip_route_category', 'hours' + item]].groupby(['hours' + item, 'trip_route_category']).size().to_frame()\n",
    "    temp_df[item].reset_index(inplace=True)\n",
    "    temp_df[item].rename(columns = { 0:'Count'}, inplace = True)\n",
    "    temp_df[item].insert(loc = 3, column = 'Percentage_%', value = temp_df[item][['Count']]/temp_df[item]['Count'].sum()*100)\n",
    "\n",
    "hour_list = train_df['hours_start'].unique().tolist()\n",
    "hour_list.sort()\n",
    "figure, axis = plt.subplots(1, 2)\n",
    "figure.suptitle('Viajes [%] por hora del día')\n",
    "sns.barplot(ax = axis[0], x=\"hours_start\", y=\"Percentage_%\", hue = 'trip_route_category', data=temp_df['_start'])\n",
    "axis[0].set_title(\"Viajes (start)\")\n",
    "axis[0].set_xticks(ticks = range(0, len(temp_df['_start']['hours_start'].unique())), labels = hour_list)#, rotation=-75)\n",
    "#axis[0].set_ylim(0, 16)\n",
    "sns.barplot(ax = axis[1], x=\"hours_end\", y=\"Percentage_%\", hue = 'trip_route_category', data=temp_df['_end'])\n",
    "axis[1].set_title(\"Viajes (end)\")\n",
    "axis[1].set_xticks(ticks = range(0, len(temp_df['_end']['hours_end'].unique())), labels = hour_list)#, rotation=-75)\n",
    "#axis[1].set_ylim(0, 16)\n",
    "#plt.ylim([0, 16])"
   ]
  },
  {
   "cell_type": "code",
   "execution_count": 58,
   "id": "0c7779f3",
   "metadata": {
    "execution": {
     "iopub.execute_input": "2022-08-21T10:00:49.108004Z",
     "iopub.status.busy": "2022-08-21T10:00:49.106817Z",
     "iopub.status.idle": "2022-08-21T10:00:49.660849Z",
     "shell.execute_reply": "2022-08-21T10:00:49.659748Z"
    },
    "papermill": {
     "duration": 0.590692,
     "end_time": "2022-08-21T10:00:49.663112",
     "exception": false,
     "start_time": "2022-08-21T10:00:49.072420",
     "status": "completed"
    },
    "tags": []
   },
   "outputs": [
    {
     "data": {
      "text/plain": [
       "[<matplotlib.axis.XTick at 0x7f7a2c9593d0>,\n",
       " <matplotlib.axis.XTick at 0x7f7a2c959290>,\n",
       " <matplotlib.axis.XTick at 0x7f7a2c809290>,\n",
       " <matplotlib.axis.XTick at 0x7f7a2b775650>,\n",
       " <matplotlib.axis.XTick at 0x7f7a2b775750>,\n",
       " <matplotlib.axis.XTick at 0x7f7a2b7801d0>,\n",
       " <matplotlib.axis.XTick at 0x7f7a2b780510>,\n",
       " <matplotlib.axis.XTick at 0x7f7a2b780350>,\n",
       " <matplotlib.axis.XTick at 0x7f7a2b788110>,\n",
       " <matplotlib.axis.XTick at 0x7f7a2b7886d0>,\n",
       " <matplotlib.axis.XTick at 0x7f7a2b7889d0>,\n",
       " <matplotlib.axis.XTick at 0x7f7a2b792190>,\n",
       " <matplotlib.axis.XTick at 0x7f7a2b788bd0>,\n",
       " <matplotlib.axis.XTick at 0x7f7a2b788cd0>,\n",
       " <matplotlib.axis.XTick at 0x7f7a2b7923d0>,\n",
       " <matplotlib.axis.XTick at 0x7f7a2b79d4d0>,\n",
       " <matplotlib.axis.XTick at 0x7f7a2b79d410>,\n",
       " <matplotlib.axis.XTick at 0x7f7a2b726310>,\n",
       " <matplotlib.axis.XTick at 0x7f7a2b726250>,\n",
       " <matplotlib.axis.XTick at 0x7f7a2b726b10>,\n",
       " <matplotlib.axis.XTick at 0x7f7a2b79df10>,\n",
       " <matplotlib.axis.XTick at 0x7f7a2b79d490>,\n",
       " <matplotlib.axis.XTick at 0x7f7a2b72f650>,\n",
       " <matplotlib.axis.XTick at 0x7f7a2b72f590>]"
      ]
     },
     "execution_count": 58,
     "metadata": {},
     "output_type": "execute_result"
    },
    {
     "data": {
      "image/png": "[encoded data removed]",
      "text/plain": [
       "<Figure size 432x288 with 1 Axes>"
      ]
     },
     "metadata": {},
     "output_type": "display_data"
    }
   ],
   "source": [
    "figure, axis = plt.subplots()\n",
    "figure.suptitle('Viajes (start) [%] por hora del día')\n",
    "sns.barplot(ax = axis, x=\"hours_start\", y=\"Percentage_%\", hue = 'trip_route_category', data=temp_df['_start'])\n",
    "axis.set_title(\"Viajes (start)\")\n",
    "axis.set_xticks(ticks = range(0, len(temp_df['_start']['hours_start'].unique())), labels = hour_list)#, rotation=-75)"
   ]
  },
  {
   "cell_type": "markdown",
   "id": "b8e29cdb",
   "metadata": {
    "papermill": {
     "duration": 0.035577,
     "end_time": "2022-08-21T10:00:49.735953",
     "exception": false,
     "start_time": "2022-08-21T10:00:49.700376",
     "status": "completed"
    },
    "tags": []
   },
   "source": [
    "## Viajes por días de la semana"
   ]
  },
  {
   "cell_type": "code",
   "execution_count": 59,
   "id": "a979dc6c",
   "metadata": {
    "execution": {
     "iopub.execute_input": "2022-08-21T10:00:49.808459Z",
     "iopub.status.busy": "2022-08-21T10:00:49.808031Z",
     "iopub.status.idle": "2022-08-21T10:00:49.819884Z",
     "shell.execute_reply": "2022-08-21T10:00:49.818740Z"
    },
    "papermill": {
     "duration": 0.051098,
     "end_time": "2022-08-21T10:00:49.822086",
     "exception": false,
     "start_time": "2022-08-21T10:00:49.770988",
     "status": "completed"
    },
    "tags": []
   },
   "outputs": [
    {
     "data": {
      "text/plain": [
       "array([1, 6, 0, 4, 5, 3, 2])"
      ]
     },
     "execution_count": 59,
     "metadata": {},
     "output_type": "execute_result"
    }
   ],
   "source": [
    "train_df['weekDay_start'].unique()"
   ]
  },
  {
   "cell_type": "code",
   "execution_count": 60,
   "id": "9cb8e9c1",
   "metadata": {
    "execution": {
     "iopub.execute_input": "2022-08-21T10:00:49.895046Z",
     "iopub.status.busy": "2022-08-21T10:00:49.894385Z",
     "iopub.status.idle": "2022-08-21T10:00:50.684646Z",
     "shell.execute_reply": "2022-08-21T10:00:50.683278Z"
    },
    "papermill": {
     "duration": 0.830842,
     "end_time": "2022-08-21T10:00:50.687413",
     "exception": false,
     "start_time": "2022-08-21T10:00:49.856571",
     "status": "completed"
    },
    "tags": []
   },
   "outputs": [
    {
     "data": {
      "text/plain": [
       "(0.0, 16.0)"
      ]
     },
     "execution_count": 60,
     "metadata": {},
     "output_type": "execute_result"
    },
    {
     "data": {
      "image/png": "[encoded data removed]",
      "text/plain": [
       "<Figure size 432x288 with 2 Axes>"
      ]
     },
     "metadata": {},
     "output_type": "display_data"
    }
   ],
   "source": [
    "temp_df = {'_start':'', '_end':''}\n",
    "for item in temp_df.keys():\n",
    "    temp_df[item] = train_df[['trip_route_category', 'weekDay' + item]].groupby(['weekDay' + item, 'trip_route_category']).size().to_frame()\n",
    "    temp_df[item].reset_index(inplace=True)\n",
    "    temp_df[item].rename(columns = { 0:'Count'}, inplace = True)\n",
    "    temp_df[item].insert(loc = 3, column = 'Percentage_%', value = temp_df[item][['Count']]/temp_df[item]['Count'].sum()*100)\n",
    "\n",
    "week_list = ['Lunes', 'Martes', 'Miércoles', 'Jueves', 'Viernes', 'Sábado', 'Domingo']\n",
    "figure, axis = plt.subplots(1, 2)\n",
    "figure.suptitle('Viajes [%] por día de la semana')\n",
    "sns.barplot(ax = axis[0], x=\"weekDay_start\", y=\"Percentage_%\", hue = 'trip_route_category', data=temp_df['_start'])\n",
    "axis[0].set_title(\"Viajes (start)\")\n",
    "axis[0].set_xticks(ticks = range(0, len(temp_df['_start']['weekDay_start'].unique())), labels = week_list, rotation=-75)\n",
    "axis[0].set_ylim(0, 16)\n",
    "sns.barplot(ax = axis[1], x=\"weekDay_end\", y=\"Percentage_%\", hue = 'trip_route_category', data=temp_df['_end'])\n",
    "axis[1].set_title(\"Viajes (end)\")\n",
    "axis[1].set_xticks(ticks = range(0, len(temp_df['_end']['weekDay_end'].unique())), labels = week_list, rotation=-75)\n",
    "axis[1].set_ylim(0, 16)\n",
    "#plt.ylim([0, 16])"
   ]
  },
  {
   "cell_type": "markdown",
   "id": "356a72b5",
   "metadata": {
    "papermill": {
     "duration": 0.036134,
     "end_time": "2022-08-21T10:00:50.759890",
     "exception": false,
     "start_time": "2022-08-21T10:00:50.723756",
     "status": "completed"
    },
    "tags": []
   },
   "source": [
    "## Viajes por mes"
   ]
  },
  {
   "cell_type": "code",
   "execution_count": 61,
   "id": "c1fd83e0",
   "metadata": {
    "execution": {
     "iopub.execute_input": "2022-08-21T10:00:50.836319Z",
     "iopub.status.busy": "2022-08-21T10:00:50.835339Z",
     "iopub.status.idle": "2022-08-21T10:00:50.846781Z",
     "shell.execute_reply": "2022-08-21T10:00:50.845605Z"
    },
    "papermill": {
     "duration": 0.052108,
     "end_time": "2022-08-21T10:00:50.849045",
     "exception": false,
     "start_time": "2022-08-21T10:00:50.796937",
     "status": "completed"
    },
    "tags": []
   },
   "outputs": [
    {
     "data": {
      "text/plain": [
       "array([ 8,  9,  4,  1, 12, 10, 11,  2,  5,  3,  7,  6])"
      ]
     },
     "execution_count": 61,
     "metadata": {},
     "output_type": "execute_result"
    }
   ],
   "source": [
    "train_df['month_start'].unique()"
   ]
  },
  {
   "cell_type": "code",
   "execution_count": 62,
   "id": "30b6bf7c",
   "metadata": {
    "execution": {
     "iopub.execute_input": "2022-08-21T10:00:50.992391Z",
     "iopub.status.busy": "2022-08-21T10:00:50.992008Z",
     "iopub.status.idle": "2022-08-21T10:00:51.885501Z",
     "shell.execute_reply": "2022-08-21T10:00:51.884284Z"
    },
    "papermill": {
     "duration": 0.934188,
     "end_time": "2022-08-21T10:00:51.888030",
     "exception": false,
     "start_time": "2022-08-21T10:00:50.953842",
     "status": "completed"
    },
    "tags": []
   },
   "outputs": [
    {
     "data": {
      "text/plain": [
       "(0.0, 12.0)"
      ]
     },
     "execution_count": 62,
     "metadata": {},
     "output_type": "execute_result"
    },
    {
     "data": {
      "image/png": "[encoded data removed]",
      "text/plain": [
       "<Figure size 432x288 with 2 Axes>"
      ]
     },
     "metadata": {},
     "output_type": "display_data"
    }
   ],
   "source": [
    "temp_df = {'_start':'', '_end':''}\n",
    "for item in temp_df.keys():\n",
    "    temp_df[item] = train_df[['trip_route_category', 'month' + item]].groupby(['month' + item, 'trip_route_category']).size().to_frame()\n",
    "    temp_df[item].reset_index(inplace=True)\n",
    "    temp_df[item].rename(columns = { 0:'Count'}, inplace = True)\n",
    "    temp_df[item].insert(loc = 3, column = 'Percentage_%', value = temp_df[item][['Count']]/temp_df[item]['Count'].sum()*100)\n",
    "\n",
    "month_list = ['Enero', 'Febrero', 'Marzo', 'Abril', 'Mayo', 'Junio', 'Julio', 'Agosto', 'Septiembre' , 'Octubre', 'Noviembre', 'Diciembre']\n",
    "figure, axis = plt.subplots(1, 2)\n",
    "figure.suptitle('Viajes [%] por mes')\n",
    "sns.barplot(ax = axis[0], x=\"month_start\", y=\"Percentage_%\", hue = 'trip_route_category', data=temp_df['_start'])\n",
    "axis[0].set_title(\"Viajes (start)\")\n",
    "axis[0].set_xticks(ticks = range(0, len(temp_df['_start']['month_start'].unique())), labels = month_list, rotation=80)\n",
    "axis[0].set_ylim(0, 12)\n",
    "sns.barplot(ax = axis[1], x=\"month_end\", y=\"Percentage_%\", hue = 'trip_route_category', data=temp_df['_end'])\n",
    "axis[1].set_title(\"Viajes (end)\")\n",
    "axis[1].set_xticks(ticks = range(0, len(temp_df['_end']['month_end'].unique())), labels = month_list, rotation=80)\n",
    "axis[1].set_ylim(0, 12)\n",
    "#plt.ylim([month"
   ]
  },
  {
   "cell_type": "markdown",
   "id": "62281855",
   "metadata": {
    "papermill": {
     "duration": 0.036587,
     "end_time": "2022-08-21T10:00:51.963268",
     "exception": false,
     "start_time": "2022-08-21T10:00:51.926681",
     "status": "completed"
    },
    "tags": []
   },
   "source": [
    "## Viajes por año"
   ]
  },
  {
   "cell_type": "code",
   "execution_count": 63,
   "id": "c598ce7c",
   "metadata": {
    "execution": {
     "iopub.execute_input": "2022-08-21T10:00:52.036499Z",
     "iopub.status.busy": "2022-08-21T10:00:52.036064Z",
     "iopub.status.idle": "2022-08-21T10:00:52.048570Z",
     "shell.execute_reply": "2022-08-21T10:00:52.047489Z"
    },
    "papermill": {
     "duration": 0.052258,
     "end_time": "2022-08-21T10:00:52.051556",
     "exception": false,
     "start_time": "2022-08-21T10:00:51.999298",
     "status": "completed"
    },
    "tags": []
   },
   "outputs": [
    {
     "data": {
      "text/plain": [
       "array([2018, 2017, 2019, 2020, 2021, 2016])"
      ]
     },
     "execution_count": 63,
     "metadata": {},
     "output_type": "execute_result"
    }
   ],
   "source": [
    "train_df['year_start'].unique()"
   ]
  },
  {
   "cell_type": "code",
   "execution_count": 64,
   "id": "47b3ee63",
   "metadata": {
    "execution": {
     "iopub.execute_input": "2022-08-21T10:00:52.128055Z",
     "iopub.status.busy": "2022-08-21T10:00:52.127273Z",
     "iopub.status.idle": "2022-08-21T10:00:52.139089Z",
     "shell.execute_reply": "2022-08-21T10:00:52.137964Z"
    },
    "papermill": {
     "duration": 0.05113,
     "end_time": "2022-08-21T10:00:52.141684",
     "exception": false,
     "start_time": "2022-08-21T10:00:52.090554",
     "status": "completed"
    },
    "tags": []
   },
   "outputs": [
    {
     "data": {
      "text/plain": [
       "array([2018, 2017, 2019, 2020, 2021, 2016, 2022])"
      ]
     },
     "execution_count": 64,
     "metadata": {},
     "output_type": "execute_result"
    }
   ],
   "source": [
    "train_df['year_end'].unique()"
   ]
  },
  {
   "cell_type": "markdown",
   "id": "ec30a660",
   "metadata": {
    "papermill": {
     "duration": 0.039692,
     "end_time": "2022-08-21T10:00:52.221760",
     "exception": false,
     "start_time": "2022-08-21T10:00:52.182068",
     "status": "completed"
    },
    "tags": []
   },
   "source": [
    "VIAJE EN ANHO NUEVO!"
   ]
  },
  {
   "cell_type": "code",
   "execution_count": 65,
   "id": "f01ec8a5",
   "metadata": {
    "execution": {
     "iopub.execute_input": "2022-08-21T10:00:52.300848Z",
     "iopub.status.busy": "2022-08-21T10:00:52.300110Z",
     "iopub.status.idle": "2022-08-21T10:00:52.998381Z",
     "shell.execute_reply": "2022-08-21T10:00:52.997293Z"
    },
    "papermill": {
     "duration": 0.740992,
     "end_time": "2022-08-21T10:00:53.001156",
     "exception": false,
     "start_time": "2022-08-21T10:00:52.260164",
     "status": "completed"
    },
    "tags": []
   },
   "outputs": [
    {
     "data": {
      "text/plain": [
       "(0.0, 30.0)"
      ]
     },
     "execution_count": 65,
     "metadata": {},
     "output_type": "execute_result"
    },
    {
     "data": {
      "image/png": "[encoded data removed]",
      "text/plain": [
       "<Figure size 432x288 with 2 Axes>"
      ]
     },
     "metadata": {},
     "output_type": "display_data"
    }
   ],
   "source": [
    "temp_df = {'_start':'', '_end':''}\n",
    "for item in temp_df.keys():\n",
    "    temp_df[item] = train_df[['trip_route_category', 'year' + item]].groupby(['year' + item, 'trip_route_category']).size().to_frame()\n",
    "    temp_df[item].reset_index(inplace=True)\n",
    "    temp_df[item].rename(columns = { 0:'Count'}, inplace = True)\n",
    "    temp_df[item].insert(loc = 3, column = 'Percentage_%', value = temp_df[item][['Count']]/temp_df[item]['Count'].sum()*100)\n",
    "\n",
    "year_list = ['2016', '2017', '2018', '2019', '2020', '2021']\n",
    "year_list2 = ['2016', '2017', '2018', '2019', '2020', '2021', '2022']\n",
    "figure, axis = plt.subplots(1, 2)\n",
    "figure.suptitle('Viajes [%] por mes')\n",
    "sns.barplot(ax = axis[0], x=\"year_start\", y=\"Percentage_%\", hue = 'trip_route_category', data=temp_df['_start'])\n",
    "axis[0].set_title(\"Viajes (start)\")\n",
    "axis[0].set_xticks(ticks = range(0, len(temp_df['_start']['year_start'].unique())), labels = year_list, rotation=-80)\n",
    "axis[0].set_ylim(0, 30)\n",
    "sns.barplot(ax = axis[1], x=\"year_end\", y=\"Percentage_%\", hue = 'trip_route_category', data=temp_df['_end'])\n",
    "axis[1].set_title(\"Viajes (end)\")\n",
    "axis[1].set_xticks(ticks = range(0, len(temp_df['_end']['year_end'].unique())), labels = year_list2, rotation=-80)\n",
    "axis[1].set_ylim(0, 30)\n",
    "#plt.ylim([month"
   ]
  },
  {
   "cell_type": "markdown",
   "id": "7beb87d6",
   "metadata": {
    "papermill": {
     "duration": 0.037995,
     "end_time": "2022-08-21T10:00:53.078417",
     "exception": false,
     "start_time": "2022-08-21T10:00:53.040422",
     "status": "completed"
    },
    "tags": []
   },
   "source": [
    "## Viajes en función de la fecha"
   ]
  },
  {
   "cell_type": "markdown",
   "id": "bf719c1b",
   "metadata": {
    "papermill": {
     "duration": 0.037275,
     "end_time": "2022-08-21T10:00:53.152858",
     "exception": false,
     "start_time": "2022-08-21T10:00:53.115583",
     "status": "completed"
    },
    "tags": []
   },
   "source": [
    "### Por categoría de viaje 'trip_route_category'"
   ]
  },
  {
   "cell_type": "code",
   "execution_count": 66,
   "id": "a433fb9e",
   "metadata": {
    "execution": {
     "iopub.execute_input": "2022-08-21T10:00:53.226710Z",
     "iopub.status.busy": "2022-08-21T10:00:53.225969Z",
     "iopub.status.idle": "2022-08-21T10:00:53.606864Z",
     "shell.execute_reply": "2022-08-21T10:00:53.605683Z"
    },
    "papermill": {
     "duration": 0.421025,
     "end_time": "2022-08-21T10:00:53.609617",
     "exception": false,
     "start_time": "2022-08-21T10:00:53.188592",
     "status": "completed"
    },
    "tags": []
   },
   "outputs": [],
   "source": [
    "temp_df = {'_start':'', '_end':''}\n",
    "for item in temp_df.keys():\n",
    "    temp_df[item] = train_df[['trip_route_category', 'date' + item]].groupby(['date' + item, 'trip_route_category']).size().to_frame()\n",
    "    temp_df[item].reset_index(inplace=True)\n",
    "    temp_df[item].rename(columns = { 0:'Count'}, inplace = True)\n",
    "    temp_df[item].insert(loc = 3, column = 'Percentage_%', value = temp_df[item][['Count']]/temp_df[item]['Count'].sum()*100)\n",
    "    #Promedio movil 7 días\n",
    "    #temp_df[item].insert(loc = len(temp_df[item].columns), column = '7day_rolling_avg', value = temp_df[item][['Count']].rolling( 7).mean())\n"
   ]
  },
  {
   "cell_type": "code",
   "execution_count": 67,
   "id": "ce57d8a1",
   "metadata": {
    "execution": {
     "iopub.execute_input": "2022-08-21T10:00:53.683598Z",
     "iopub.status.busy": "2022-08-21T10:00:53.683158Z",
     "iopub.status.idle": "2022-08-21T10:00:54.155652Z",
     "shell.execute_reply": "2022-08-21T10:00:54.154397Z"
    },
    "papermill": {
     "duration": 0.513208,
     "end_time": "2022-08-21T10:00:54.158663",
     "exception": false,
     "start_time": "2022-08-21T10:00:53.645455",
     "status": "completed"
    },
    "tags": []
   },
   "outputs": [
    {
     "data": {
      "text/plain": [
       "(0.0, 1000.0)"
      ]
     },
     "execution_count": 67,
     "metadata": {},
     "output_type": "execute_result"
    },
    {
     "data": {
      "image/png": "[encoded data removed]",
      "text/plain": [
       "<Figure size 432x288 with 1 Axes>"
      ]
     },
     "metadata": {},
     "output_type": "display_data"
    }
   ],
   "source": [
    "#sns.set_style(\"whitegrid\")\n",
    "sns.lineplot(x=\"date_start\", y=\"Count\", hue = 'trip_route_category', data=temp_df['_start'])\n",
    "plt.title(\"Viajes por fecha (start)\")\n",
    "plt.ylim([0, 1000])"
   ]
  },
  {
   "cell_type": "markdown",
   "id": "5aca9539",
   "metadata": {
    "execution": {
     "iopub.execute_input": "2022-08-18T08:12:13.282040Z",
     "iopub.status.busy": "2022-08-18T08:12:13.281526Z",
     "iopub.status.idle": "2022-08-18T08:12:13.287922Z",
     "shell.execute_reply": "2022-08-18T08:12:13.286187Z",
     "shell.execute_reply.started": "2022-08-18T08:12:13.282003Z"
    },
    "papermill": {
     "duration": 0.038753,
     "end_time": "2022-08-21T10:00:54.234128",
     "exception": false,
     "start_time": "2022-08-21T10:00:54.195375",
     "status": "completed"
    },
    "tags": []
   },
   "source": [
    "### One Way (only '_start')"
   ]
  },
  {
   "cell_type": "code",
   "execution_count": 68,
   "id": "7238dbe2",
   "metadata": {
    "execution": {
     "iopub.execute_input": "2022-08-21T10:00:54.309506Z",
     "iopub.status.busy": "2022-08-21T10:00:54.308705Z",
     "iopub.status.idle": "2022-08-21T10:00:54.771455Z",
     "shell.execute_reply": "2022-08-21T10:00:54.770078Z"
    },
    "papermill": {
     "duration": 0.503365,
     "end_time": "2022-08-21T10:00:54.774031",
     "exception": false,
     "start_time": "2022-08-21T10:00:54.270666",
     "status": "completed"
    },
    "tags": []
   },
   "outputs": [
    {
     "data": {
      "image/png": "[encoded data removed]",
      "text/plain": [
       "<Figure size 432x288 with 1 Axes>"
      ]
     },
     "metadata": {},
     "output_type": "display_data"
    }
   ],
   "source": [
    "temp_df2 = temp_df['_start'].where(temp_df['_start']['trip_route_category'] == \"One Way\").dropna()[['date_start', 'trip_route_category', 'Count']]\n",
    "temp_df2['30day_rolling_avg'] = temp_df2['Count'].rolling( 30).mean()\n",
    "#sns.set_style(\"whitegrid\")\n",
    "sns.lineplot(x=\"date_start\", y=\"Count\", data=temp_df['_start'].where(temp_df['_start']['trip_route_category'] == \"One Way\"), label='One Way')#, color='b')\n",
    "sns.lineplot(x=\"date_start\", y=\"30day_rolling_avg\", data=temp_df2, color='r', label='One Way (30day_rolling_avg)')\n",
    "plt.title(\"Viajes tipo 'One Way' por fecha (start)\")\n",
    "plt.ylim([0, 1000])\n",
    "plt.legend(loc = \"upper left\")\n",
    "plt.show()"
   ]
  },
  {
   "cell_type": "markdown",
   "id": "d9706129",
   "metadata": {
    "execution": {
     "iopub.execute_input": "2022-08-18T08:14:15.229587Z",
     "iopub.status.busy": "2022-08-18T08:14:15.229078Z",
     "iopub.status.idle": "2022-08-18T08:14:15.235327Z",
     "shell.execute_reply": "2022-08-18T08:14:15.234067Z",
     "shell.execute_reply.started": "2022-08-18T08:14:15.229538Z"
    },
    "papermill": {
     "duration": 0.03741,
     "end_time": "2022-08-21T10:00:54.848993",
     "exception": false,
     "start_time": "2022-08-21T10:00:54.811583",
     "status": "completed"
    },
    "tags": []
   },
   "source": [
    "### Round Trip (only '_start')"
   ]
  },
  {
   "cell_type": "code",
   "execution_count": 69,
   "id": "9924bb76",
   "metadata": {
    "execution": {
     "iopub.execute_input": "2022-08-21T10:00:54.925622Z",
     "iopub.status.busy": "2022-08-21T10:00:54.925230Z",
     "iopub.status.idle": "2022-08-21T10:00:55.395253Z",
     "shell.execute_reply": "2022-08-21T10:00:55.393993Z"
    },
    "papermill": {
     "duration": 0.511434,
     "end_time": "2022-08-21T10:00:55.397856",
     "exception": false,
     "start_time": "2022-08-21T10:00:54.886422",
     "status": "completed"
    },
    "tags": []
   },
   "outputs": [
    {
     "data": {
      "image/png": "[encoded data removed]",
      "text/plain": [
       "<Figure size 432x288 with 1 Axes>"
      ]
     },
     "metadata": {},
     "output_type": "display_data"
    }
   ],
   "source": [
    "temp_df2 = temp_df['_start'].where(temp_df['_start']['trip_route_category'] == \"Round Trip\").dropna()[['date_start', 'trip_route_category', 'Count']]\n",
    "temp_df2['30day_rolling_avg'] = temp_df2['Count'].rolling( 30).mean()\n",
    "#sns.set_style(\"whitegrid\")\n",
    "sns.lineplot(x=\"date_start\", y=\"Count\", data=temp_df['_start'].where(temp_df['_start']['trip_route_category'] == \"Round Trip\"), label='Round Trip')#, color='b')\n",
    "sns.lineplot(x=\"date_start\", y=\"30day_rolling_avg\", data=temp_df2, color='r', label='Round Trip (30day_rolling_avg)')\n",
    "plt.title(\"Viajes tipo 'Round Trip' por fecha (start)\")\n",
    "plt.ylim([0, 400])\n",
    "plt.legend(loc = \"upper left\")\n",
    "plt.show()"
   ]
  },
  {
   "cell_type": "markdown",
   "id": "32232653",
   "metadata": {
    "execution": {
     "iopub.execute_input": "2022-08-18T22:44:09.496212Z",
     "iopub.status.busy": "2022-08-18T22:44:09.495749Z",
     "iopub.status.idle": "2022-08-18T22:44:09.501896Z",
     "shell.execute_reply": "2022-08-18T22:44:09.500654Z",
     "shell.execute_reply.started": "2022-08-18T22:44:09.496169Z"
    },
    "papermill": {
     "duration": 0.038625,
     "end_time": "2022-08-21T10:00:55.475333",
     "exception": false,
     "start_time": "2022-08-21T10:00:55.436708",
     "status": "completed"
    },
    "tags": []
   },
   "source": [
    "## Por tipo de suscripción 'passholder_type' y por categoría de viaje 'trip_route_category' (only with 'start_station' trips)"
   ]
  },
  {
   "cell_type": "code",
   "execution_count": 70,
   "id": "e47e3070",
   "metadata": {
    "execution": {
     "iopub.execute_input": "2022-08-21T10:00:55.555108Z",
     "iopub.status.busy": "2022-08-21T10:00:55.554612Z",
     "iopub.status.idle": "2022-08-21T10:00:55.848229Z",
     "shell.execute_reply": "2022-08-21T10:00:55.847058Z"
    },
    "papermill": {
     "duration": 0.337099,
     "end_time": "2022-08-21T10:00:55.851136",
     "exception": false,
     "start_time": "2022-08-21T10:00:55.514037",
     "status": "completed"
    },
    "tags": []
   },
   "outputs": [],
   "source": [
    "temp_df = train_df[['passholder_type', 'trip_route_category', 'date_start']].groupby(['date_start', 'passholder_type', 'trip_route_category']).size().to_frame()\n",
    "temp_df.reset_index(inplace=True)\n",
    "temp_df.rename(columns = { 0:'Count'}, inplace = True)\n",
    "# One Way\n",
    "temp_df1 = temp_df.where(temp_df['trip_route_category'] == 'One Way').dropna()\n",
    "#temp_df1.reset_index(inplace = True)\n",
    "# Round Trip\n",
    "temp_df2 = temp_df.where(temp_df['trip_route_category'] == 'Round Trip').dropna()\n",
    "#temp_df2.reset_index(inplace = True)"
   ]
  },
  {
   "cell_type": "code",
   "execution_count": 71,
   "id": "d0b86b03",
   "metadata": {
    "execution": {
     "iopub.execute_input": "2022-08-21T10:00:55.931367Z",
     "iopub.status.busy": "2022-08-21T10:00:55.930926Z",
     "iopub.status.idle": "2022-08-21T10:00:56.671008Z",
     "shell.execute_reply": "2022-08-21T10:00:56.670080Z"
    },
    "papermill": {
     "duration": 0.783272,
     "end_time": "2022-08-21T10:00:56.673361",
     "exception": false,
     "start_time": "2022-08-21T10:00:55.890089",
     "status": "completed"
    },
    "tags": []
   },
   "outputs": [
    {
     "data": {
      "text/plain": [
       "(0.0, 500.0)"
      ]
     },
     "execution_count": 71,
     "metadata": {},
     "output_type": "execute_result"
    },
    {
     "data": {
      "image/png": "[encoded data removed]",
      "text/plain": [
       "<Figure size 432x288 with 1 Axes>"
      ]
     },
     "metadata": {},
     "output_type": "display_data"
    }
   ],
   "source": [
    "# One Way\n",
    "#sns.set_style(\"whitegrid\")\n",
    "sns.lineplot(x=\"date_start\", y=\"Count\", hue = 'passholder_type', data=temp_df1)\n",
    "plt.title(\"Viajes (One Way) por tipo de suscripción ('passholderr_type')\")\n",
    "plt.ylim([0, 500])"
   ]
  },
  {
   "cell_type": "code",
   "execution_count": 72,
   "id": "9137476b",
   "metadata": {
    "execution": {
     "iopub.execute_input": "2022-08-21T10:00:56.756840Z",
     "iopub.status.busy": "2022-08-21T10:00:56.756427Z",
     "iopub.status.idle": "2022-08-21T10:00:56.839961Z",
     "shell.execute_reply": "2022-08-21T10:00:56.838726Z"
    },
    "papermill": {
     "duration": 0.128674,
     "end_time": "2022-08-21T10:00:56.842736",
     "exception": false,
     "start_time": "2022-08-21T10:00:56.714062",
     "status": "completed"
    },
    "tags": []
   },
   "outputs": [],
   "source": [
    "temp_dict = {}\n",
    "for passType in temp_df1['passholder_type'].unique().tolist():\n",
    "    temp_dict[passType] = temp_df1.where(temp_df1['passholder_type'] == passType).dropna()[['date_start', 'Count']]\n",
    "    value = temp_df1.where(temp_df1['passholder_type'] == passType).dropna()['Count'].rolling( 30).mean()\n",
    "    temp_dict[passType].insert(loc = len(temp_dict[passType].columns), column = passType + '_30day_rolling_avg', value = value)"
   ]
  },
  {
   "cell_type": "code",
   "execution_count": 73,
   "id": "098e057a",
   "metadata": {
    "execution": {
     "iopub.execute_input": "2022-08-21T10:00:56.925063Z",
     "iopub.status.busy": "2022-08-21T10:00:56.923877Z",
     "iopub.status.idle": "2022-08-21T10:00:57.677129Z",
     "shell.execute_reply": "2022-08-21T10:00:57.675999Z"
    },
    "papermill": {
     "duration": 0.79686,
     "end_time": "2022-08-21T10:00:57.679612",
     "exception": false,
     "start_time": "2022-08-21T10:00:56.882752",
     "status": "completed"
    },
    "tags": []
   },
   "outputs": [
    {
     "data": {
      "image/png": "[encoded data removed]",
      "text/plain": [
       "<Figure size 432x288 with 1 Axes>"
      ]
     },
     "metadata": {},
     "output_type": "display_data"
    }
   ],
   "source": [
    "#sns.set_style(\"whitegrid\")\n",
    "for key in temp_dict.keys():\n",
    "    sns.lineplot(x = 'date_start', y = key + '_30day_rolling_avg', data = temp_dict[key], label = key)\n",
    "plt.title(\"Viajes tipo 'Round Trip' por fecha (start) \\n 30day_rolling_avg\")\n",
    "plt.ylim([0, 400])\n",
    "plt.legend(loc = \"upper left\")\n",
    "plt.show()"
   ]
  },
  {
   "cell_type": "markdown",
   "id": "a83b5fa9",
   "metadata": {
    "papermill": {
     "duration": 0.041324,
     "end_time": "2022-08-21T10:00:57.761397",
     "exception": false,
     "start_time": "2022-08-21T10:00:57.720073",
     "status": "completed"
    },
    "tags": []
   },
   "source": [
    "## Apuntes Finales\n",
    "\n",
    "La mayoría de los planes son \"Montly Pass\" (~56.60%) y \"Walk-up\" (~30.45%), faltó discriminar gráficas por plan por hora.\n",
    "\n",
    "La mayoría de los viajes son \"One Way\" (~83.11%)\n",
    "\n",
    "Las horas de mayor consumo son entre las 15 y 18 horas (One Way), a las 17 horas es el máximo.\n",
    "\n",
    "Los viajes Round Trip tienen una demanda relatvamente (con relación a la proporción de viajes) constante entre las 12 y las 18 horas.\n",
    "\n",
    "La proporción de viajes \"One Way\" va disminuyendo a lo largo de la semana, contrario a los viajes \"Round Trip\".\n",
    "\n",
    "Viernes es el día de la semana con mayor demanda.\n",
    "\n",
    "Existe una tendencia creciente de consumo en verano que alcanza su pico en Agosto donde disminuye abrubtamente y vuelve a aumentar de forma significativa en Octubre donde paulatinamente disminuye hasta finalizar el año.\n",
    "\n",
    "La premisa:\n",
    "\n",
    "\"Se tiene la intuición que la tendencia en uso de bicicletas compartidas entre estaciones va a la alta, por lo que se requiere realizar una correcta planificación de bicicletas que deben tener. Adicionalmente, se espera que los planes de consumo anual crezcan en mayor\n",
    "proporción.\" NO ES REAL a la luz del análisis visual de los datos. La tendencia de biciletas compartidas entre estaciones fue mayor desde el principio que la que no. De hecho, el comportamiento de los viajes a lo largo del tiempo está tendiendo a ir a la baja con ciclos periodicos de crecimiento pero  con picos (no sólo el pico) de consumo cada vez menores.\n",
    "Los dos principales planes de conusmo tienen un comportamiento similar en los últimos meses y con tendencia a la baja.\n",
    "\n",
    "Un enfoque que podría resolver el problema de optmización de biciletas en las diferentes estaciones con el objetivo de evitar que no se queden sin ellas se puede consuultar en el siguiente [link](https://www.researchgate.net/publication/329369086_OPTIMIZATION_OF_ATM_AND_BRANCH_CASH_OPERATIONS_USING_AN_INTEGRATED_CASH_REQUIREMENT_FORECASTING_AND_CASH_OPTIMIZATION_MODEL/ \"link\")"
   ]
  }
 ],
 "metadata": {
  "kernelspec": {
   "display_name": "Python 3",
   "language": "python",
   "name": "python3"
  },
  "language_info": {
   "codemirror_mode": {
    "name": "ipython",
    "version": 3
   },
   "file_extension": ".py",
   "mimetype": "text/x-python",
   "name": "python",
   "nbconvert_exporter": "python",
   "pygments_lexer": "ipython3",
   "version": "3.7.12"
  },
  "papermill": {
   "default_parameters": {},
   "duration": 289.048322,
   "end_time": "2022-08-21T10:00:59.027810",
   "environment_variables": {},
   "exception": null,
   "input_path": "__notebook__.ipynb",
   "output_path": "__notebook__.ipynb",
   "parameters": {},
   "start_time": "2022-08-21T09:56:09.979488",
   "version": "2.3.4"
  }
 },
 "nbformat": 4,
 "nbformat_minor": 5
}
